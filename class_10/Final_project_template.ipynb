{
  "cells": [
    {
      "cell_type": "markdown",
      "metadata": {
        "id": "a4u3AYTbHAAg"
      },
      "source": [
        "# Project Template: Regression Experiments using sentence embeddings\n",
        "\n",
        "ISE 201, section 33\n",
        "\n",
        "28 Mar 2024  JM Agosta\n",
        "\n",
        "_A template to follow for your final class project._\n",
        "\n",
        "Your presentation from this notebook should be divided into sections. Each section starts with a markdown cell that mentions the purpose of the following cells. Pls divide your computation into manageably sized cells. You can check intermediate results by an expression in the last line of the cell -- no need for a print function to enclose them.\n",
        "\n",
        "The goal of this project is to consolidate the work you've done over the past projects, to run a regression experiment using sentence embedding data. An experiment works by\n",
        "\n",
        "- picking an evaluation measure (a \"statistic\"),\n",
        "- running a baseline evaluation of the regression,\n",
        "- coming up with a presumed improvement to the regression that could be a generation or selection of features going into the regression,\n",
        "- making a comparative evaluation to see if the improvement is \"statistically\" significant.\n",
        "\n",
        "You can refer to the previous class notebooks that can be found on Google Drive, and feel free to share ideas that others have contributed in the class, that can be found in the notebooks they've shared.  \n",
        "\n",
        "Design your notebook, with sections and visualizations that are self-explanatory (label your graph axes!) so that you make the best use of the 8 minutes you'll have to present."
      ]
    },
    {
      "cell_type": "markdown",
      "source": [
        "## Setup. Import libraries.  Check if any need to be loaded that are missing."
      ],
      "metadata": {
        "id": "AG0ZzfHJgNe7"
      }
    },
    {
      "cell_type": "code",
      "execution_count": 229,
      "metadata": {
        "id": "ubqY17CEHAAh"
      },
      "outputs": [],
      "source": [
        "import pandas as pd\n",
        "import numpy as np\n",
        "import re, os\n",
        "# For vector norms, and determinants.\n",
        "import numpy.linalg as la\n",
        "# Plotting\n",
        "import matplotlib as plt\n",
        "import seaborn as sns\n",
        "\n",
        "# javascript plots\n",
        "from bokeh.plotting import figure, show\n",
        "from bokeh.models import BoxAnnotation, ColumnDataSource, VBar, Span, Legend\n",
        "from bokeh.io import output_notebook\n",
        "from bokeh.palettes import Category10\n",
        "output_notebook()\n",
        "\n",
        "import sklearn.linear_model as sl\n",
        "\n",
        "# Distributions\n",
        "from scipy.stats import norm\n",
        "\n",
        "# Principal component analysis\n",
        "from sklearn.decomposition import PCA, TruncatedSVD\n",
        "# The random number generator can be used to select a random set of columns for visualization\n",
        "from numpy.random import Generator, PCG64\n",
        "rng = Generator(PCG64())"
      ]
    },
    {
      "cell_type": "code",
      "source": [
        "# use statsmodels to compute OLS regression standard errors\n",
        "# since scikit learn doesn't compute them.\n",
        "# This update fails\n",
        "# os.system('python -m pip install git+https://github.com/statsmodels/statsmodels')\n",
        "import statsmodels.api as sm\n",
        "sm.__version__"
      ],
      "metadata": {
        "colab": {
          "base_uri": "https://localhost:8080/",
          "height": 36
        },
        "id": "akvJ6QHqNmoO",
        "outputId": "5a1dab1f-2819-4360-a89b-e610690f8877"
      },
      "execution_count": 230,
      "outputs": [
        {
          "output_type": "execute_result",
          "data": {
            "text/plain": [
              "'0.14.1'"
            ],
            "application/vnd.google.colaboratory.intrinsic+json": {
              "type": "string"
            }
          },
          "metadata": {},
          "execution_count": 230
        }
      ]
    },
    {
      "cell_type": "markdown",
      "source": [
        "### Set globals"
      ],
      "metadata": {
        "id": "JjFxeOzchIOd"
      }
    },
    {
      "cell_type": "code",
      "source": [
        "# Global variables\n",
        "EMBEDDING_DIMENSIONS = 384     # This model creates vectors of this length.\n",
        "TEST_SET_SIZE = 500\n",
        "BOOTSTRAP_RESAMPLES = 200\n",
        "RELOAD_PACKAGE = False         # Reload the embedding package"
      ],
      "metadata": {
        "id": "X8QnoPffll2S"
      },
      "execution_count": 231,
      "outputs": []
    },
    {
      "cell_type": "code",
      "source": [
        "# If you need to rerun the sentence embeddings transformer, you'll have to reload the package since\n",
        "# its not included in Colab.  Set RELOAD_PACKAGE to True to reload it.\n",
        "\n",
        "\n",
        "# We'll use this dataset of 3000 labeled text samples.\n",
        "# https://archive.ics.uci.edu/dataset/331/sentiment+labelled+sentences\n",
        "\n",
        "# For converting the text into vectors, use this llm package\n",
        "# See https://pypi.org/project/sentence-transformers/\n",
        "if RELOAD_PACKAGE:\n",
        "  try:\n",
        "      from sentence_transformers import SentenceTransformer\n",
        "  except:\n",
        "\n",
        "      os.system('python -m pip install sentence-transformers')\n",
        "      from sentence_transformers import SentenceTransformer\n",
        "\n"
      ],
      "metadata": {
        "id": "uyPFhh8zD_F8"
      },
      "execution_count": 232,
      "outputs": []
    },
    {
      "cell_type": "markdown",
      "source": [
        "## Load the data, and run the sentence tranformers on it, if needed\n",
        "\n",
        "If you're interested in looking at a larger set of 50,000 examples you can find them on the Kaggle site:\n",
        "\n",
        "We've been using the data set as indexed by embeddings from ---a set of 3,000 items from 3 different sources, - \"IMDB\", Amazon, and Yelp reviews, on which the 'all-MiniLM-L6-v2' sentenceTransformer model generates 384 features.\n",
        "\n",
        "If you need to download the dataset, go to:\n",
        "\n",
        "    https://archive.ics.uci.edu/dataset/331/sentiment+labelled+sentences\n",
        "\n",
        "If you want to use a larger set, here's an NLP data set from Kaggle  of 50,000 items.\n",
        "\n",
        "To download the dataset, go to:\n",
        "\n",
        "https://www.kaggle.com/datasets/lakshmi25npathi/imdb-dataset-of-50k-movie-reviews\n",
        "\n",
        "You would need to download the \"IMDB Dataset.csv\" file - 66.21MB\n"
      ],
      "metadata": {
        "id": "jx7TjFvegpBC"
      }
    },
    {
      "cell_type": "code",
      "source": [
        "# Run this if you want to run on Colab and use the already featurized data\n",
        "\n",
        "if not os.path.exists('/content/drive'):\n",
        "  from google.colab import drive\n",
        "  drive.mount('/content/drive/')\n",
        "os.chdir('/content/drive/MyDrive/ISE201/notebooks/data')\n",
        "os.listdir(os.getcwd())"
      ],
      "metadata": {
        "colab": {
          "base_uri": "https://localhost:8080/"
        },
        "id": "y65SiTmyGbTy",
        "outputId": "9e924c20-3132-4f82-c220-ffd2e0ba1398"
      },
      "execution_count": 233,
      "outputs": [
        {
          "output_type": "execute_result",
          "data": {
            "text/plain": [
              "['3000_sentence_embeddings.parquet']"
            ]
          },
          "metadata": {},
          "execution_count": 233
        }
      ]
    },
    {
      "cell_type": "code",
      "execution_count": 234,
      "metadata": {
        "id": "wHlu2c8QHAAh",
        "outputId": "ba2f66fe-1955-46e2-d566-a33d12757369",
        "colab": {
          "base_uri": "https://localhost:8080/"
        }
      },
      "outputs": [
        {
          "output_type": "execute_result",
          "data": {
            "text/plain": [
              "((2748, 3), (2748, 384), (2748,))"
            ]
          },
          "metadata": {},
          "execution_count": 234
        }
      ],
      "source": [
        "# Load the embedding vectors dataset\n",
        "if os.environ['HOME'] == '/Users/jma':\n",
        "    featurized_parquet_file = '/Users/jma/Library/CloudStorage/OneDrive-Personal/' +\\\n",
        "    'teaching/sjsu/ISE201/ISE 201 - Math Foundations for Decision and Data Science/embeddings/' +\\\n",
        "    'sentence_embeddings.parquet'\n",
        "else:\n",
        "  # Find the file on Googe Drive\n",
        "    featurized_parquet_file = './3000_sentence_embeddings.parquet'\n",
        "\n",
        "text_df = pd.read_parquet(featurized_parquet_file)\n",
        "\n",
        "# Extract the outcome y vector\n",
        "outcomes = text_df['sentiment'].values\n",
        "\n",
        "# Extract the vector field and expand it to multiple rows.\n",
        "n_samples, embedding_dim = text_df.shape\n",
        "data_ar = np.empty((n_samples, EMBEDDING_DIMENSIONS), 'float')\n",
        "for i in range(n_samples):\n",
        "    x = text_df.values[i,2]\n",
        "    data_ar[i] = x\n",
        "\n",
        "# Check the data shapes: raw NLP data, and itsEMB sentence embeddings, outocomes\n",
        "text_df.shape, data_ar.shape, outcomes.shape"
      ]
    },
    {
      "cell_type": "code",
      "source": [
        "# Split the data into a learning and holdout set\n",
        "# Create a random sample, with replacement\n",
        "sample_size = outcomes.shape[0]- TEST_SET_SIZE\n",
        "learning_set = np.random.choice(len(data_ar),\\\n",
        "                                sample_size,\\\n",
        "                                replace=False)\n",
        "learning_data = data_ar[learning_set,:]\n",
        "learning_outcome = text_df['sentiment'].values[learning_set]\n",
        "\n",
        "# Run predictions against a hold-out set\n",
        "not_learning_set = list(set(text_df.index).difference(set(learning_set)))\n",
        "holdout_data = data_ar[not_learning_set,:]\n",
        "# holdout_data = sm.add_constant(holdout_data)\n",
        "holdout_actuals = text_df['sentiment'].values[not_learning_set]\n",
        "len(learning_set), sample_size, learning_outcome.shape"
      ],
      "metadata": {
        "colab": {
          "base_uri": "https://localhost:8080/"
        },
        "id": "kIiEcWiIzqOA",
        "outputId": "ee98039c-4549-4754-fb96-7dad0bfce103"
      },
      "execution_count": 235,
      "outputs": [
        {
          "output_type": "execute_result",
          "data": {
            "text/plain": [
              "(2248, 2248, (2248,))"
            ]
          },
          "metadata": {},
          "execution_count": 235
        }
      ]
    },
    {
      "cell_type": "markdown",
      "source": [
        "## Pick an evaluation metric & create visualization graphics"
      ],
      "metadata": {
        "id": "AJj6dw2KmTyc"
      }
    },
    {
      "cell_type": "code",
      "source": [
        "# An in-sample metric\n",
        "def AIC(the_fit):\n",
        "  'Use this to compute AIC on different models.'\n",
        "  return 2* (the_fit.df_model+1) - 2*the_fit.llf\n",
        "\n",
        "# A metric that can be used in-sample or out-of-sample\n",
        "def one_zero_error(predicted, actual, test_threshold = 0.5):\n",
        "  'The predicted is a continuous value, so it needs to be thresholded. '\n",
        "  test_df = pd.DataFrame(dict(prediction=pd.Series(predicted >= test_threshold), actual=actual))\n",
        "  test_error = sum(test_df.prediction != actual)/len(actual)\n",
        "  return test_error"
      ],
      "metadata": {
        "id": "1f5enebaxAv-"
      },
      "execution_count": 236,
      "outputs": []
    },
    {
      "cell_type": "code",
      "source": [
        "# A plot that shows the difference between the normal approximation interval and an equivalent coverage empirical interval,\n",
        "\n",
        "def expand_range(low, high, by=2.0):\n",
        "    mid = (low + high)/2\n",
        "    half_width = by * abs(high - low)/2\n",
        "    return (mid - half_width, mid + half_width)\n",
        "\n",
        "# Compute two different interval estimates\n",
        "# The first assuming a normal distribution, using standard deviation\n",
        "# The second computing the equivalent quantiles 0.025 and 0.975, from the empirical data. Note: For extreme distributions, such as those on a closed or half interval, this may not be the best approximation\n",
        "def interval_estimate(data_list):\n",
        "    data_ar = np.array(data_list)\n",
        "    mn = data_ar.mean()\n",
        "    sd = data_ar.std()\n",
        "    return {'mean': mn, 'sd': sd,\n",
        "        'normal_interval': (mn-1.96*sd, mn+1.96*sd),\n",
        "            'quantile_interval': (np.percentile(data_ar, 2.5), np.percentile(data_ar, 97.5))}\n",
        "\n",
        "def plot_intervals(the_sample, bin_ct = 50, subtitle = ''):\n",
        "    normal_approx = interval_estimate(the_sample)\n",
        "    lower_limit = min(normal_approx['normal_interval'][0], normal_approx['quantile_interval'][0])\n",
        "    upper_limit = max(normal_approx['normal_interval'][1], normal_approx['quantile_interval'][1])\n",
        "    lower_plot_limit, upper_plot_limit = expand_range(lower_limit, upper_limit)\n",
        "    print('Limits ', lower_plot_limit, upper_plot_limit)\n",
        "    p = figure(width = 800, height = 300, x_range = (lower_plot_limit,  upper_plot_limit ), title='Normal versus Empirical Bootstrap Interval Estimates.\\n' + subtitle)\n",
        "\n",
        "    hist, bin_edges = np.histogram(the_sample, bins=bin_ct, density=True)\n",
        "    hist_df = pd.DataFrame(dict(density=hist, rv= bin_edges[:-1]), columns=['rv', 'density'])\n",
        "    # Shade the background corresponding to the normal interval\n",
        "    box = BoxAnnotation(left=normal_approx['normal_interval'][0], right=normal_approx['normal_interval'][1], bottom=0, top=max(1, max(hist)), fill_alpha=0.2, fill_color='#D55E00')\n",
        "    p.add_layout(box)\n",
        "    bar_width = (bin_edges[-1] - bin_edges[0])/bin_ct\n",
        "    hist_src = ColumnDataSource(hist_df)\n",
        "\n",
        "    glyph = VBar(x='rv', top='density', bottom=0, width=bar_width, fill_color='limegreen')\n",
        "    p.add_glyph(hist_src, glyph)\n",
        "    # Overlay a selection of the histogram within the estimate interval\n",
        "    interval_src = ColumnDataSource(hist_df[(hist_df.rv > normal_approx['quantile_interval'][0]) & (hist_df.rv < normal_approx['quantile_interval'][1])])\n",
        "    glyph = VBar(x='rv', top='density', bottom=0, width=bar_width, fill_color='darkgreen')\n",
        "    p.add_glyph(interval_src, glyph)\n",
        "    # Overlay the normal distribution within the interval.\n",
        "    x = np.linspace(normal_approx['normal_interval'][0], normal_approx['normal_interval'][1])\n",
        "    p.line(x=x, y=norm.pdf(x, loc= normal_approx['mean'], scale = normal_approx['sd']))\n",
        "    return p"
      ],
      "metadata": {
        "id": "3GN786rrvOCb"
      },
      "execution_count": 237,
      "outputs": []
    },
    {
      "cell_type": "markdown",
      "source": [
        "## Run the baseline regression"
      ],
      "metadata": {
        "id": "S2gE-F-Pmimt"
      }
    },
    {
      "cell_type": "code",
      "source": [
        "# Run an OLS regression on the full data.\n",
        "def regress(y, X):\n",
        "  design_matrix = X # sm.add_constant(X)\n",
        "  ols_model = sm.OLS(y, design_matrix)\n",
        "  #print(ols_model.fit().summary())\n",
        "  return ols_model.fit()\n",
        "\n",
        "def print_eval_summary(the_fit):\n",
        "  # Just show the evaluation table, without coefs (tables[1] give coefs)\n",
        "  s = the_fit.summary()\n",
        "  print (s.tables[0])\n",
        "  return None"
      ],
      "metadata": {
        "id": "mdfQXzlbwsYB"
      },
      "execution_count": 238,
      "outputs": []
    },
    {
      "cell_type": "code",
      "source": [
        "fit = regress(outcomes, data_ar)\n",
        "print_eval_summary(fit)\n",
        "'AIC: ', AIC(fit)"
      ],
      "metadata": {
        "colab": {
          "base_uri": "https://localhost:8080/"
        },
        "id": "D8-Zbopew7Fh",
        "outputId": "0ac699f4-1cd3-458a-c968-58a83b02aab9"
      },
      "execution_count": 239,
      "outputs": [
        {
          "output_type": "stream",
          "name": "stdout",
          "text": [
            "                                 OLS Regression Results                                \n",
            "=======================================================================================\n",
            "Dep. Variable:                      y   R-squared (uncentered):                   0.849\n",
            "Model:                            OLS   Adj. R-squared (uncentered):              0.825\n",
            "Method:                 Least Squares   F-statistic:                              34.85\n",
            "Date:                Sat, 30 Mar 2024   Prob (F-statistic):                        0.00\n",
            "Time:                        05:22:04   Log-Likelihood:                         -360.32\n",
            "No. Observations:                2748   AIC:                                      1485.\n",
            "Df Residuals:                    2366   BIC:                                      3746.\n",
            "Df Model:                         382                                                  \n",
            "Covariance Type:            nonrobust                                                  \n",
            "=======================================================================================\n"
          ]
        },
        {
          "output_type": "execute_result",
          "data": {
            "text/plain": [
              "('AIC: ', 1486.6478837927152)"
            ]
          },
          "metadata": {},
          "execution_count": 239
        }
      ]
    },
    {
      "cell_type": "code",
      "source": [
        "# Compute in-sample error\n",
        "one_zero_error(fit.predict(), outcomes, test_threshold = 0.5)"
      ],
      "metadata": {
        "colab": {
          "base_uri": "https://localhost:8080/"
        },
        "id": "J9hZl7tRldnp",
        "outputId": "6f5f15a6-73f6-407c-ea6b-3d23d4edcc25"
      },
      "execution_count": 240,
      "outputs": [
        {
          "output_type": "execute_result",
          "data": {
            "text/plain": [
              "0.06841339155749636"
            ]
          },
          "metadata": {},
          "execution_count": 240
        }
      ]
    },
    {
      "cell_type": "markdown",
      "source": [
        "## An example Interval estimate for out-of-sample 0-1 error via Bootstrap re-sampling"
      ],
      "metadata": {
        "id": "oScwVPdsxRb4"
      }
    },
    {
      "cell_type": "code",
      "source": [
        "# Create a large number of bootstrap replications\n",
        "\n",
        "def bootstrap_replicates(the_sample, B=BOOTSTRAP_RESAMPLES):\n",
        "    replicates = np.zeros((len(the_sample), B), dtype='int')\n",
        "    for k in range(B):\n",
        "        replicates[:,k] = np.random.choice(the_sample, len(the_sample), replace=True).astype('int')\n",
        "    return replicates\n",
        "\n",
        "resamplings = bootstrap_replicates(list(range(sample_size)))\n",
        "resamplings.shape"
      ],
      "metadata": {
        "colab": {
          "base_uri": "https://localhost:8080/"
        },
        "id": "B0o1MNDhg6Jq",
        "outputId": "04c5f2d2-7379-4015-b188-554d77cd15c9"
      },
      "execution_count": 241,
      "outputs": [
        {
          "output_type": "execute_result",
          "data": {
            "text/plain": [
              "(2248, 200)"
            ]
          },
          "metadata": {},
          "execution_count": 241
        }
      ]
    },
    {
      "cell_type": "code",
      "source": [
        "# Bootstrap the zero-one error on a hold-out set.\n",
        "\n",
        "# Create a large number of bootstrap replications\n",
        "resampled_errors = np.zeros(BOOTSTRAP_RESAMPLES)\n",
        "\n",
        "# Retrain the model on the resampled learning set,\n",
        "# and compute the hold-out set error for each resample\n",
        "print('learning AIC: ')\n",
        "for k in range(BOOTSTRAP_RESAMPLES):\n",
        "  resampled_data  = learning_data[resamplings[:,k],:] #[resamplings[:,k],:]\n",
        "  retraining_fit = regress(learning_outcome[resamplings[:,k]], resampled_data) # [resamplings[:,k]], resampled_data)\n",
        "  print(AIC(retraining_fit), end=', ')\n",
        "\n",
        "\n",
        "  # Predict on the hold-out set\n",
        "  hold_out_predict = retraining_fit.predict(holdout_data)\n",
        "  resampled_errors[k] = one_zero_error(hold_out_predict, holdout_actuals)\n"
      ],
      "metadata": {
        "colab": {
          "base_uri": "https://localhost:8080/"
        },
        "id": "PkrlDlT6xLen",
        "outputId": "225e88ce-3a89-4209-f293-f4201e95aaff"
      },
      "execution_count": 224,
      "outputs": [
        {
          "output_type": "stream",
          "name": "stdout",
          "text": [
            "learning AIC: \n",
            "820.5940694308738, 996.9854574322089, 855.1051770412487, 801.3387115882633, 811.3364580079442, 948.486844398557, 785.4408160581452, 847.7226041245776, 936.8544080094407, 893.2464042715173, 905.3592927112895, 933.2542854999092, 811.0524741100744, 812.8359526518661, 825.8616101995831, 1029.6701864565293, 851.7223093523389, 821.6344778392631, 791.4813600270472, 786.6576783291994, 810.7910403809747, 897.0395060005894, 874.84331183427, 914.4149962096135, 746.2675010529356, 849.4826067610029, 728.5723307139906, 1065.983898592307, 967.1680043341348, 929.1799780899519, 941.8000595463509, 831.707085438301, 904.7196224553827, 907.3084737619502, 846.4245778417708, 923.5466528694633, 848.7103406599426, 746.1561692841933, 927.5219781168698, 855.942787040578, 862.6805067199512, 1006.9787061853967, 803.3588636928926, 904.999898219362, 813.1551033758824, 906.7633413904341, 790.3843372071706, 763.6861741319199, 854.5202086112904, 856.8403927286354, 675.846441884325, 1069.7570656503085, 732.1774157654427, 926.4570106648753, 815.7156442242258, 915.9028150891936, 793.2088640857082, 771.9064587581324, 782.1134804647263, 989.1210639660412, 847.1012637955901, 841.4649223356173, 974.7170123010501, 875.7483811785423, 870.4671166777716, 977.5731489936534, 901.8356373876559, 917.0164896913357, 915.7774613626643, 827.6834331606096, 797.1535504451258, 678.5963105963101, 1015.6561713041956, 982.7354797822754, 802.8549748952919, 962.4918592989425, 868.7045270828339, 654.973881813793, 765.2872327580772, 979.3410062515413, 742.7705801158118, 668.3672802203309, 1004.084897328893, 902.0521351918751, 814.9564496615712, 891.3331403146412, 830.2012506131432, 821.1607309799156, 805.6413631068672, 761.869638774956, 681.9274235948287, 739.6280902675444, 882.9858205561077, 939.9655932494798, 905.0127331522317, 793.7616944811534, 936.6439773375996, 906.9564680906096, 899.3897053742949, 779.0968195365522, 856.5991745538977, 739.3927496448878, 998.5187624120736, 763.6432921852711, 590.4793797802113, 816.6847191758488, 958.1581133328764, 963.5880761990984, 863.5830235772764, 858.7577016814221, 924.3397756214345, 853.7039284799084, 1087.4227792252286, 955.7133689481843, 868.4355967073798, 797.043361214648, 908.779015088141, 873.847100902025, 830.4541815826715, 836.3811528596034, 882.2681234925885, 878.8358789741897, 819.0343849375886, 780.8031309033731, 972.2578172744807, 923.0363885571551, 796.2153512523882, 899.1051366926604, 922.6424791759491, 842.3565104691306, 749.7875600744292, 789.5019746485568, 822.655198990893, 813.3869889538628, 869.1228563605364, 945.2033111640112, 908.8063574288553, 763.1035758989265, 854.4517263396856, 855.9090557365826, 853.7551614539898, 859.2826800297125, 804.1400230278841, 733.8464806972661, 758.7618244971127, 722.9678740987074, 862.4157562998398, 852.8993725939708, 897.9353769205763, 848.1191720390016, 760.6617632055504, 801.888716218833, 751.2390529745089, 1008.4579189496362, 831.0832425505241, 804.4005573453233, 678.7625384980729, 853.1243996161484, 984.3012733185442, 756.6894661156375, 852.5493882120127, 761.8143028328886, 934.808796877488, 823.4924798501916, 960.3222490570533, 875.1517294513251, 773.7582437616802, 887.2828048977426, 953.3261598583085, 951.7307734201495, 770.93981297146, 964.2718301800332, 833.4301216954245, 813.4581608046528, 642.0839639491787, 917.2477132941503, 885.2627119366762, 826.8124362786966, 883.4215332976246, 699.2203402250343, 835.0706852072908, 858.7778037582248, 890.164320478124, 752.583316880543, 835.7789962777779, 728.9178515287358, 737.3887346704378, 978.2660871762919, 788.9856219884477, 978.8381134570918, 927.5490325193687, 943.7243706563986, 745.360714680578, 937.4432804110957, 779.4082012517874, 840.3380095078737, 873.3983572687366, 777.085902439112, 870.532780725699, 907.6436567365618, "
          ]
        }
      ]
    },
    {
      "cell_type": "code",
      "source": [
        "# What to the bootstrap errors look like?\n",
        "pd.DataFrame(resampled_errors).describe()"
      ],
      "metadata": {
        "colab": {
          "base_uri": "https://localhost:8080/",
          "height": 300
        },
        "id": "vC0ptqMwxiuL",
        "outputId": "613d0fd0-ab98-4218-b835-e521553f87b6"
      },
      "execution_count": 225,
      "outputs": [
        {
          "output_type": "execute_result",
          "data": {
            "text/plain": [
              "                0\n",
              "count  200.000000\n",
              "mean     0.154195\n",
              "std      0.019573\n",
              "min      0.091954\n",
              "25%      0.143678\n",
              "50%      0.155172\n",
              "75%      0.166667\n",
              "max      0.212644"
            ],
            "text/html": [
              "\n",
              "  <div id=\"df-488305e1-6257-4e34-8eee-a6250e749153\" class=\"colab-df-container\">\n",
              "    <div>\n",
              "<style scoped>\n",
              "    .dataframe tbody tr th:only-of-type {\n",
              "        vertical-align: middle;\n",
              "    }\n",
              "\n",
              "    .dataframe tbody tr th {\n",
              "        vertical-align: top;\n",
              "    }\n",
              "\n",
              "    .dataframe thead th {\n",
              "        text-align: right;\n",
              "    }\n",
              "</style>\n",
              "<table border=\"1\" class=\"dataframe\">\n",
              "  <thead>\n",
              "    <tr style=\"text-align: right;\">\n",
              "      <th></th>\n",
              "      <th>0</th>\n",
              "    </tr>\n",
              "  </thead>\n",
              "  <tbody>\n",
              "    <tr>\n",
              "      <th>count</th>\n",
              "      <td>200.000000</td>\n",
              "    </tr>\n",
              "    <tr>\n",
              "      <th>mean</th>\n",
              "      <td>0.154195</td>\n",
              "    </tr>\n",
              "    <tr>\n",
              "      <th>std</th>\n",
              "      <td>0.019573</td>\n",
              "    </tr>\n",
              "    <tr>\n",
              "      <th>min</th>\n",
              "      <td>0.091954</td>\n",
              "    </tr>\n",
              "    <tr>\n",
              "      <th>25%</th>\n",
              "      <td>0.143678</td>\n",
              "    </tr>\n",
              "    <tr>\n",
              "      <th>50%</th>\n",
              "      <td>0.155172</td>\n",
              "    </tr>\n",
              "    <tr>\n",
              "      <th>75%</th>\n",
              "      <td>0.166667</td>\n",
              "    </tr>\n",
              "    <tr>\n",
              "      <th>max</th>\n",
              "      <td>0.212644</td>\n",
              "    </tr>\n",
              "  </tbody>\n",
              "</table>\n",
              "</div>\n",
              "    <div class=\"colab-df-buttons\">\n",
              "\n",
              "  <div class=\"colab-df-container\">\n",
              "    <button class=\"colab-df-convert\" onclick=\"convertToInteractive('df-488305e1-6257-4e34-8eee-a6250e749153')\"\n",
              "            title=\"Convert this dataframe to an interactive table.\"\n",
              "            style=\"display:none;\">\n",
              "\n",
              "  <svg xmlns=\"http://www.w3.org/2000/svg\" height=\"24px\" viewBox=\"0 -960 960 960\">\n",
              "    <path d=\"M120-120v-720h720v720H120Zm60-500h600v-160H180v160Zm220 220h160v-160H400v160Zm0 220h160v-160H400v160ZM180-400h160v-160H180v160Zm440 0h160v-160H620v160ZM180-180h160v-160H180v160Zm440 0h160v-160H620v160Z\"/>\n",
              "  </svg>\n",
              "    </button>\n",
              "\n",
              "  <style>\n",
              "    .colab-df-container {\n",
              "      display:flex;\n",
              "      gap: 12px;\n",
              "    }\n",
              "\n",
              "    .colab-df-convert {\n",
              "      background-color: #E8F0FE;\n",
              "      border: none;\n",
              "      border-radius: 50%;\n",
              "      cursor: pointer;\n",
              "      display: none;\n",
              "      fill: #1967D2;\n",
              "      height: 32px;\n",
              "      padding: 0 0 0 0;\n",
              "      width: 32px;\n",
              "    }\n",
              "\n",
              "    .colab-df-convert:hover {\n",
              "      background-color: #E2EBFA;\n",
              "      box-shadow: 0px 1px 2px rgba(60, 64, 67, 0.3), 0px 1px 3px 1px rgba(60, 64, 67, 0.15);\n",
              "      fill: #174EA6;\n",
              "    }\n",
              "\n",
              "    .colab-df-buttons div {\n",
              "      margin-bottom: 4px;\n",
              "    }\n",
              "\n",
              "    [theme=dark] .colab-df-convert {\n",
              "      background-color: #3B4455;\n",
              "      fill: #D2E3FC;\n",
              "    }\n",
              "\n",
              "    [theme=dark] .colab-df-convert:hover {\n",
              "      background-color: #434B5C;\n",
              "      box-shadow: 0px 1px 3px 1px rgba(0, 0, 0, 0.15);\n",
              "      filter: drop-shadow(0px 1px 2px rgba(0, 0, 0, 0.3));\n",
              "      fill: #FFFFFF;\n",
              "    }\n",
              "  </style>\n",
              "\n",
              "    <script>\n",
              "      const buttonEl =\n",
              "        document.querySelector('#df-488305e1-6257-4e34-8eee-a6250e749153 button.colab-df-convert');\n",
              "      buttonEl.style.display =\n",
              "        google.colab.kernel.accessAllowed ? 'block' : 'none';\n",
              "\n",
              "      async function convertToInteractive(key) {\n",
              "        const element = document.querySelector('#df-488305e1-6257-4e34-8eee-a6250e749153');\n",
              "        const dataTable =\n",
              "          await google.colab.kernel.invokeFunction('convertToInteractive',\n",
              "                                                    [key], {});\n",
              "        if (!dataTable) return;\n",
              "\n",
              "        const docLinkHtml = 'Like what you see? Visit the ' +\n",
              "          '<a target=\"_blank\" href=https://colab.research.google.com/notebooks/data_table.ipynb>data table notebook</a>'\n",
              "          + ' to learn more about interactive tables.';\n",
              "        element.innerHTML = '';\n",
              "        dataTable['output_type'] = 'display_data';\n",
              "        await google.colab.output.renderOutput(dataTable, element);\n",
              "        const docLink = document.createElement('div');\n",
              "        docLink.innerHTML = docLinkHtml;\n",
              "        element.appendChild(docLink);\n",
              "      }\n",
              "    </script>\n",
              "  </div>\n",
              "\n",
              "\n",
              "<div id=\"df-70c42c5b-ac1d-471d-8bc7-6747dfeef19e\">\n",
              "  <button class=\"colab-df-quickchart\" onclick=\"quickchart('df-70c42c5b-ac1d-471d-8bc7-6747dfeef19e')\"\n",
              "            title=\"Suggest charts\"\n",
              "            style=\"display:none;\">\n",
              "\n",
              "<svg xmlns=\"http://www.w3.org/2000/svg\" height=\"24px\"viewBox=\"0 0 24 24\"\n",
              "     width=\"24px\">\n",
              "    <g>\n",
              "        <path d=\"M19 3H5c-1.1 0-2 .9-2 2v14c0 1.1.9 2 2 2h14c1.1 0 2-.9 2-2V5c0-1.1-.9-2-2-2zM9 17H7v-7h2v7zm4 0h-2V7h2v10zm4 0h-2v-4h2v4z\"/>\n",
              "    </g>\n",
              "</svg>\n",
              "  </button>\n",
              "\n",
              "<style>\n",
              "  .colab-df-quickchart {\n",
              "      --bg-color: #E8F0FE;\n",
              "      --fill-color: #1967D2;\n",
              "      --hover-bg-color: #E2EBFA;\n",
              "      --hover-fill-color: #174EA6;\n",
              "      --disabled-fill-color: #AAA;\n",
              "      --disabled-bg-color: #DDD;\n",
              "  }\n",
              "\n",
              "  [theme=dark] .colab-df-quickchart {\n",
              "      --bg-color: #3B4455;\n",
              "      --fill-color: #D2E3FC;\n",
              "      --hover-bg-color: #434B5C;\n",
              "      --hover-fill-color: #FFFFFF;\n",
              "      --disabled-bg-color: #3B4455;\n",
              "      --disabled-fill-color: #666;\n",
              "  }\n",
              "\n",
              "  .colab-df-quickchart {\n",
              "    background-color: var(--bg-color);\n",
              "    border: none;\n",
              "    border-radius: 50%;\n",
              "    cursor: pointer;\n",
              "    display: none;\n",
              "    fill: var(--fill-color);\n",
              "    height: 32px;\n",
              "    padding: 0;\n",
              "    width: 32px;\n",
              "  }\n",
              "\n",
              "  .colab-df-quickchart:hover {\n",
              "    background-color: var(--hover-bg-color);\n",
              "    box-shadow: 0 1px 2px rgba(60, 64, 67, 0.3), 0 1px 3px 1px rgba(60, 64, 67, 0.15);\n",
              "    fill: var(--button-hover-fill-color);\n",
              "  }\n",
              "\n",
              "  .colab-df-quickchart-complete:disabled,\n",
              "  .colab-df-quickchart-complete:disabled:hover {\n",
              "    background-color: var(--disabled-bg-color);\n",
              "    fill: var(--disabled-fill-color);\n",
              "    box-shadow: none;\n",
              "  }\n",
              "\n",
              "  .colab-df-spinner {\n",
              "    border: 2px solid var(--fill-color);\n",
              "    border-color: transparent;\n",
              "    border-bottom-color: var(--fill-color);\n",
              "    animation:\n",
              "      spin 1s steps(1) infinite;\n",
              "  }\n",
              "\n",
              "  @keyframes spin {\n",
              "    0% {\n",
              "      border-color: transparent;\n",
              "      border-bottom-color: var(--fill-color);\n",
              "      border-left-color: var(--fill-color);\n",
              "    }\n",
              "    20% {\n",
              "      border-color: transparent;\n",
              "      border-left-color: var(--fill-color);\n",
              "      border-top-color: var(--fill-color);\n",
              "    }\n",
              "    30% {\n",
              "      border-color: transparent;\n",
              "      border-left-color: var(--fill-color);\n",
              "      border-top-color: var(--fill-color);\n",
              "      border-right-color: var(--fill-color);\n",
              "    }\n",
              "    40% {\n",
              "      border-color: transparent;\n",
              "      border-right-color: var(--fill-color);\n",
              "      border-top-color: var(--fill-color);\n",
              "    }\n",
              "    60% {\n",
              "      border-color: transparent;\n",
              "      border-right-color: var(--fill-color);\n",
              "    }\n",
              "    80% {\n",
              "      border-color: transparent;\n",
              "      border-right-color: var(--fill-color);\n",
              "      border-bottom-color: var(--fill-color);\n",
              "    }\n",
              "    90% {\n",
              "      border-color: transparent;\n",
              "      border-bottom-color: var(--fill-color);\n",
              "    }\n",
              "  }\n",
              "</style>\n",
              "\n",
              "  <script>\n",
              "    async function quickchart(key) {\n",
              "      const quickchartButtonEl =\n",
              "        document.querySelector('#' + key + ' button');\n",
              "      quickchartButtonEl.disabled = true;  // To prevent multiple clicks.\n",
              "      quickchartButtonEl.classList.add('colab-df-spinner');\n",
              "      try {\n",
              "        const charts = await google.colab.kernel.invokeFunction(\n",
              "            'suggestCharts', [key], {});\n",
              "      } catch (error) {\n",
              "        console.error('Error during call to suggestCharts:', error);\n",
              "      }\n",
              "      quickchartButtonEl.classList.remove('colab-df-spinner');\n",
              "      quickchartButtonEl.classList.add('colab-df-quickchart-complete');\n",
              "    }\n",
              "    (() => {\n",
              "      let quickchartButtonEl =\n",
              "        document.querySelector('#df-70c42c5b-ac1d-471d-8bc7-6747dfeef19e button');\n",
              "      quickchartButtonEl.style.display =\n",
              "        google.colab.kernel.accessAllowed ? 'block' : 'none';\n",
              "    })();\n",
              "  </script>\n",
              "</div>\n",
              "    </div>\n",
              "  </div>\n"
            ],
            "application/vnd.google.colaboratory.intrinsic+json": {
              "type": "dataframe",
              "summary": "{\n  \"name\": \"pd\",\n  \"rows\": 8,\n  \"fields\": [\n    {\n      \"column\": 0,\n      \"properties\": {\n        \"dtype\": \"number\",\n        \"std\": 70.66302810613838,\n        \"min\": 0.019573244150027282,\n        \"max\": 200.0,\n        \"num_unique_values\": 8,\n        \"samples\": [\n          0.15419540229885056,\n          0.15517241379310345,\n          200.0\n        ],\n        \"semantic_type\": \"\",\n        \"description\": \"\"\n      }\n    }\n  ]\n}"
            }
          },
          "metadata": {},
          "execution_count": 225
        }
      ]
    },
    {
      "cell_type": "code",
      "source": [
        "#Plot the error distribution, and compute the interval estimate limit.\n",
        "p = plot_intervals(resampled_errors)\n",
        "show(p)"
      ],
      "metadata": {
        "colab": {
          "base_uri": "https://localhost:8080/",
          "height": 334
        },
        "id": "lb0SBDB9vkmv",
        "outputId": "c579ba54-15b4-49b9-f49e-2a73bbbd1939"
      },
      "execution_count": 226,
      "outputs": [
        {
          "output_type": "stream",
          "name": "stdout",
          "text": [
            "Limits  0.07766034339696512 0.230730461200736\n"
          ]
        },
        {
          "output_type": "display_data",
          "data": {
            "application/javascript": [
              "(function(root) {\n",
              "  function now() {\n",
              "    return new Date();\n",
              "  }\n",
              "\n",
              "  const force = true;\n",
              "\n",
              "  if (typeof root._bokeh_onload_callbacks === \"undefined\" || force === true) {\n",
              "    root._bokeh_onload_callbacks = [];\n",
              "    root._bokeh_is_loading = undefined;\n",
              "  }\n",
              "\n",
              "const JS_MIME_TYPE = 'application/javascript';\n",
              "  const HTML_MIME_TYPE = 'text/html';\n",
              "  const EXEC_MIME_TYPE = 'application/vnd.bokehjs_exec.v0+json';\n",
              "  const CLASS_NAME = 'output_bokeh rendered_html';\n",
              "\n",
              "  /**\n",
              "   * Render data to the DOM node\n",
              "   */\n",
              "  function render(props, node) {\n",
              "    const script = document.createElement(\"script\");\n",
              "    node.appendChild(script);\n",
              "  }\n",
              "\n",
              "  /**\n",
              "   * Handle when an output is cleared or removed\n",
              "   */\n",
              "  function handleClearOutput(event, handle) {\n",
              "    function drop(id) {\n",
              "      const view = Bokeh.index.get_by_id(id)\n",
              "      if (view != null) {\n",
              "        view.model.document.clear()\n",
              "        Bokeh.index.delete(view)\n",
              "      }\n",
              "    }\n",
              "\n",
              "    const cell = handle.cell;\n",
              "\n",
              "    const id = cell.output_area._bokeh_element_id;\n",
              "    const server_id = cell.output_area._bokeh_server_id;\n",
              "\n",
              "    // Clean up Bokeh references\n",
              "    if (id != null) {\n",
              "      drop(id)\n",
              "    }\n",
              "\n",
              "    if (server_id !== undefined) {\n",
              "      // Clean up Bokeh references\n",
              "      const cmd_clean = \"from bokeh.io.state import curstate; print(curstate().uuid_to_server['\" + server_id + \"'].get_sessions()[0].document.roots[0]._id)\";\n",
              "      cell.notebook.kernel.execute(cmd_clean, {\n",
              "        iopub: {\n",
              "          output: function(msg) {\n",
              "            const id = msg.content.text.trim()\n",
              "            drop(id)\n",
              "          }\n",
              "        }\n",
              "      });\n",
              "      // Destroy server and session\n",
              "      const cmd_destroy = \"import bokeh.io.notebook as ion; ion.destroy_server('\" + server_id + \"')\";\n",
              "      cell.notebook.kernel.execute(cmd_destroy);\n",
              "    }\n",
              "  }\n",
              "\n",
              "  /**\n",
              "   * Handle when a new output is added\n",
              "   */\n",
              "  function handleAddOutput(event, handle) {\n",
              "    const output_area = handle.output_area;\n",
              "    const output = handle.output;\n",
              "\n",
              "    // limit handleAddOutput to display_data with EXEC_MIME_TYPE content only\n",
              "    if ((output.output_type != \"display_data\") || (!Object.prototype.hasOwnProperty.call(output.data, EXEC_MIME_TYPE))) {\n",
              "      return\n",
              "    }\n",
              "\n",
              "    const toinsert = output_area.element.find(\".\" + CLASS_NAME.split(' ')[0]);\n",
              "\n",
              "    if (output.metadata[EXEC_MIME_TYPE][\"id\"] !== undefined) {\n",
              "      toinsert[toinsert.length - 1].firstChild.textContent = output.data[JS_MIME_TYPE];\n",
              "      // store reference to embed id on output_area\n",
              "      output_area._bokeh_element_id = output.metadata[EXEC_MIME_TYPE][\"id\"];\n",
              "    }\n",
              "    if (output.metadata[EXEC_MIME_TYPE][\"server_id\"] !== undefined) {\n",
              "      const bk_div = document.createElement(\"div\");\n",
              "      bk_div.innerHTML = output.data[HTML_MIME_TYPE];\n",
              "      const script_attrs = bk_div.children[0].attributes;\n",
              "      for (let i = 0; i < script_attrs.length; i++) {\n",
              "        toinsert[toinsert.length - 1].firstChild.setAttribute(script_attrs[i].name, script_attrs[i].value);\n",
              "        toinsert[toinsert.length - 1].firstChild.textContent = bk_div.children[0].textContent\n",
              "      }\n",
              "      // store reference to server id on output_area\n",
              "      output_area._bokeh_server_id = output.metadata[EXEC_MIME_TYPE][\"server_id\"];\n",
              "    }\n",
              "  }\n",
              "\n",
              "  function register_renderer(events, OutputArea) {\n",
              "\n",
              "    function append_mime(data, metadata, element) {\n",
              "      // create a DOM node to render to\n",
              "      const toinsert = this.create_output_subarea(\n",
              "        metadata,\n",
              "        CLASS_NAME,\n",
              "        EXEC_MIME_TYPE\n",
              "      );\n",
              "      this.keyboard_manager.register_events(toinsert);\n",
              "      // Render to node\n",
              "      const props = {data: data, metadata: metadata[EXEC_MIME_TYPE]};\n",
              "      render(props, toinsert[toinsert.length - 1]);\n",
              "      element.append(toinsert);\n",
              "      return toinsert\n",
              "    }\n",
              "\n",
              "    /* Handle when an output is cleared or removed */\n",
              "    events.on('clear_output.CodeCell', handleClearOutput);\n",
              "    events.on('delete.Cell', handleClearOutput);\n",
              "\n",
              "    /* Handle when a new output is added */\n",
              "    events.on('output_added.OutputArea', handleAddOutput);\n",
              "\n",
              "    /**\n",
              "     * Register the mime type and append_mime function with output_area\n",
              "     */\n",
              "    OutputArea.prototype.register_mime_type(EXEC_MIME_TYPE, append_mime, {\n",
              "      /* Is output safe? */\n",
              "      safe: true,\n",
              "      /* Index of renderer in `output_area.display_order` */\n",
              "      index: 0\n",
              "    });\n",
              "  }\n",
              "\n",
              "  // register the mime type if in Jupyter Notebook environment and previously unregistered\n",
              "  if (root.Jupyter !== undefined) {\n",
              "    const events = require('base/js/events');\n",
              "    const OutputArea = require('notebook/js/outputarea').OutputArea;\n",
              "\n",
              "    if (OutputArea.prototype.mime_types().indexOf(EXEC_MIME_TYPE) == -1) {\n",
              "      register_renderer(events, OutputArea);\n",
              "    }\n",
              "  }\n",
              "  if (typeof (root._bokeh_timeout) === \"undefined\" || force === true) {\n",
              "    root._bokeh_timeout = Date.now() + 5000;\n",
              "    root._bokeh_failed_load = false;\n",
              "  }\n",
              "\n",
              "  const NB_LOAD_WARNING = {'data': {'text/html':\n",
              "     \"<div style='background-color: #fdd'>\\n\"+\n",
              "     \"<p>\\n\"+\n",
              "     \"BokehJS does not appear to have successfully loaded. If loading BokehJS from CDN, this \\n\"+\n",
              "     \"may be due to a slow or bad network connection. Possible fixes:\\n\"+\n",
              "     \"</p>\\n\"+\n",
              "     \"<ul>\\n\"+\n",
              "     \"<li>re-rerun `output_notebook()` to attempt to load from CDN again, or</li>\\n\"+\n",
              "     \"<li>use INLINE resources instead, as so:</li>\\n\"+\n",
              "     \"</ul>\\n\"+\n",
              "     \"<code>\\n\"+\n",
              "     \"from bokeh.resources import INLINE\\n\"+\n",
              "     \"output_notebook(resources=INLINE)\\n\"+\n",
              "     \"</code>\\n\"+\n",
              "     \"</div>\"}};\n",
              "\n",
              "  function display_loaded() {\n",
              "    const el = document.getElementById(null);\n",
              "    if (el != null) {\n",
              "      el.textContent = \"BokehJS is loading...\";\n",
              "    }\n",
              "    if (root.Bokeh !== undefined) {\n",
              "      if (el != null) {\n",
              "        el.textContent = \"BokehJS \" + root.Bokeh.version + \" successfully loaded.\";\n",
              "      }\n",
              "    } else if (Date.now() < root._bokeh_timeout) {\n",
              "      setTimeout(display_loaded, 100)\n",
              "    }\n",
              "  }\n",
              "\n",
              "  function run_callbacks() {\n",
              "    try {\n",
              "      root._bokeh_onload_callbacks.forEach(function(callback) {\n",
              "        if (callback != null)\n",
              "          callback();\n",
              "      });\n",
              "    } finally {\n",
              "      delete root._bokeh_onload_callbacks\n",
              "    }\n",
              "    console.debug(\"Bokeh: all callbacks have finished\");\n",
              "  }\n",
              "\n",
              "  function load_libs(css_urls, js_urls, callback) {\n",
              "    if (css_urls == null) css_urls = [];\n",
              "    if (js_urls == null) js_urls = [];\n",
              "\n",
              "    root._bokeh_onload_callbacks.push(callback);\n",
              "    if (root._bokeh_is_loading > 0) {\n",
              "      console.debug(\"Bokeh: BokehJS is being loaded, scheduling callback at\", now());\n",
              "      return null;\n",
              "    }\n",
              "    if (js_urls == null || js_urls.length === 0) {\n",
              "      run_callbacks();\n",
              "      return null;\n",
              "    }\n",
              "    console.debug(\"Bokeh: BokehJS not loaded, scheduling load and callback at\", now());\n",
              "    root._bokeh_is_loading = css_urls.length + js_urls.length;\n",
              "\n",
              "    function on_load() {\n",
              "      root._bokeh_is_loading--;\n",
              "      if (root._bokeh_is_loading === 0) {\n",
              "        console.debug(\"Bokeh: all BokehJS libraries/stylesheets loaded\");\n",
              "        run_callbacks()\n",
              "      }\n",
              "    }\n",
              "\n",
              "    function on_error(url) {\n",
              "      console.error(\"failed to load \" + url);\n",
              "    }\n",
              "\n",
              "    for (let i = 0; i < css_urls.length; i++) {\n",
              "      const url = css_urls[i];\n",
              "      const element = document.createElement(\"link\");\n",
              "      element.onload = on_load;\n",
              "      element.onerror = on_error.bind(null, url);\n",
              "      element.rel = \"stylesheet\";\n",
              "      element.type = \"text/css\";\n",
              "      element.href = url;\n",
              "      console.debug(\"Bokeh: injecting link tag for BokehJS stylesheet: \", url);\n",
              "      document.body.appendChild(element);\n",
              "    }\n",
              "\n",
              "    for (let i = 0; i < js_urls.length; i++) {\n",
              "      const url = js_urls[i];\n",
              "      const element = document.createElement('script');\n",
              "      element.onload = on_load;\n",
              "      element.onerror = on_error.bind(null, url);\n",
              "      element.async = false;\n",
              "      element.src = url;\n",
              "      console.debug(\"Bokeh: injecting script tag for BokehJS library: \", url);\n",
              "      document.head.appendChild(element);\n",
              "    }\n",
              "  };\n",
              "\n",
              "  function inject_raw_css(css) {\n",
              "    const element = document.createElement(\"style\");\n",
              "    element.appendChild(document.createTextNode(css));\n",
              "    document.body.appendChild(element);\n",
              "  }\n",
              "\n",
              "  const js_urls = [\"https://cdn.bokeh.org/bokeh/release/bokeh-3.3.4.min.js\", \"https://cdn.bokeh.org/bokeh/release/bokeh-gl-3.3.4.min.js\", \"https://cdn.bokeh.org/bokeh/release/bokeh-widgets-3.3.4.min.js\", \"https://cdn.bokeh.org/bokeh/release/bokeh-tables-3.3.4.min.js\", \"https://cdn.bokeh.org/bokeh/release/bokeh-mathjax-3.3.4.min.js\"];\n",
              "  const css_urls = [];\n",
              "\n",
              "  const inline_js = [    function(Bokeh) {\n",
              "      Bokeh.set_log_level(\"info\");\n",
              "    },\n",
              "function(Bokeh) {\n",
              "    }\n",
              "  ];\n",
              "\n",
              "  function run_inline_js() {\n",
              "    if (root.Bokeh !== undefined || force === true) {\n",
              "          for (let i = 0; i < inline_js.length; i++) {\n",
              "      inline_js[i].call(root, root.Bokeh);\n",
              "    }\n",
              "} else if (Date.now() < root._bokeh_timeout) {\n",
              "      setTimeout(run_inline_js, 100);\n",
              "    } else if (!root._bokeh_failed_load) {\n",
              "      console.log(\"Bokeh: BokehJS failed to load within specified timeout.\");\n",
              "      root._bokeh_failed_load = true;\n",
              "    } else if (force !== true) {\n",
              "      const cell = $(document.getElementById(null)).parents('.cell').data().cell;\n",
              "      cell.output_area.append_execute_result(NB_LOAD_WARNING)\n",
              "    }\n",
              "  }\n",
              "\n",
              "  if (root._bokeh_is_loading === 0) {\n",
              "    console.debug(\"Bokeh: BokehJS loaded, going straight to plotting\");\n",
              "    run_inline_js();\n",
              "  } else {\n",
              "    load_libs(css_urls, js_urls, function() {\n",
              "      console.debug(\"Bokeh: BokehJS plotting callback run at\", now());\n",
              "      run_inline_js();\n",
              "    });\n",
              "  }\n",
              "}(window));"
            ],
            "application/vnd.bokehjs_load.v0+json": "(function(root) {\n  function now() {\n    return new Date();\n  }\n\n  const force = true;\n\n  if (typeof root._bokeh_onload_callbacks === \"undefined\" || force === true) {\n    root._bokeh_onload_callbacks = [];\n    root._bokeh_is_loading = undefined;\n  }\n\n\n  if (typeof (root._bokeh_timeout) === \"undefined\" || force === true) {\n    root._bokeh_timeout = Date.now() + 5000;\n    root._bokeh_failed_load = false;\n  }\n\n  const NB_LOAD_WARNING = {'data': {'text/html':\n     \"<div style='background-color: #fdd'>\\n\"+\n     \"<p>\\n\"+\n     \"BokehJS does not appear to have successfully loaded. If loading BokehJS from CDN, this \\n\"+\n     \"may be due to a slow or bad network connection. Possible fixes:\\n\"+\n     \"</p>\\n\"+\n     \"<ul>\\n\"+\n     \"<li>re-rerun `output_notebook()` to attempt to load from CDN again, or</li>\\n\"+\n     \"<li>use INLINE resources instead, as so:</li>\\n\"+\n     \"</ul>\\n\"+\n     \"<code>\\n\"+\n     \"from bokeh.resources import INLINE\\n\"+\n     \"output_notebook(resources=INLINE)\\n\"+\n     \"</code>\\n\"+\n     \"</div>\"}};\n\n  function display_loaded() {\n    const el = document.getElementById(null);\n    if (el != null) {\n      el.textContent = \"BokehJS is loading...\";\n    }\n    if (root.Bokeh !== undefined) {\n      if (el != null) {\n        el.textContent = \"BokehJS \" + root.Bokeh.version + \" successfully loaded.\";\n      }\n    } else if (Date.now() < root._bokeh_timeout) {\n      setTimeout(display_loaded, 100)\n    }\n  }\n\n  function run_callbacks() {\n    try {\n      root._bokeh_onload_callbacks.forEach(function(callback) {\n        if (callback != null)\n          callback();\n      });\n    } finally {\n      delete root._bokeh_onload_callbacks\n    }\n    console.debug(\"Bokeh: all callbacks have finished\");\n  }\n\n  function load_libs(css_urls, js_urls, callback) {\n    if (css_urls == null) css_urls = [];\n    if (js_urls == null) js_urls = [];\n\n    root._bokeh_onload_callbacks.push(callback);\n    if (root._bokeh_is_loading > 0) {\n      console.debug(\"Bokeh: BokehJS is being loaded, scheduling callback at\", now());\n      return null;\n    }\n    if (js_urls == null || js_urls.length === 0) {\n      run_callbacks();\n      return null;\n    }\n    console.debug(\"Bokeh: BokehJS not loaded, scheduling load and callback at\", now());\n    root._bokeh_is_loading = css_urls.length + js_urls.length;\n\n    function on_load() {\n      root._bokeh_is_loading--;\n      if (root._bokeh_is_loading === 0) {\n        console.debug(\"Bokeh: all BokehJS libraries/stylesheets loaded\");\n        run_callbacks()\n      }\n    }\n\n    function on_error(url) {\n      console.error(\"failed to load \" + url);\n    }\n\n    for (let i = 0; i < css_urls.length; i++) {\n      const url = css_urls[i];\n      const element = document.createElement(\"link\");\n      element.onload = on_load;\n      element.onerror = on_error.bind(null, url);\n      element.rel = \"stylesheet\";\n      element.type = \"text/css\";\n      element.href = url;\n      console.debug(\"Bokeh: injecting link tag for BokehJS stylesheet: \", url);\n      document.body.appendChild(element);\n    }\n\n    for (let i = 0; i < js_urls.length; i++) {\n      const url = js_urls[i];\n      const element = document.createElement('script');\n      element.onload = on_load;\n      element.onerror = on_error.bind(null, url);\n      element.async = false;\n      element.src = url;\n      console.debug(\"Bokeh: injecting script tag for BokehJS library: \", url);\n      document.head.appendChild(element);\n    }\n  };\n\n  function inject_raw_css(css) {\n    const element = document.createElement(\"style\");\n    element.appendChild(document.createTextNode(css));\n    document.body.appendChild(element);\n  }\n\n  const js_urls = [\"https://cdn.bokeh.org/bokeh/release/bokeh-3.3.4.min.js\", \"https://cdn.bokeh.org/bokeh/release/bokeh-gl-3.3.4.min.js\", \"https://cdn.bokeh.org/bokeh/release/bokeh-widgets-3.3.4.min.js\", \"https://cdn.bokeh.org/bokeh/release/bokeh-tables-3.3.4.min.js\", \"https://cdn.bokeh.org/bokeh/release/bokeh-mathjax-3.3.4.min.js\"];\n  const css_urls = [];\n\n  const inline_js = [    function(Bokeh) {\n      Bokeh.set_log_level(\"info\");\n    },\nfunction(Bokeh) {\n    }\n  ];\n\n  function run_inline_js() {\n    if (root.Bokeh !== undefined || force === true) {\n          for (let i = 0; i < inline_js.length; i++) {\n      inline_js[i].call(root, root.Bokeh);\n    }\n} else if (Date.now() < root._bokeh_timeout) {\n      setTimeout(run_inline_js, 100);\n    } else if (!root._bokeh_failed_load) {\n      console.log(\"Bokeh: BokehJS failed to load within specified timeout.\");\n      root._bokeh_failed_load = true;\n    } else if (force !== true) {\n      const cell = $(document.getElementById(null)).parents('.cell').data().cell;\n      cell.output_area.append_execute_result(NB_LOAD_WARNING)\n    }\n  }\n\n  if (root._bokeh_is_loading === 0) {\n    console.debug(\"Bokeh: BokehJS loaded, going straight to plotting\");\n    run_inline_js();\n  } else {\n    load_libs(css_urls, js_urls, function() {\n      console.debug(\"Bokeh: BokehJS plotting callback run at\", now());\n      run_inline_js();\n    });\n  }\n}(window));"
          },
          "metadata": {}
        },
        {
          "output_type": "display_data",
          "data": {
            "text/html": [
              "\n",
              "  <div id=\"a2b318cf-ca50-48f5-8668-f59ece416a36\" data-root-id=\"p1124\" style=\"display: contents;\"></div>\n"
            ]
          },
          "metadata": {}
        },
        {
          "output_type": "display_data",
          "data": {
            "application/javascript": [
              "(function(root) {\n",
              "  function embed_document(root) {\n",
              "  const docs_json = {\"064ed6a7-656b-4892-9347-ff6887c173a4\":{\"version\":\"3.3.4\",\"title\":\"Bokeh Application\",\"roots\":[{\"type\":\"object\",\"name\":\"Figure\",\"id\":\"p1124\",\"attributes\":{\"width\":800,\"height\":300,\"x_range\":{\"type\":\"object\",\"name\":\"Range1d\",\"id\":\"p1134\",\"attributes\":{\"start\":0.07766034339696512,\"end\":0.230730461200736}},\"y_range\":{\"type\":\"object\",\"name\":\"DataRange1d\",\"id\":\"p1126\"},\"x_scale\":{\"type\":\"object\",\"name\":\"LinearScale\",\"id\":\"p1135\"},\"y_scale\":{\"type\":\"object\",\"name\":\"LinearScale\",\"id\":\"p1136\"},\"title\":{\"type\":\"object\",\"name\":\"Title\",\"id\":\"p1127\",\"attributes\":{\"text\":\"Normal versus Empirical Bootstrap Interval Estimates.\\n\"}},\"renderers\":[{\"type\":\"object\",\"name\":\"GlyphRenderer\",\"id\":\"p1167\",\"attributes\":{\"data_source\":{\"type\":\"object\",\"name\":\"ColumnDataSource\",\"id\":\"p1163\",\"attributes\":{\"selected\":{\"type\":\"object\",\"name\":\"Selection\",\"id\":\"p1164\",\"attributes\":{\"indices\":[],\"line_indices\":[]}},\"selection_policy\":{\"type\":\"object\",\"name\":\"UnionRenderers\",\"id\":\"p1165\"},\"data\":{\"type\":\"map\",\"entries\":[[\"index\",{\"type\":\"ndarray\",\"array\":{\"type\":\"bytes\",\"data\":\"AAAAAAEAAAACAAAAAwAAAAQAAAAFAAAABgAAAAcAAAAIAAAACQAAAAoAAAALAAAADAAAAA0AAAAOAAAADwAAABAAAAARAAAAEgAAABMAAAAUAAAAFQAAABYAAAAXAAAAGAAAABkAAAAaAAAAGwAAABwAAAAdAAAAHgAAAB8AAAAgAAAAIQAAACIAAAAjAAAAJAAAACUAAAAmAAAAJwAAACgAAAApAAAAKgAAACsAAAAsAAAALQAAAC4AAAAvAAAAMAAAADEAAAA=\"},\"shape\":[50],\"dtype\":\"int32\",\"order\":\"little\"}],[\"rv\",{\"type\":\"ndarray\",\"array\":{\"type\":\"bytes\",\"data\":\"yKR4gUyKtz867ug7fSi4P6w3Wfatxrg/HoHJsN5kuT+QyjlrDwO6PwIUqiVAobo/dF0a4HA/uz/mpoqaod27P1jw+lTSe7w/yjlrDwMavT88g9vJM7i9P67MS4RkVr4/IBa8PpX0vj+SXyz5xZK/P4JUzll7GMA/O3kGt5NnwD/0nT4UrLbAP63CdnHEBcE/ZueuztxUwT8fDOcr9aPBP9gwH4kN88E/kVVX5iVCwj9Keo9DPpHCPwOfx6BW4MI/vMP//W4vwz926Ddbh37DPy4NcLifzcM/6DGoFbgcxD+gVuBy0GvEP1p7GNDousQ/EqBQLQEKxT/MxIiKGVnFP4TpwOcxqMU/Pg75REr3xT/2MjGiYkbGP7BXaf96lcY/aHyhXJPkxj8iodm5qzPHP9rFERfEgsc/lOpJdNzRxz9MD4LR9CDIPwY0ui4NcMg/vljyiyW/yD94fSrpPQ7JPzCiYkZWXck/6saao26syT+i69IAh/vJP1wQC16fSso/FTVDu7eZyj/OWXsY0OjKPw==\"},\"shape\":[50],\"dtype\":\"float64\",\"order\":\"little\"}],[\"density\",{\"type\":\"ndarray\",\"array\":{\"type\":\"bytes\",\"data\":\"JkmSJEmSAEAAAAAAAAAAAAAAAAAAAAAAAAAAAAAAAAAAAAAAAAAAAAAAAAAAAAAAAAAAAAAAAAAmSZIkSZIQQAAAAAAAAAAAJkmSJEmSEEAAAAAAAAAAAAMAAAAAAC1AAAAAAAAAAAAAAAAAAAAAAJQkSZIkyTZAAAAAAAAAAABv27Zt27Y0QAAAAAAAAAAAAAAAAAAAAACUJEmSJMk2QAAAAAAAAAAAb9u2bdu2REAAAAAAAAAAAEySJEmS5ElAAAAAAAAAAAAAAAAAAAAAAMNIkiRJEk9AAAAAAAAAAAAW27Zt2/ZLQAAAAAAAAAAAw0iSJEkSP0AAAAAAAAAAAAAAAAAAAAAA3SRJkiTJNkAAAAAAAAAAAFxJkiRJkjBAAAAAAAAAAAAAAAAAAAAAAEokSZIkyTZAAAAAAAAAAADxSJIkSZIgQAAAAAAAAAAA8UiSJEmSEEAAAAAAAAAAAAAAAAAAAAAAXEmSJEmSAEAAAAAAAAAAACZJkiRJkgBAAAAAAAAAAAAmSZIkSZIAQA==\"},\"shape\":[50],\"dtype\":\"float64\",\"order\":\"little\"}]]}}},\"view\":{\"type\":\"object\",\"name\":\"CDSView\",\"id\":\"p1168\",\"attributes\":{\"filter\":{\"type\":\"object\",\"name\":\"AllIndices\",\"id\":\"p1169\"}}},\"glyph\":{\"type\":\"object\",\"name\":\"VBar\",\"id\":\"p1166\",\"attributes\":{\"x\":{\"type\":\"field\",\"field\":\"rv\"},\"width\":{\"type\":\"value\",\"value\":0.0024137931034482756},\"top\":{\"type\":\"field\",\"field\":\"density\"},\"fill_color\":{\"type\":\"value\",\"value\":\"limegreen\"}}}}},{\"type\":\"object\",\"name\":\"GlyphRenderer\",\"id\":\"p1174\",\"attributes\":{\"data_source\":{\"type\":\"object\",\"name\":\"ColumnDataSource\",\"id\":\"p1170\",\"attributes\":{\"selected\":{\"type\":\"object\",\"name\":\"Selection\",\"id\":\"p1171\",\"attributes\":{\"indices\":[],\"line_indices\":[]}},\"selection_policy\":{\"type\":\"object\",\"name\":\"UnionRenderers\",\"id\":\"p1172\"},\"data\":{\"type\":\"map\",\"entries\":[[\"index\",{\"type\":\"ndarray\",\"array\":{\"type\":\"bytes\",\"data\":\"DAAAAA0AAAAOAAAADwAAABAAAAARAAAAEgAAABMAAAAUAAAAFQAAABYAAAAXAAAAGAAAABkAAAAaAAAAGwAAABwAAAAdAAAAHgAAAB8AAAAgAAAAIQAAACIAAAAjAAAAJAAAACUAAAAmAAAAJwAAACgAAAA=\"},\"shape\":[29],\"dtype\":\"int32\",\"order\":\"little\"}],[\"rv\",{\"type\":\"ndarray\",\"array\":{\"type\":\"bytes\",\"data\":\"IBa8PpX0vj+SXyz5xZK/P4JUzll7GMA/O3kGt5NnwD/0nT4UrLbAP63CdnHEBcE/ZueuztxUwT8fDOcr9aPBP9gwH4kN88E/kVVX5iVCwj9Keo9DPpHCPwOfx6BW4MI/vMP//W4vwz926Ddbh37DPy4NcLifzcM/6DGoFbgcxD+gVuBy0GvEP1p7GNDousQ/EqBQLQEKxT/MxIiKGVnFP4TpwOcxqMU/Pg75REr3xT/2MjGiYkbGP7BXaf96lcY/aHyhXJPkxj8iodm5qzPHP9rFERfEgsc/lOpJdNzRxz9MD4LR9CDIPw==\"},\"shape\":[29],\"dtype\":\"float64\",\"order\":\"little\"}],[\"density\",{\"type\":\"ndarray\",\"array\":{\"type\":\"bytes\",\"data\":\"AAAAAAAAAAAAAAAAAAAAAJQkSZIkyTZAAAAAAAAAAABv27Zt27Y0QAAAAAAAAAAAAAAAAAAAAACUJEmSJMk2QAAAAAAAAAAAb9u2bdu2REAAAAAAAAAAAEySJEmS5ElAAAAAAAAAAAAAAAAAAAAAAMNIkiRJEk9AAAAAAAAAAAAW27Zt2/ZLQAAAAAAAAAAAw0iSJEkSP0AAAAAAAAAAAAAAAAAAAAAA3SRJkiTJNkAAAAAAAAAAAFxJkiRJkjBAAAAAAAAAAAAAAAAAAAAAAEokSZIkyTZAAAAAAAAAAADxSJIkSZIgQA==\"},\"shape\":[29],\"dtype\":\"float64\",\"order\":\"little\"}]]}}},\"view\":{\"type\":\"object\",\"name\":\"CDSView\",\"id\":\"p1175\",\"attributes\":{\"filter\":{\"type\":\"object\",\"name\":\"AllIndices\",\"id\":\"p1176\"}}},\"glyph\":{\"type\":\"object\",\"name\":\"VBar\",\"id\":\"p1173\",\"attributes\":{\"x\":{\"type\":\"field\",\"field\":\"rv\"},\"width\":{\"type\":\"value\",\"value\":0.0024137931034482756},\"top\":{\"type\":\"field\",\"field\":\"density\"},\"fill_color\":{\"type\":\"value\",\"value\":\"darkgreen\"}}}}},{\"type\":\"object\",\"name\":\"GlyphRenderer\",\"id\":\"p1183\",\"attributes\":{\"data_source\":{\"type\":\"object\",\"name\":\"ColumnDataSource\",\"id\":\"p1177\",\"attributes\":{\"selected\":{\"type\":\"object\",\"name\":\"Selection\",\"id\":\"p1178\",\"attributes\":{\"indices\":[],\"line_indices\":[]}},\"selection_policy\":{\"type\":\"object\",\"name\":\"UnionRenderers\",\"id\":\"p1179\"},\"data\":{\"type\":\"map\",\"entries\":[[\"x\",{\"type\":\"ndarray\",\"array\":{\"type\":\"bytes\",\"data\":\"wJyT9nKtvT8y3LL3zxO+P6Ub0vgser4/F1vx+Yngvj+KmhD75ka/P/zZL/xDrb8/t4ynftAJwD9wLDf//jzAPyrMxn8tcMA/42tWAFyjwD+cC+aAitbAP1WrdQG5CcE/DksFguc8wT/I6pQCFnDBP4GKJINEo8E/Oiq0A3PWwT/zyUOEoQnCP6xp0wTQPMI/ZQljhf5vwj8eqfIFLaPCP9hIgoZb1sI/kegRB4oJwz9KiKGHuDzDPwMoMQjnb8M/vMfAiBWjwz92Z1AJRNbDPy8H4IlyCcQ/6KZvCqE8xD+hRv+Kz2/EP1rmjgv+osQ/FIYejCzWxD/NJa4MWwnFP4bFPY2JPMU/P2XNDbhvxT/4BF2O5qLFP7Kk7A4V1sU/a0R8j0MJxj8k5AsQcjzGP92Dm5Cgb8Y/liMrEc+ixj9Qw7qR/dXGPwhjShIsCcc/wgLaklo8xz97omkTiW/HPzRC+ZO3osc/7uGIFObVxz+mgRiVFAnIP2AhqBVDPMg/GcE3lnFvyD/SYMcWoKLIPw==\"},\"shape\":[50],\"dtype\":\"float64\",\"order\":\"little\"}],[\"y\",{\"type\":\"ndarray\",\"array\":{\"type\":\"bytes\",\"data\":\"TBZhnyzyB0BqIaLG7usLQBzAfgS/LBBA6x+pwc2eEkBoqdN9gkwVQPvWmvkQNRhAyFAVdlxWG0BqxWeO2KweQECOcDK5GSFAe6qXEcLxIkCR1U1IatokQGHufhLSziZA/1+IQmTJKEBqp4dg68MqQK4CmAOutyxAnbBn5JGdLkD0zB9nIjcwQFMk1B41ETFAiJfXF2bZMUBoJ82zRowyQAIMj6OtJjNA6ZE4oc6lM0BlrA0AUAc0QBMGZSpdSTRAqthpQrVqNECq2GlCtWo0QBMGZSpdSTRAZawNAFAHNEDpkTihzqUzQAIMj6OtJjNAaCfNs0aMMkCIl9cXZtkxQFMk1B41ETFA9MwfZyI3MECdsGfkkZ0uQKQCmAOutyxAYqeHYOvDKkD/X4hCZMkoQGHufhLSziZAkdVNSGraJEBwqpcRwvEiQECOcDK5GSFAasVnjtisHkDIUBV2XFYbQPvWmvkQNRhAWKnTfYJMFUDyH6nBzZ4SQBTAfgS/LBBAaiGixu7rC0BMFmGfLPIHQA==\"},\"shape\":[50],\"dtype\":\"float64\",\"order\":\"little\"}]]}}},\"view\":{\"type\":\"object\",\"name\":\"CDSView\",\"id\":\"p1184\",\"attributes\":{\"filter\":{\"type\":\"object\",\"name\":\"AllIndices\",\"id\":\"p1185\"}}},\"glyph\":{\"type\":\"object\",\"name\":\"Line\",\"id\":\"p1180\",\"attributes\":{\"x\":{\"type\":\"field\",\"field\":\"x\"},\"y\":{\"type\":\"field\",\"field\":\"y\"},\"line_color\":\"#1f77b4\"}},\"nonselection_glyph\":{\"type\":\"object\",\"name\":\"Line\",\"id\":\"p1181\",\"attributes\":{\"x\":{\"type\":\"field\",\"field\":\"x\"},\"y\":{\"type\":\"field\",\"field\":\"y\"},\"line_color\":\"#1f77b4\",\"line_alpha\":0.1}},\"muted_glyph\":{\"type\":\"object\",\"name\":\"Line\",\"id\":\"p1182\",\"attributes\":{\"x\":{\"type\":\"field\",\"field\":\"x\"},\"y\":{\"type\":\"field\",\"field\":\"y\"},\"line_color\":\"#1f77b4\",\"line_alpha\":0.2}}}}],\"toolbar\":{\"type\":\"object\",\"name\":\"Toolbar\",\"id\":\"p1133\",\"attributes\":{\"tools\":[{\"type\":\"object\",\"name\":\"PanTool\",\"id\":\"p1147\"},{\"type\":\"object\",\"name\":\"WheelZoomTool\",\"id\":\"p1148\",\"attributes\":{\"renderers\":\"auto\"}},{\"type\":\"object\",\"name\":\"BoxZoomTool\",\"id\":\"p1149\",\"attributes\":{\"overlay\":{\"type\":\"object\",\"name\":\"BoxAnnotation\",\"id\":\"p1150\",\"attributes\":{\"syncable\":false,\"level\":\"overlay\",\"visible\":false,\"left\":{\"type\":\"number\",\"value\":\"nan\"},\"right\":{\"type\":\"number\",\"value\":\"nan\"},\"top\":{\"type\":\"number\",\"value\":\"nan\"},\"bottom\":{\"type\":\"number\",\"value\":\"nan\"},\"left_units\":\"canvas\",\"right_units\":\"canvas\",\"top_units\":\"canvas\",\"bottom_units\":\"canvas\",\"line_color\":\"black\",\"line_alpha\":1.0,\"line_width\":2,\"line_dash\":[4,4],\"fill_color\":\"lightgrey\",\"fill_alpha\":0.5}}}},{\"type\":\"object\",\"name\":\"SaveTool\",\"id\":\"p1155\"},{\"type\":\"object\",\"name\":\"ResetTool\",\"id\":\"p1156\"},{\"type\":\"object\",\"name\":\"HelpTool\",\"id\":\"p1157\"}]}},\"left\":[{\"type\":\"object\",\"name\":\"LinearAxis\",\"id\":\"p1142\",\"attributes\":{\"ticker\":{\"type\":\"object\",\"name\":\"BasicTicker\",\"id\":\"p1143\",\"attributes\":{\"mantissas\":[1,2,5]}},\"formatter\":{\"type\":\"object\",\"name\":\"BasicTickFormatter\",\"id\":\"p1144\"},\"major_label_policy\":{\"type\":\"object\",\"name\":\"AllLabels\",\"id\":\"p1145\"}}}],\"below\":[{\"type\":\"object\",\"name\":\"LinearAxis\",\"id\":\"p1137\",\"attributes\":{\"ticker\":{\"type\":\"object\",\"name\":\"BasicTicker\",\"id\":\"p1138\",\"attributes\":{\"mantissas\":[1,2,5]}},\"formatter\":{\"type\":\"object\",\"name\":\"BasicTickFormatter\",\"id\":\"p1139\"},\"major_label_policy\":{\"type\":\"object\",\"name\":\"AllLabels\",\"id\":\"p1140\"}}}],\"center\":[{\"type\":\"object\",\"name\":\"Grid\",\"id\":\"p1141\",\"attributes\":{\"axis\":{\"id\":\"p1137\"}}},{\"type\":\"object\",\"name\":\"Grid\",\"id\":\"p1146\",\"attributes\":{\"dimension\":1,\"axis\":{\"id\":\"p1142\"}}},{\"type\":\"object\",\"name\":\"BoxAnnotation\",\"id\":\"p1158\",\"attributes\":{\"left\":0.11592787284790784,\"right\":0.1924629317497933,\"top\":62.14285714285645,\"bottom\":0,\"fill_color\":\"#D55E00\",\"fill_alpha\":0.2}}]}}]}};\n",
              "  const render_items = [{\"docid\":\"064ed6a7-656b-4892-9347-ff6887c173a4\",\"roots\":{\"p1124\":\"a2b318cf-ca50-48f5-8668-f59ece416a36\"},\"root_ids\":[\"p1124\"]}];\n",
              "  root.Bokeh.embed.embed_items_notebook(docs_json, render_items);\n",
              "  }\n",
              "  if (root.Bokeh !== undefined) {\n",
              "    embed_document(root);\n",
              "  } else {\n",
              "    let attempts = 0;\n",
              "    const timer = setInterval(function(root) {\n",
              "      if (root.Bokeh !== undefined) {\n",
              "        clearInterval(timer);\n",
              "        embed_document(root);\n",
              "      } else {\n",
              "        attempts++;\n",
              "        if (attempts > 100) {\n",
              "          clearInterval(timer);\n",
              "          console.log(\"Bokeh: ERROR: Unable to run BokehJS code because BokehJS library is missing\");\n",
              "        }\n",
              "      }\n",
              "    }, 10, root)\n",
              "  }\n",
              "})(window);"
            ],
            "application/vnd.bokehjs_exec.v0+json": ""
          },
          "metadata": {
            "application/vnd.bokehjs_exec.v0+json": {
              "id": "p1124"
            }
          }
        }
      ]
    },
    {
      "cell_type": "markdown",
      "source": [
        "##  Generate selected features, for an alternative model"
      ],
      "metadata": {
        "id": "uQJN7qq0mpFT"
      }
    },
    {
      "cell_type": "code",
      "source": [
        "#TBD"
      ],
      "metadata": {
        "id": "FZ4dqTzCyehW"
      },
      "execution_count": 227,
      "outputs": []
    },
    {
      "cell_type": "markdown",
      "source": [
        "## Compare baseline and alternative models"
      ],
      "metadata": {
        "id": "0n_WbGJam6eJ"
      }
    },
    {
      "cell_type": "code",
      "source": [
        "#TBD"
      ],
      "metadata": {
        "id": "-uK0fvbdmwMw"
      },
      "execution_count": 228,
      "outputs": []
    }
  ],
  "metadata": {
    "kernelspec": {
      "display_name": "Python 3",
      "language": "python",
      "name": "python3"
    },
    "language_info": {
      "codemirror_mode": {
        "name": "ipython",
        "version": 3
      },
      "file_extension": ".py",
      "mimetype": "text/x-python",
      "name": "python",
      "nbconvert_exporter": "python",
      "pygments_lexer": "ipython3",
      "version": "3.10.1"
    },
    "colab": {
      "provenance": [],
      "toc_visible": true
    }
  },
  "nbformat": 4,
  "nbformat_minor": 0
}