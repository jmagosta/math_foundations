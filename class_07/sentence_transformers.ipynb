{
 "cells": [
  {
   "cell_type": "markdown",
   "metadata": {},
   "source": [
    "# Exploring a vector database of sentence embeddings. \n",
    "\n",
    "As an example we use the IMDB data set as indexed by embeddings from the 'all-MiniLM-L6-v2' sentenceTransformer model---a set of 50,000 items of 384 features. \n",
    "\n",
    "To download the dataset, go to: \n",
    "\n",
    "    https://archive.ics.uci.edu/dataset/331/sentiment+labelled+sentences\n",
    "\n",
    "\n",
    "You need to download the \"sentiment_labelled_sentences.zip\" file  - 84 kb \n",
    "\n",
    "This is a 'supervised' dataset, with two columns separated by a tab, the first with unstructured text taken from a review of an unspecified movie, the second with a sentiment label, either 1 (positive) or 0 (negative). \n",
    "\n",
    "This notebook shows how to transform the dataset to include a column containing the vector embeddings of the unstructured text. \n",
    "\n",
    "Class 7: 7 March\n",
    "JMA Feb 2024"
   ]
  },
  {
   "cell_type": "code",
   "execution_count": 1,
   "metadata": {},
   "outputs": [],
   "source": [
    "import pandas as pd\n",
    "import numpy as np\n",
    "import numpy.linalg as la \n",
    "import os\n",
    "import glob\n",
    "from pathlib import Path\n",
    "\n",
    "import seaborn as sns\n",
    "\n",
    "# We'll use this dataset of 3000 labeled text samples. \n",
    "# https://archive.ics.uci.edu/dataset/331/sentiment+labelled+sentences\n",
    "\n",
    "# For converting the text into vectors, use this llm package \n",
    "# See https://pypi.org/project/sentence-transformers/\n",
    "try:\n",
    "    from sentence_transformers import SentenceTransformer\n",
    "except:\n",
    "    \n",
    "    os.system('python -m pip install sentence-transformers')\n",
    "    from sentence_transformers import SentenceTransformer\n",
    "    \n",
    "# The random number generator can be used to select a random set of columns for regression\n",
    "from numpy.random import Generator, PCG64\n",
    "rng = Generator(PCG64())"
   ]
  },
  {
   "cell_type": "code",
   "execution_count": 2,
   "metadata": {},
   "outputs": [],
   "source": [
    "# constants and other setup\n",
    "\n",
    "# Choose one of the sentence transformer LLM models \n",
    "ST_MODEL = 'all-MiniLM-L6-v2'\n",
    "EMBEDDING_DIMENSIONS = 384     # This model creates vectors of this length. \n",
    "\n",
    "# Change this to the place you store your data. \n",
    "DATA_DIR = Path('/Users/jma/sandbox/embeddings')\n",
    "\n",
    "# The place you put the sentence data\n",
    "SENTENCE_DIR = Path('sentiment labelled sentences')\n",
    "\n",
    "# Store your featurized data so you don't have to transform it each time\n",
    "featurized_data_file = Path('sentence_embeddings.parquet')"
   ]
  },
  {
   "cell_type": "code",
   "execution_count": 3,
   "metadata": {},
   "outputs": [
    {
     "name": "stdout",
     "output_type": "stream",
     "text": [
      "Reading  sentence_embeddings.parquet\n"
     ]
    },
    {
     "data": {
      "text/html": [
       "<div>\n",
       "<style scoped>\n",
       "    .dataframe tbody tr th:only-of-type {\n",
       "        vertical-align: middle;\n",
       "    }\n",
       "\n",
       "    .dataframe tbody tr th {\n",
       "        vertical-align: top;\n",
       "    }\n",
       "\n",
       "    .dataframe thead th {\n",
       "        text-align: right;\n",
       "    }\n",
       "</style>\n",
       "<table border=\"1\" class=\"dataframe\">\n",
       "  <thead>\n",
       "    <tr style=\"text-align: right;\">\n",
       "      <th></th>\n",
       "      <th>review</th>\n",
       "      <th>sentiment</th>\n",
       "      <th>vector</th>\n",
       "    </tr>\n",
       "  </thead>\n",
       "  <tbody>\n",
       "    <tr>\n",
       "      <th>0</th>\n",
       "      <td>So there is no way for me to plug it in here i...</td>\n",
       "      <td>0</td>\n",
       "      <td>[0.08027008920907974, -0.04396028444170952, -0...</td>\n",
       "    </tr>\n",
       "    <tr>\n",
       "      <th>1</th>\n",
       "      <td>Good case, Excellent value.</td>\n",
       "      <td>1</td>\n",
       "      <td>[-0.009648566134274006, 0.10622689127922058, 0...</td>\n",
       "    </tr>\n",
       "    <tr>\n",
       "      <th>2</th>\n",
       "      <td>Great for the jawbone.</td>\n",
       "      <td>1</td>\n",
       "      <td>[-0.07081733644008636, 0.07361650466918945, 0....</td>\n",
       "    </tr>\n",
       "    <tr>\n",
       "      <th>3</th>\n",
       "      <td>Tied to charger for conversations lasting more...</td>\n",
       "      <td>0</td>\n",
       "      <td>[-0.0739610344171524, 0.06734045594930649, 0.0...</td>\n",
       "    </tr>\n",
       "    <tr>\n",
       "      <th>4</th>\n",
       "      <td>The mic is great.</td>\n",
       "      <td>1</td>\n",
       "      <td>[-0.09819574654102325, 0.010798277333378792, 0...</td>\n",
       "    </tr>\n",
       "  </tbody>\n",
       "</table>\n",
       "</div>"
      ],
      "text/plain": [
       "                                              review  sentiment  \\\n",
       "0  So there is no way for me to plug it in here i...          0   \n",
       "1                        Good case, Excellent value.          1   \n",
       "2                             Great for the jawbone.          1   \n",
       "3  Tied to charger for conversations lasting more...          0   \n",
       "4                                  The mic is great.          1   \n",
       "\n",
       "                                              vector  \n",
       "0  [0.08027008920907974, -0.04396028444170952, -0...  \n",
       "1  [-0.009648566134274006, 0.10622689127922058, 0...  \n",
       "2  [-0.07081733644008636, 0.07361650466918945, 0....  \n",
       "3  [-0.0739610344171524, 0.06734045594930649, 0.0...  \n",
       "4  [-0.09819574654102325, 0.010798277333378792, 0...  "
      ]
     },
     "execution_count": 3,
     "metadata": {},
     "output_type": "execute_result"
    }
   ],
   "source": [
    "# Load the existing IMDB vectorized data\n",
    "existing_db = DATA_DIR / featurized_data_file\n",
    "if  (existing_db).exists():\n",
    "    text_df = pd.read_parquet(DATA_DIR / Path(featurized_data_file)) \n",
    "    print('Reading ', featurized_data_file)\n",
    "    text_df.head()\n",
    "else:\n",
    "    # Read the 3 datafiles\n",
    "    text_df = pd.DataFrame(columns=['review', 'sentiment'])\n",
    "    for a_file in (DATA_DIR / SENTENCE_DIR).glob('*.txt'):\n",
    "        if 'readme' not in str(a_file): \n",
    "            df = pd.read_csv(a_file, sep = '\\t',  header=None)\n",
    "            df.columns = ['review', 'sentiment']\n",
    "            print('reading ', a_file, ' with shape ', df.shape)\n",
    "            text_df = pd.concat([text_df, df], axis=0)\n",
    "    # Generate the embeddings\n",
    "    print('Featurizing data')   # This will take about a minute. \n",
    "    sentxformer = SentenceTransformer(ST_MODEL)\n",
    "    text_df['vector'] = sentxformer.encode(text_df['review'].values).tolist()\n",
    "    # Save the result for next time\n",
    "    text_df.to_parquet(DATA_DIR / featurized_data_file)\n",
    "\n",
    "text_df.head()"
   ]
  },
  {
   "cell_type": "code",
   "execution_count": 4,
   "metadata": {},
   "outputs": [
    {
     "data": {
      "text/plain": [
       "(2748, 384)"
      ]
     },
     "execution_count": 4,
     "metadata": {},
     "output_type": "execute_result"
    }
   ],
   "source": [
    "# Extract the vector field and expand it to multiple rows. \n",
    "n_samples, embedding_dim = text_df.shape\n",
    "sample_ar = np.empty((n_samples, EMBEDDING_DIMENSIONS), 'float')\n",
    "for i in range(n_samples):\n",
    "    x = text_df.values[i,2]\n",
    "    sample_ar[i] = x \n",
    "    \n",
    "sample_ar.shape"
   ]
  },
  {
   "cell_type": "code",
   "execution_count": 5,
   "metadata": {},
   "outputs": [
    {
     "name": "stderr",
     "output_type": "stream",
     "text": [
      "/var/folders/x3/t7qpngm57q96p9wxzg9rqv6h0000gp/T/ipykernel_29531/2441634733.py:1: FutureWarning: Support for multi-dimensional indexing (e.g. `obj[:, None]`) is deprecated and will be removed in a future version.  Convert to a numpy array before indexing instead.\n",
      "  all_samples = np.hstack([text_df['sentiment'][:,np.newaxis], sample_ar])\n"
     ]
    }
   ],
   "source": [
    "all_samples = np.hstack([text_df['sentiment'][:,np.newaxis], sample_ar])"
   ]
  },
  {
   "cell_type": "markdown",
   "metadata": {},
   "source": [
    "## Select a few vectors, and explore their similarity\n",
    "\n",
    "To get a sense of the subspaces these vectors represent, we create the similarity matrix (all inner-products) for a few of the embeddings\n",
    "\n"
   ]
  },
  {
   "cell_type": "code",
   "execution_count": 6,
   "metadata": {},
   "outputs": [
    {
     "data": {
      "text/plain": [
       "(array([0.99999997, 0.99999997, 1.00000001, 0.99999997, 0.99999999,\n",
       "        1.00000004, 1.        , 0.99999995, 1.00000002, 0.99999997]),\n",
       " array([0.99999998, 0.99999996, 0.99999999, 0.99999998, 1.00000002,\n",
       "        0.99999999, 1.00000002, 1.00000002, 1.        , 0.99999996]))"
      ]
     },
     "execution_count": 6,
     "metadata": {},
     "output_type": "execute_result"
    }
   ],
   "source": [
    "# Two sets, one of positive and one of negative sentiment\n",
    "\n",
    "how_many = 10\n",
    "choices = np.random.choice(np.arange(EMBEDDING_DIMENSIONS), how_many, replace=False)\n",
    "\n",
    "positive_samples = all_samples[all_samples[:,0] == 1, 1:][choices, :]\n",
    "negative_samples = all_samples[all_samples[:,0] == 0, 1:][choices, :]\n",
    "\n",
    "# Check their lengths\n",
    "np.apply_along_axis(la.norm, 1, positive_samples), np.apply_along_axis(la.norm, 1, negative_samples)"
   ]
  },
  {
   "cell_type": "code",
   "execution_count": 7,
   "metadata": {},
   "outputs": [
    {
     "data": {
      "text/plain": [
       "<AxesSubplot:>"
      ]
     },
     "execution_count": 7,
     "metadata": {},
     "output_type": "execute_result"
    },
    {
     "data": {
      "image/png": "[encoded data removed]",
      "text/plain": [
       "<Figure size 432x288 with 2 Axes>"
      ]
     },
     "metadata": {
      "needs_background": "light"
     },
     "output_type": "display_data"
    }
   ],
   "source": [
    "# Visualize how the vectors fill the space \n",
    "# Note how the embeddings are far from orthogonal! \n",
    "# Also the positive embeddings are \"closer\" than the negative. \n",
    "samples = np.vstack([positive_samples, negative_samples])\n",
    "distances = samples @ samples.T\n",
    "# Remove the diagonal (it's all == 1), to highlight the correlations \n",
    "np.fill_diagonal(distances, 0)\n",
    "sns.heatmap(distances)"
   ]
  },
  {
   "cell_type": "code",
   "execution_count": 8,
   "metadata": {},
   "outputs": [
    {
     "ename": "NameError",
     "evalue": "name 'HNSWIndex' is not defined",
     "output_type": "error",
     "traceback": [
      "\u001b[0;31m---------------------------------------------------------------------------\u001b[0m",
      "\u001b[0;31mNameError\u001b[0m                                 Traceback (most recent call last)",
      "\u001b[0;32m/var/folders/x3/t7qpngm57q96p9wxzg9rqv6h0000gp/T/ipykernel_29531/1049511131.py\u001b[0m in \u001b[0;36m<module>\u001b[0;34m\u001b[0m\n\u001b[1;32m      3\u001b[0m \u001b[0mn_samples\u001b[0m\u001b[0;34m,\u001b[0m \u001b[0mem_dimension\u001b[0m \u001b[0;34m=\u001b[0m \u001b[0msample_ar\u001b[0m\u001b[0;34m.\u001b[0m\u001b[0mshape\u001b[0m\u001b[0;34m\u001b[0m\u001b[0;34m\u001b[0m\u001b[0m\n\u001b[1;32m      4\u001b[0m \u001b[0;34m\u001b[0m\u001b[0m\n\u001b[0;32m----> 5\u001b[0;31m \u001b[0membedding_index\u001b[0m \u001b[0;34m=\u001b[0m \u001b[0mHNSWIndex\u001b[0m\u001b[0;34m(\u001b[0m\u001b[0mem_dimension\u001b[0m\u001b[0;34m,\u001b[0m \u001b[0;34m\"usize\"\u001b[0m\u001b[0;34m)\u001b[0m\u001b[0;34m\u001b[0m\u001b[0;34m\u001b[0m\u001b[0m\n\u001b[0m\u001b[1;32m      6\u001b[0m \u001b[0;34m\u001b[0m\u001b[0m\n\u001b[1;32m      7\u001b[0m \u001b[0mtarget\u001b[0m \u001b[0;34m=\u001b[0m \u001b[0mrng\u001b[0m\u001b[0;34m.\u001b[0m\u001b[0mchoice\u001b[0m\u001b[0;34m(\u001b[0m\u001b[0mn_samples\u001b[0m\u001b[0;34m)\u001b[0m\u001b[0;34m\u001b[0m\u001b[0;34m\u001b[0m\u001b[0m\n",
      "\u001b[0;31mNameError\u001b[0m: name 'HNSWIndex' is not defined"
     ]
    }
   ],
   "source": [
    "# Select one item as a target, and build an index to find distances\n",
    "\n",
    "n_samples, em_dimension = sample_ar.shape\n",
    "\n",
    "embedding_index = HNSWIndex(em_dimension, \"usize\")\n",
    "\n",
    "target = rng.choice(n_samples)\n",
    "\n",
    "for i in range(n_samples):\n",
    "    if i != target:\n",
    "        # Add an embedding vector to the index\n",
    "        a_sample = np.float32(sample_ar[i,:])\n",
    "        # print(a_sample.shape, type(a_sample))\n",
    "        embedding_index.add(a_sample,i)\n",
    "    else:\n",
    "        chosen = np.float32(sample_ar[i,:])\n",
    "        \n",
    "embedding_index.build('euclidean')\n"
   ]
  },
  {
   "cell_type": "code",
   "execution_count": null,
   "metadata": {},
   "outputs": [],
   "source": [
    "%%time\n",
    "y = embedding_index.search(chosen,49999)\n",
    "# Lookup all samples in order of distance \n",
    "y[:10]"
   ]
  },
  {
   "cell_type": "code",
   "execution_count": null,
   "metadata": {},
   "outputs": [],
   "source": [
    "%%time\n",
    "distances = np.empty((n_samples,))\n",
    "\n",
    "for i in range(n_samples):\n",
    "    distances[i] = np.dot(chosen, sample_ar[i])\n",
    "# Making a comparison with just running a linear traversal via dot products through the data\n"
   ]
  },
  {
   "cell_type": "code",
   "execution_count": null,
   "metadata": {},
   "outputs": [],
   "source": [
    "%%time\n",
    "d2 = distances.copy()\n",
    "d2.sort()\n",
    "d2[:-10]\n",
    "# Comparison - to be fair the time to sort the distances should be counted. "
   ]
  },
  {
   "cell_type": "code",
   "execution_count": null,
   "metadata": {},
   "outputs": [],
   "source": [
    "# Range of dot product values\n",
    "pd.DataFrame(distances).describe()"
   ]
  }
 ],
 "metadata": {
  "kernelspec": {
   "display_name": "Python 3",
   "language": "python",
   "name": "python3"
  },
  "language_info": {
   "codemirror_mode": {
    "name": "ipython",
    "version": 3
   },
   "file_extension": ".py",
   "mimetype": "text/x-python",
   "name": "python",
   "nbconvert_exporter": "python",
   "pygments_lexer": "ipython3",
   "version": "3.10.1"
  }
 },
 "nbformat": 4,
 "nbformat_minor": 2
}
