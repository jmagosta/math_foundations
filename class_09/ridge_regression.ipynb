{
 "cells": [
  {
   "cell_type": "markdown",
   "metadata": {},
   "source": [
    "# Bias versus Variance experiments with Ridge Regression\n",
    "\n",
    "class 9\n",
    "Mar 2024  JMA"
   ]
  },
  {
   "cell_type": "code",
   "execution_count": 106,
   "metadata": {},
   "outputs": [
    {
     "data": {
      "text/html": [
       "<style>\n",
       "        .bk-notebook-logo {\n",
       "            display: block;\n",
       "            width: 20px;\n",
       "            height: 20px;\n",
       "            background-image: url(data:image/png;base64,iVBORw0KGgoAAAANSUhEUgAAABQAAAAUCAYAAACNiR0NAAAABHNCSVQICAgIfAhkiAAAAAlwSFlzAAALEgAACxIB0t1+/AAAABx0RVh0U29mdHdhcmUAQWRvYmUgRmlyZXdvcmtzIENTNui8sowAAAOkSURBVDiNjZRtaJVlGMd/1/08zzln5zjP1LWcU9N0NkN8m2CYjpgQYQXqSs0I84OLIC0hkEKoPtiH3gmKoiJDU7QpLgoLjLIQCpEsNJ1vqUOdO7ppbuec5+V+rj4ctwzd8IIbbi6u+8f1539dt3A78eXC7QizUF7gyV1fD1Yqg4JWz84yffhm0qkFqBogB9rM8tZdtwVsPUhWhGcFJngGeWrPzHm5oaMmkfEg1usvLFyc8jLRqDOMru7AyC8saQr7GG7f5fvDeH7Ej8CM66nIF+8yngt6HWaKh7k49Soy9nXurCi1o3qUbS3zWfrYeQDTB/Qj6kX6Ybhw4B+bOYoLKCC9H3Nu/leUTZ1JdRWkkn2ldcCamzrcf47KKXdAJllSlxAOkRgyHsGC/zRday5Qld9DyoM4/q/rUoy/CXh3jzOu3bHUVZeU+DEn8FInkPBFlu3+nW3Nw0mk6vCDiWg8CeJaxEwuHS3+z5RgY+YBR6V1Z1nxSOfoaPa4LASWxxdNp+VWTk7+4vzaou8v8PN+xo+KY2xsw6une2frhw05CTYOmQvsEhjhWjn0bmXPjpE1+kplmmkP3suftwTubK9Vq22qKmrBhpY4jvd5afdRA3wGjFAgcnTK2s4hY0/GPNIb0nErGMCRxWOOX64Z8RAC4oCXdklmEvcL8o0BfkNK4lUg9HTl+oPlQxdNo3Mg4Nv175e/1LDGzZen30MEjRUtmXSfiTVu1kK8W4txyV6BMKlbgk3lMwYCiusNy9fVfvvwMxv8Ynl6vxoByANLTWplvuj/nF9m2+PDtt1eiHPBr1oIfhCChQMBw6Aw0UulqTKZdfVvfG7VcfIqLG9bcldL/+pdWTLxLUy8Qq38heUIjh4XlzZxzQm19lLFlr8vdQ97rjZVOLf8nclzckbcD4wxXMidpX30sFd37Fv/GtwwhzhxGVAprjbg0gCAEeIgwCZyTV2Z1REEW8O4py0wsjeloKoMr6iCY6dP92H6Vw/oTyICIthibxjm/DfN9lVz8IqtqKYLUXfoKVMVQVVJOElGjrnnUt9T9wbgp8AyYKaGlqingHZU/uG2NTZSVqwHQTWkx9hxjkpWDaCg6Ckj5qebgBVbT3V3NNXMSiWSDdGV3hrtzla7J+duwPOToIg42ChPQOQjspnSlp1V+Gjdged7+8UN5CRAV7a5EdFNwCjEaBR27b3W890TE7g24NAP/mMDXRWrGoFPQI9ls/MWO2dWFAar/xcOIImbbpA3zgAAAABJRU5ErkJggg==);\n",
       "        }\n",
       "    </style>\n",
       "    <div>\n",
       "        <a href=\"https://bokeh.org\" target=\"_blank\" class=\"bk-notebook-logo\"></a>\n",
       "        <span id=\"f30091f8-d906-4701-8097-5225cbd6f528\">Loading BokehJS ...</span>\n",
       "    </div>\n"
      ]
     },
     "metadata": {},
     "output_type": "display_data"
    },
    {
     "data": {
      "application/javascript": "(function(root) {\n  function now() {\n    return new Date();\n  }\n\n  const force = true;\n\n  if (typeof root._bokeh_onload_callbacks === \"undefined\" || force === true) {\n    root._bokeh_onload_callbacks = [];\n    root._bokeh_is_loading = undefined;\n  }\n\nconst JS_MIME_TYPE = 'application/javascript';\n  const HTML_MIME_TYPE = 'text/html';\n  const EXEC_MIME_TYPE = 'application/vnd.bokehjs_exec.v0+json';\n  const CLASS_NAME = 'output_bokeh rendered_html';\n\n  /**\n   * Render data to the DOM node\n   */\n  function render(props, node) {\n    const script = document.createElement(\"script\");\n    node.appendChild(script);\n  }\n\n  /**\n   * Handle when an output is cleared or removed\n   */\n  function handleClearOutput(event, handle) {\n    function drop(id) {\n      const view = Bokeh.index.get_by_id(id)\n      if (view != null) {\n        view.model.document.clear()\n        Bokeh.index.delete(view)\n      }\n    }\n\n    const cell = handle.cell;\n\n    const id = cell.output_area._bokeh_element_id;\n    const server_id = cell.output_area._bokeh_server_id;\n\n    // Clean up Bokeh references\n    if (id != null) {\n      drop(id)\n    }\n\n    if (server_id !== undefined) {\n      // Clean up Bokeh references\n      const cmd_clean = \"from bokeh.io.state import curstate; print(curstate().uuid_to_server['\" + server_id + \"'].get_sessions()[0].document.roots[0]._id)\";\n      cell.notebook.kernel.execute(cmd_clean, {\n        iopub: {\n          output: function(msg) {\n            const id = msg.content.text.trim()\n            drop(id)\n          }\n        }\n      });\n      // Destroy server and session\n      const cmd_destroy = \"import bokeh.io.notebook as ion; ion.destroy_server('\" + server_id + \"')\";\n      cell.notebook.kernel.execute(cmd_destroy);\n    }\n  }\n\n  /**\n   * Handle when a new output is added\n   */\n  function handleAddOutput(event, handle) {\n    const output_area = handle.output_area;\n    const output = handle.output;\n\n    // limit handleAddOutput to display_data with EXEC_MIME_TYPE content only\n    if ((output.output_type != \"display_data\") || (!Object.prototype.hasOwnProperty.call(output.data, EXEC_MIME_TYPE))) {\n      return\n    }\n\n    const toinsert = output_area.element.find(\".\" + CLASS_NAME.split(' ')[0]);\n\n    if (output.metadata[EXEC_MIME_TYPE][\"id\"] !== undefined) {\n      toinsert[toinsert.length - 1].firstChild.textContent = output.data[JS_MIME_TYPE];\n      // store reference to embed id on output_area\n      output_area._bokeh_element_id = output.metadata[EXEC_MIME_TYPE][\"id\"];\n    }\n    if (output.metadata[EXEC_MIME_TYPE][\"server_id\"] !== undefined) {\n      const bk_div = document.createElement(\"div\");\n      bk_div.innerHTML = output.data[HTML_MIME_TYPE];\n      const script_attrs = bk_div.children[0].attributes;\n      for (let i = 0; i < script_attrs.length; i++) {\n        toinsert[toinsert.length - 1].firstChild.setAttribute(script_attrs[i].name, script_attrs[i].value);\n        toinsert[toinsert.length - 1].firstChild.textContent = bk_div.children[0].textContent\n      }\n      // store reference to server id on output_area\n      output_area._bokeh_server_id = output.metadata[EXEC_MIME_TYPE][\"server_id\"];\n    }\n  }\n\n  function register_renderer(events, OutputArea) {\n\n    function append_mime(data, metadata, element) {\n      // create a DOM node to render to\n      const toinsert = this.create_output_subarea(\n        metadata,\n        CLASS_NAME,\n        EXEC_MIME_TYPE\n      );\n      this.keyboard_manager.register_events(toinsert);\n      // Render to node\n      const props = {data: data, metadata: metadata[EXEC_MIME_TYPE]};\n      render(props, toinsert[toinsert.length - 1]);\n      element.append(toinsert);\n      return toinsert\n    }\n\n    /* Handle when an output is cleared or removed */\n    events.on('clear_output.CodeCell', handleClearOutput);\n    events.on('delete.Cell', handleClearOutput);\n\n    /* Handle when a new output is added */\n    events.on('output_added.OutputArea', handleAddOutput);\n\n    /**\n     * Register the mime type and append_mime function with output_area\n     */\n    OutputArea.prototype.register_mime_type(EXEC_MIME_TYPE, append_mime, {\n      /* Is output safe? */\n      safe: true,\n      /* Index of renderer in `output_area.display_order` */\n      index: 0\n    });\n  }\n\n  // register the mime type if in Jupyter Notebook environment and previously unregistered\n  if (root.Jupyter !== undefined) {\n    const events = require('base/js/events');\n    const OutputArea = require('notebook/js/outputarea').OutputArea;\n\n    if (OutputArea.prototype.mime_types().indexOf(EXEC_MIME_TYPE) == -1) {\n      register_renderer(events, OutputArea);\n    }\n  }\n  if (typeof (root._bokeh_timeout) === \"undefined\" || force === true) {\n    root._bokeh_timeout = Date.now() + 5000;\n    root._bokeh_failed_load = false;\n  }\n\n  const NB_LOAD_WARNING = {'data': {'text/html':\n     \"<div style='background-color: #fdd'>\\n\"+\n     \"<p>\\n\"+\n     \"BokehJS does not appear to have successfully loaded. If loading BokehJS from CDN, this \\n\"+\n     \"may be due to a slow or bad network connection. Possible fixes:\\n\"+\n     \"</p>\\n\"+\n     \"<ul>\\n\"+\n     \"<li>re-rerun `output_notebook()` to attempt to load from CDN again, or</li>\\n\"+\n     \"<li>use INLINE resources instead, as so:</li>\\n\"+\n     \"</ul>\\n\"+\n     \"<code>\\n\"+\n     \"from bokeh.resources import INLINE\\n\"+\n     \"output_notebook(resources=INLINE)\\n\"+\n     \"</code>\\n\"+\n     \"</div>\"}};\n\n  function display_loaded() {\n    const el = document.getElementById(\"f30091f8-d906-4701-8097-5225cbd6f528\");\n    if (el != null) {\n      el.textContent = \"BokehJS is loading...\";\n    }\n    if (root.Bokeh !== undefined) {\n      if (el != null) {\n        el.textContent = \"BokehJS \" + root.Bokeh.version + \" successfully loaded.\";\n      }\n    } else if (Date.now() < root._bokeh_timeout) {\n      setTimeout(display_loaded, 100)\n    }\n  }\n\n  function run_callbacks() {\n    try {\n      root._bokeh_onload_callbacks.forEach(function(callback) {\n        if (callback != null)\n          callback();\n      });\n    } finally {\n      delete root._bokeh_onload_callbacks\n    }\n    console.debug(\"Bokeh: all callbacks have finished\");\n  }\n\n  function load_libs(css_urls, js_urls, callback) {\n    if (css_urls == null) css_urls = [];\n    if (js_urls == null) js_urls = [];\n\n    root._bokeh_onload_callbacks.push(callback);\n    if (root._bokeh_is_loading > 0) {\n      console.debug(\"Bokeh: BokehJS is being loaded, scheduling callback at\", now());\n      return null;\n    }\n    if (js_urls == null || js_urls.length === 0) {\n      run_callbacks();\n      return null;\n    }\n    console.debug(\"Bokeh: BokehJS not loaded, scheduling load and callback at\", now());\n    root._bokeh_is_loading = css_urls.length + js_urls.length;\n\n    function on_load() {\n      root._bokeh_is_loading--;\n      if (root._bokeh_is_loading === 0) {\n        console.debug(\"Bokeh: all BokehJS libraries/stylesheets loaded\");\n        run_callbacks()\n      }\n    }\n\n    function on_error(url) {\n      console.error(\"failed to load \" + url);\n    }\n\n    for (let i = 0; i < css_urls.length; i++) {\n      const url = css_urls[i];\n      const element = document.createElement(\"link\");\n      element.onload = on_load;\n      element.onerror = on_error.bind(null, url);\n      element.rel = \"stylesheet\";\n      element.type = \"text/css\";\n      element.href = url;\n      console.debug(\"Bokeh: injecting link tag for BokehJS stylesheet: \", url);\n      document.body.appendChild(element);\n    }\n\n    for (let i = 0; i < js_urls.length; i++) {\n      const url = js_urls[i];\n      const element = document.createElement('script');\n      element.onload = on_load;\n      element.onerror = on_error.bind(null, url);\n      element.async = false;\n      element.src = url;\n      console.debug(\"Bokeh: injecting script tag for BokehJS library: \", url);\n      document.head.appendChild(element);\n    }\n  };\n\n  function inject_raw_css(css) {\n    const element = document.createElement(\"style\");\n    element.appendChild(document.createTextNode(css));\n    document.body.appendChild(element);\n  }\n\n  const js_urls = [\"https://cdn.bokeh.org/bokeh/release/bokeh-3.3.0.min.js\", \"https://cdn.bokeh.org/bokeh/release/bokeh-gl-3.3.0.min.js\", \"https://cdn.bokeh.org/bokeh/release/bokeh-widgets-3.3.0.min.js\", \"https://cdn.bokeh.org/bokeh/release/bokeh-tables-3.3.0.min.js\", \"https://cdn.bokeh.org/bokeh/release/bokeh-mathjax-3.3.0.min.js\"];\n  const css_urls = [];\n\n  const inline_js = [    function(Bokeh) {\n      Bokeh.set_log_level(\"info\");\n    },\nfunction(Bokeh) {\n    }\n  ];\n\n  function run_inline_js() {\n    if (root.Bokeh !== undefined || force === true) {\n          for (let i = 0; i < inline_js.length; i++) {\n      inline_js[i].call(root, root.Bokeh);\n    }\nif (force === true) {\n        display_loaded();\n      }} else if (Date.now() < root._bokeh_timeout) {\n      setTimeout(run_inline_js, 100);\n    } else if (!root._bokeh_failed_load) {\n      console.log(\"Bokeh: BokehJS failed to load within specified timeout.\");\n      root._bokeh_failed_load = true;\n    } else if (force !== true) {\n      const cell = $(document.getElementById(\"f30091f8-d906-4701-8097-5225cbd6f528\")).parents('.cell').data().cell;\n      cell.output_area.append_execute_result(NB_LOAD_WARNING)\n    }\n  }\n\n  if (root._bokeh_is_loading === 0) {\n    console.debug(\"Bokeh: BokehJS loaded, going straight to plotting\");\n    run_inline_js();\n  } else {\n    load_libs(css_urls, js_urls, function() {\n      console.debug(\"Bokeh: BokehJS plotting callback run at\", now());\n      run_inline_js();\n    });\n  }\n}(window));",
      "application/vnd.bokehjs_load.v0+json": ""
     },
     "metadata": {},
     "output_type": "display_data"
    }
   ],
   "source": [
    "import pandas as pd\n",
    "import numpy as np\n",
    "import os\n",
    "# For vector norms, and determinants. \n",
    "import numpy.linalg as la\n",
    "# Plotting\n",
    "import matplotlib as plt\n",
    "import seaborn as sns\n",
    "\n",
    "from bokeh.plotting import figure, show\n",
    "from bokeh.models import ColumnDataSource, VBar, Span, Legend\n",
    "from bokeh.io import output_notebook\n",
    "from bokeh.palettes import Category10\n",
    "output_notebook()\n",
    "\n",
    "import sklearn.linear_model as sl\n",
    "# use statsmodels to compute regression standard errors\n",
    "# since scikit learn doesn't compute them.\n",
    "import statsmodels.api as sm\n",
    "# use to create the embeddings\n",
    "# See  https://www.sbert.net/\n",
    "from sentence_transformers import SentenceTransformer, util # use sbert's cosine similarity measure\n",
    "EMBEDDING_DIMENSIONS = 384     # This model creates vectors of this length. \n",
    "# Principal component analysis\n",
    "from sklearn.decomposition import PCA, TruncatedSVD\n",
    "# The random number generator can be used to select a random set of columns for visualization\n",
    "from numpy.random import Generator, PCG64\n",
    "rng = Generator(PCG64())"
   ]
  },
  {
   "cell_type": "code",
   "execution_count": 2,
   "metadata": {},
   "outputs": [
    {
     "data": {
      "text/plain": [
       "array([[-0.00964857,  0.10622689,  0.04277224, ..., -0.163146  ,\n",
       "        -0.05269159,  0.07252569],\n",
       "       [-0.07081734,  0.0736165 ,  0.00798195, ..., -0.10635427,\n",
       "        -0.00107698, -0.01324285],\n",
       "       [-0.07396103,  0.06734046,  0.00833675, ...,  0.02894682,\n",
       "        -0.02589605,  0.02248044],\n",
       "       ...,\n",
       "       [ 0.00305274, -0.06696875, -0.00200646, ...,  0.05169871,\n",
       "         0.01019351,  0.01592024],\n",
       "       [-0.09265527, -0.05914293, -0.03460407, ...,  0.05178332,\n",
       "        -0.14583082,  0.0281018 ],\n",
       "       [-0.08597914,  0.05730409, -0.08375977, ..., -0.03080781,\n",
       "        -0.09040087,  0.01469508]])"
      ]
     },
     "execution_count": 2,
     "metadata": {},
     "output_type": "execute_result"
    }
   ],
   "source": [
    "# Load the embedding vectors dataset \n",
    "if os.environ['HOME'] == '/Users/jma':\n",
    "    featurized_parquet_file = '/Users/jma/Library/CloudStorage/OneDrive-Personal/' +\\\n",
    "    'teaching/sjsu/ISE201/ISE 201 - Math Foundations for Decision and Data Science/embeddings/' +\\\n",
    "    'sentence_embeddings.parquet'\n",
    "else:\n",
    "    featurized_parquet_file = 'data/sentence_embeddings.parquet'\n",
    "\n",
    "text_df = pd.read_parquet(featurized_parquet_file)\n",
    "\n",
    "# Extract the vector field and expand it to multiple rows. \n",
    "n_samples, embedding_dim = text_df.shape\n",
    "data_ar = np.empty((n_samples, EMBEDDING_DIMENSIONS), 'float')\n",
    "for i in range(n_samples):\n",
    "    x = text_df.values[i,2]\n",
    "    data_ar[i] = x \n",
    "    \n",
    "data_ar[1:8,:]"
   ]
  },
  {
   "cell_type": "code",
   "execution_count": 3,
   "metadata": {},
   "outputs": [
    {
     "data": {
      "text/html": [
       "<div>\n",
       "<style scoped>\n",
       "    .dataframe tbody tr th:only-of-type {\n",
       "        vertical-align: middle;\n",
       "    }\n",
       "\n",
       "    .dataframe tbody tr th {\n",
       "        vertical-align: top;\n",
       "    }\n",
       "\n",
       "    .dataframe thead th {\n",
       "        text-align: right;\n",
       "    }\n",
       "</style>\n",
       "<table border=\"1\" class=\"dataframe\">\n",
       "  <thead>\n",
       "    <tr style=\"text-align: right;\">\n",
       "      <th></th>\n",
       "      <th>review</th>\n",
       "      <th>sentiment</th>\n",
       "      <th>vector</th>\n",
       "    </tr>\n",
       "  </thead>\n",
       "  <tbody>\n",
       "    <tr>\n",
       "      <th>0</th>\n",
       "      <td>So there is no way for me to plug it in here i...</td>\n",
       "      <td>0</td>\n",
       "      <td>[0.08027008920907974, -0.04396028444170952, -0...</td>\n",
       "    </tr>\n",
       "    <tr>\n",
       "      <th>1</th>\n",
       "      <td>Good case, Excellent value.</td>\n",
       "      <td>1</td>\n",
       "      <td>[-0.009648566134274006, 0.10622689127922058, 0...</td>\n",
       "    </tr>\n",
       "    <tr>\n",
       "      <th>2</th>\n",
       "      <td>Great for the jawbone.</td>\n",
       "      <td>1</td>\n",
       "      <td>[-0.07081733644008636, 0.07361650466918945, 0....</td>\n",
       "    </tr>\n",
       "    <tr>\n",
       "      <th>3</th>\n",
       "      <td>Tied to charger for conversations lasting more...</td>\n",
       "      <td>0</td>\n",
       "      <td>[-0.0739610344171524, 0.06734045594930649, 0.0...</td>\n",
       "    </tr>\n",
       "    <tr>\n",
       "      <th>4</th>\n",
       "      <td>The mic is great.</td>\n",
       "      <td>1</td>\n",
       "      <td>[-0.09819574654102325, 0.010798277333378792, 0...</td>\n",
       "    </tr>\n",
       "  </tbody>\n",
       "</table>\n",
       "</div>"
      ],
      "text/plain": [
       "                                              review  sentiment  \\\n",
       "0  So there is no way for me to plug it in here i...          0   \n",
       "1                        Good case, Excellent value.          1   \n",
       "2                             Great for the jawbone.          1   \n",
       "3  Tied to charger for conversations lasting more...          0   \n",
       "4                                  The mic is great.          1   \n",
       "\n",
       "                                              vector  \n",
       "0  [0.08027008920907974, -0.04396028444170952, -0...  \n",
       "1  [-0.009648566134274006, 0.10622689127922058, 0...  \n",
       "2  [-0.07081733644008636, 0.07361650466918945, 0....  \n",
       "3  [-0.0739610344171524, 0.06734045594930649, 0.0...  \n",
       "4  [-0.09819574654102325, 0.010798277333378792, 0...  "
      ]
     },
     "execution_count": 3,
     "metadata": {},
     "output_type": "execute_result"
    }
   ],
   "source": [
    "text_df.head()"
   ]
  },
  {
   "cell_type": "code",
   "execution_count": 59,
   "metadata": {},
   "outputs": [
    {
     "data": {
      "text/plain": [
       "Text(0.5, 1.0, 'Error: 0.16')"
      ]
     },
     "execution_count": 59,
     "metadata": {},
     "output_type": "execute_result"
    },
    {
     "data": {
      "image/png": "[encoded data removed]",
      "text/plain": [
       "<Figure size 432x288 with 1 Axes>"
      ]
     },
     "metadata": {
      "needs_background": "light"
     },
     "output_type": "display_data"
    }
   ],
   "source": [
    "# Run a regularized linear regression\n",
    "def ridge_regression(data_ar, sample_size = 200, learning_alpha=0.1):\n",
    "    # Create a random sample, with replacement\n",
    "    learning_set = np.random.choice(np.arange(len(data_ar)), sample_size, replace=False)\n",
    "    learning_data = data_ar[learning_set,:]\n",
    "    learning_outcome = text_df['sentiment'].values[learning_set]\n",
    "    if learning_alpha == 0:\n",
    "        regression_model = sl.LinearRegression()\n",
    "    else:\n",
    "        regression_model = sl.Ridge(alpha=learning_alpha)\n",
    "    regression  =  regression_model.fit(learning_data, learning_outcome)\n",
    "\n",
    "    # Run predictions against a hold-out set\n",
    "    not_learning_set = set(text_df.index).difference(set(learning_set))\n",
    "    holdout_set = np.random.choice(np.arange(len(not_learning_set)), sample_size, replace=False)\n",
    "\n",
    "    test_threshold = 0.5\n",
    "    predictions = regression.predict(data_ar[holdout_set,:])\n",
    "    actuals = text_df['sentiment'].values[holdout_set]\n",
    "    test_df = pd.DataFrame(dict(prediction=pd.Series(predictions >= test_threshold), actual=pd.Series(actuals)))\n",
    "    test_error = sum(test_df.prediction != test_df.actual)/len(test_df)\n",
    "    return test_error, test_df\n",
    "\n",
    "test_error, test_df = ridge_regression(data_ar)\n",
    "sns.histplot(test_df).set_title(f'Error: {test_error}')\n",
    " "
   ]
  },
  {
   "cell_type": "markdown",
   "metadata": {},
   "source": [
    "# Ridge Regression Learning Curves\n",
    "\n",
    "Ridge regression forces regression coefficients toward zero.  Why would one want to introduce bias to the regression coefficients?  These learning curves show that accuracy can increase for smaller datasets by trading off increased bias for decreased variance. \n"
   ]
  },
  {
   "cell_type": "code",
   "execution_count": 77,
   "metadata": {},
   "outputs": [
    {
     "data": {
      "text/html": [
       "<div>\n",
       "<style scoped>\n",
       "    .dataframe tbody tr th:only-of-type {\n",
       "        vertical-align: middle;\n",
       "    }\n",
       "\n",
       "    .dataframe tbody tr th {\n",
       "        vertical-align: top;\n",
       "    }\n",
       "\n",
       "    .dataframe thead th {\n",
       "        text-align: right;\n",
       "    }\n",
       "</style>\n",
       "<table border=\"1\" class=\"dataframe\">\n",
       "  <thead>\n",
       "    <tr style=\"text-align: right;\">\n",
       "      <th></th>\n",
       "      <th>0</th>\n",
       "      <th>0.1</th>\n",
       "      <th>0.5</th>\n",
       "      <th>0.9</th>\n",
       "    </tr>\n",
       "  </thead>\n",
       "  <tbody>\n",
       "    <tr>\n",
       "      <th>count</th>\n",
       "      <td>50.000000</td>\n",
       "      <td>50.000000</td>\n",
       "      <td>50.000000</td>\n",
       "      <td>50.000000</td>\n",
       "    </tr>\n",
       "    <tr>\n",
       "      <th>mean</th>\n",
       "      <td>0.227471</td>\n",
       "      <td>0.194008</td>\n",
       "      <td>0.182168</td>\n",
       "      <td>0.185471</td>\n",
       "    </tr>\n",
       "    <tr>\n",
       "      <th>std</th>\n",
       "      <td>0.073592</td>\n",
       "      <td>0.071459</td>\n",
       "      <td>0.076735</td>\n",
       "      <td>0.100517</td>\n",
       "    </tr>\n",
       "    <tr>\n",
       "      <th>min</th>\n",
       "      <td>0.095238</td>\n",
       "      <td>0.083333</td>\n",
       "      <td>0.078498</td>\n",
       "      <td>0.083333</td>\n",
       "    </tr>\n",
       "    <tr>\n",
       "      <th>25%</th>\n",
       "      <td>0.173141</td>\n",
       "      <td>0.160926</td>\n",
       "      <td>0.132123</td>\n",
       "      <td>0.119886</td>\n",
       "    </tr>\n",
       "    <tr>\n",
       "      <th>50%</th>\n",
       "      <td>0.226378</td>\n",
       "      <td>0.180503</td>\n",
       "      <td>0.158863</td>\n",
       "      <td>0.145682</td>\n",
       "    </tr>\n",
       "    <tr>\n",
       "      <th>75%</th>\n",
       "      <td>0.265309</td>\n",
       "      <td>0.199383</td>\n",
       "      <td>0.211658</td>\n",
       "      <td>0.228224</td>\n",
       "    </tr>\n",
       "    <tr>\n",
       "      <th>max</th>\n",
       "      <td>0.428571</td>\n",
       "      <td>0.444444</td>\n",
       "      <td>0.400000</td>\n",
       "      <td>0.521739</td>\n",
       "    </tr>\n",
       "  </tbody>\n",
       "</table>\n",
       "</div>"
      ],
      "text/plain": [
       "               0        0.1        0.5        0.9\n",
       "count  50.000000  50.000000  50.000000  50.000000\n",
       "mean    0.227471   0.194008   0.182168   0.185471\n",
       "std     0.073592   0.071459   0.076735   0.100517\n",
       "min     0.095238   0.083333   0.078498   0.083333\n",
       "25%     0.173141   0.160926   0.132123   0.119886\n",
       "50%     0.226378   0.180503   0.158863   0.145682\n",
       "75%     0.265309   0.199383   0.211658   0.228224\n",
       "max     0.428571   0.444444   0.400000   0.521739"
      ]
     },
     "execution_count": 77,
     "metadata": {},
     "output_type": "execute_result"
    }
   ],
   "source": [
    "# Show learning curves for different penalty values for the regression\n",
    "alpha_range = [0, 0.1, 0.5,  0.9]# [0.01, 0.1, 0.5, 0.9, 0.95, 0.99]\n",
    "log_range = [round(x) for x in log_range]\n",
    "learning_curves = np.zeros([len(log_range), len(alpha_range)] )\n",
    "for m, size in enumerate(log_range):\n",
    "    for n, a in enumerate(alpha_range):\n",
    "        learning_curves[m,n] = ridge_regression(data_ar, size, a)[0]\n",
    "        # print(size, a, end=' ')\n",
    "    # print()\n",
    "df_learning_curves = pd.DataFrame(learning_curves, index=log_range, columns = [str(p) for p in alpha_range])\n",
    "df_learning_curves.describe()\n"
   ]
  },
  {
   "cell_type": "code",
   "execution_count": 101,
   "metadata": {},
   "outputs": [
    {
     "data": {
      "text/html": [
       "<div>\n",
       "<style scoped>\n",
       "    .dataframe tbody tr th:only-of-type {\n",
       "        vertical-align: middle;\n",
       "    }\n",
       "\n",
       "    .dataframe tbody tr th {\n",
       "        vertical-align: top;\n",
       "    }\n",
       "\n",
       "    .dataframe thead th {\n",
       "        text-align: right;\n",
       "    }\n",
       "</style>\n",
       "<table border=\"1\" class=\"dataframe\">\n",
       "  <thead>\n",
       "    <tr style=\"text-align: right;\">\n",
       "      <th></th>\n",
       "      <th>0</th>\n",
       "      <th>0.1</th>\n",
       "      <th>0.5</th>\n",
       "      <th>0.9</th>\n",
       "    </tr>\n",
       "  </thead>\n",
       "  <tbody>\n",
       "    <tr>\n",
       "      <th>count</th>\n",
       "      <td>50.000000</td>\n",
       "      <td>50.000000</td>\n",
       "      <td>50.000000</td>\n",
       "      <td>50.000000</td>\n",
       "    </tr>\n",
       "    <tr>\n",
       "      <th>mean</th>\n",
       "      <td>0.227471</td>\n",
       "      <td>0.194008</td>\n",
       "      <td>0.182168</td>\n",
       "      <td>0.185471</td>\n",
       "    </tr>\n",
       "    <tr>\n",
       "      <th>std</th>\n",
       "      <td>0.022968</td>\n",
       "      <td>0.017116</td>\n",
       "      <td>0.043125</td>\n",
       "      <td>0.050968</td>\n",
       "    </tr>\n",
       "    <tr>\n",
       "      <th>min</th>\n",
       "      <td>0.206475</td>\n",
       "      <td>0.170460</td>\n",
       "      <td>0.131916</td>\n",
       "      <td>0.123135</td>\n",
       "    </tr>\n",
       "    <tr>\n",
       "      <th>25%</th>\n",
       "      <td>0.207673</td>\n",
       "      <td>0.178274</td>\n",
       "      <td>0.143611</td>\n",
       "      <td>0.138990</td>\n",
       "    </tr>\n",
       "    <tr>\n",
       "      <th>50%</th>\n",
       "      <td>0.217277</td>\n",
       "      <td>0.192477</td>\n",
       "      <td>0.170036</td>\n",
       "      <td>0.173775</td>\n",
       "    </tr>\n",
       "    <tr>\n",
       "      <th>75%</th>\n",
       "      <td>0.244489</td>\n",
       "      <td>0.209609</td>\n",
       "      <td>0.219105</td>\n",
       "      <td>0.231271</td>\n",
       "    </tr>\n",
       "    <tr>\n",
       "      <th>max</th>\n",
       "      <td>0.272890</td>\n",
       "      <td>0.220680</td>\n",
       "      <td>0.258347</td>\n",
       "      <td>0.271115</td>\n",
       "    </tr>\n",
       "  </tbody>\n",
       "</table>\n",
       "</div>"
      ],
      "text/plain": [
       "               0        0.1        0.5        0.9\n",
       "count  50.000000  50.000000  50.000000  50.000000\n",
       "mean    0.227471   0.194008   0.182168   0.185471\n",
       "std     0.022968   0.017116   0.043125   0.050968\n",
       "min     0.206475   0.170460   0.131916   0.123135\n",
       "25%     0.207673   0.178274   0.143611   0.138990\n",
       "50%     0.217277   0.192477   0.170036   0.173775\n",
       "75%     0.244489   0.209609   0.219105   0.231271\n",
       "max     0.272890   0.220680   0.258347   0.271115"
      ]
     },
     "execution_count": 101,
     "metadata": {},
     "output_type": "execute_result"
    }
   ],
   "source": [
    "# Smoothed learning curves\n",
    "from scipy.ndimage import gaussian_filter1d\n",
    "\n",
    "smoothed_lcurves = np.zeros(learning_curves.shape)\n",
    "for col in range(learning_curves.shape[1]):\n",
    "    smoothed_lcurves[:,col] = gaussian_filter1d(learning_curves[:,col], sigma=10)\n",
    "\n",
    "df_smoothed_lcurves = pd.DataFrame(smoothed_lcurves, index=log_range, columns = [str(p) for p in alpha_range])\n",
    "df_smoothed_lcurves.describe()"
   ]
  },
  {
   "cell_type": "code",
   "execution_count": 93,
   "metadata": {},
   "outputs": [
    {
     "data": {
      "text/plain": [
       "dict_keys(['level_0', 'index', '0', '0.1', '0.5', '0.9'])"
      ]
     },
     "execution_count": 93,
     "metadata": {},
     "output_type": "execute_result"
    }
   ],
   "source": [
    "raw_src.data.keys()"
   ]
  },
  {
   "cell_type": "code",
   "execution_count": 110,
   "metadata": {},
   "outputs": [
    {
     "data": {
      "text/html": [
       "\n",
       "  <div id=\"c05df323-44f9-4c26-987a-2e6a62e5c6b4\" data-root-id=\"p2598\" style=\"display: contents;\"></div>\n"
      ]
     },
     "metadata": {},
     "output_type": "display_data"
    },
    {
     "data": {
      "application/javascript": "(function(root) {\n  function embed_document(root) {\n  const docs_json = {\"a3f6fab1-dccd-4920-b603-7a1be4850fae\":{\"version\":\"3.3.0\",\"title\":\"Bokeh Application\",\"roots\":[{\"type\":\"object\",\"name\":\"Figure\",\"id\":\"p2598\",\"attributes\":{\"width\":1000,\"height\":500,\"x_range\":{\"type\":\"object\",\"name\":\"DataRange1d\",\"id\":\"p2599\"},\"y_range\":{\"type\":\"object\",\"name\":\"DataRange1d\",\"id\":\"p2600\"},\"x_scale\":{\"type\":\"object\",\"name\":\"LinearScale\",\"id\":\"p2608\"},\"y_scale\":{\"type\":\"object\",\"name\":\"LinearScale\",\"id\":\"p2609\"},\"title\":{\"type\":\"object\",\"name\":\"Title\",\"id\":\"p2601\",\"attributes\":{\"text\":\"Ridge Regression Learning Curves\"}},\"renderers\":[{\"type\":\"object\",\"name\":\"GlyphRenderer\",\"id\":\"p2639\",\"attributes\":{\"data_source\":{\"type\":\"object\",\"name\":\"ColumnDataSource\",\"id\":\"p2627\",\"attributes\":{\"selected\":{\"type\":\"object\",\"name\":\"Selection\",\"id\":\"p2628\",\"attributes\":{\"indices\":[],\"line_indices\":[]}},\"selection_policy\":{\"type\":\"object\",\"name\":\"UnionRenderers\",\"id\":\"p2629\"},\"data\":{\"type\":\"map\",\"entries\":[[\"level_0\",{\"type\":\"ndarray\",\"array\":{\"type\":\"bytes\",\"data\":\"AAAAAAEAAAACAAAAAwAAAAQAAAAFAAAABgAAAAcAAAAIAAAACQAAAAoAAAALAAAADAAAAA0AAAAOAAAADwAAABAAAAARAAAAEgAAABMAAAAUAAAAFQAAABYAAAAXAAAAGAAAABkAAAAaAAAAGwAAABwAAAAdAAAAHgAAAB8AAAAgAAAAIQAAACIAAAAjAAAAJAAAACUAAAAmAAAAJwAAACgAAAApAAAAKgAAACsAAAAsAAAALQAAAC4AAAAvAAAAMAAAADEAAAA=\"},\"shape\":[50],\"dtype\":\"int32\",\"order\":\"little\"}],[\"index\",{\"type\":\"ndarray\",\"array\":{\"type\":\"bytes\",\"data\":\"FAAAABUAAAAXAAAAGAAAABkAAAAbAAAAHQAAAB8AAAAhAAAAIwAAACUAAAAnAAAAKgAAACwAAAAvAAAAMgAAADUAAAA4AAAAPAAAAEAAAABEAAAASAAAAE0AAABRAAAAVgAAAFwAAABiAAAAaAAAAG4AAAB1AAAAfQAAAIUAAACNAAAAlgAAAJ8AAACpAAAAtAAAAL8AAADLAAAA2AAAAOYAAAD0AAAABAEAABQBAAAlAQAAOAEAAEsBAABgAQAAdwEAAI4BAAA=\"},\"shape\":[50],\"dtype\":\"int32\",\"order\":\"little\"}],[\"0\",{\"type\":\"ndarray\",\"array\":{\"type\":\"bytes\",\"data\":\"mpmZmZmZuT/btm3btm3bPwtZyEIWssA/q6qqqqqqyj97FK5H4XrEP0J7Ce0ltMc/Ccs9jbDc0z/nnHPOOefMPyebbLLJJss/UAd1UAd10D92gynyWTfIPxqkQRqkQbo/GIZhGIZhuD8XXXTRRRe9P1cQkyuIycU/7FG4HoXrwT9NMN7KPofUPwAAAAAAANA/MzMzMzMz0z8AAAAAAADTPzw8PDw8PMw/q6qqqqqqyj/Oyk+Is/LDP35YpAw83co/cUfcEXfEzT8WspCFLGTRP9u2bdu2bcs/dmIndmInxj/tG9a+Ye3LP5MpmZIpmcI/Gy/dJAaBxT95DeU1lNfQP3TAbo+1DM0/MJb8Yskvxj+5U7RwBoTSPwvRhs8fc8Q/F2zBFmzBxj8fVwHBkGzRP0dY7mmE5c4/Ce0ltJfQzj/YJZUP437NPy4ZgnW0ec8/AAAAAAAA0D9grh2YawfWP3J5EXwK5M8/aZAGaZAG0T99vUEhX2/QP7rooosuutY/lYqzD59h1z/xkwtRN4PWPw==\"},\"shape\":[50],\"dtype\":\"float64\",\"order\":\"little\"}],[\"0.1\",{\"type\":\"ndarray\",\"array\":{\"type\":\"bytes\",\"data\":\"mpmZmZmZyT8YhmEYhmG4P2QhC1nIQsY/VVVVVVVVtT8pXI/C9SjcPxzHcRzHcdw/YbmnEZZ7yj+llFJKKaXEP3TRRRdddNE/kiRJkiRJ0j8cTJHPusHUP5AGaZAGacA/GIZhGIZhyD900UUXXXTRP0FMriAmV8A/uB6F61G4vj8iNcF4K/u8P9u2bdu2bcs/ERERERERwT8AAAAAAADUP7W0tLS0tMQ/x3Ecx3Ecxz81sHdMDezNP+Dp1vywSMk/1pQ1ZU1Zwz9605ve9KbHP9aHxvrQWM8/J3ZiJ3Zixz9wWPuGtW/IP6D7uZ/7uc8/+n5qvHSTyD+QcUHGBRnHP1uGDtjtscY/VVVVVVVVxT/Z55CaYLzFP+Yo3b6yesc/lD7pkz7pwz+T7jKmfB3GP2lnSq+/OMk/x3Ecx3Ecxz9bDZ4jULTFPw3BOtq8T8E/MzMzMzMzwz+RhSxkIQvJP9q7tXDTdsg/VVVVVVVVxT91m0Uy3WbBP3TRRRdddMU/ukkMAiuHxj9n0LLjOZXEPw==\"},\"shape\":[50],\"dtype\":\"float64\",\"order\":\"little\"}],[\"0.5\",{\"type\":\"ndarray\",\"array\":{\"type\":\"bytes\",\"data\":\"MzMzMzMz0z9VVVVVVVXVPzi96U1vetM/q6qqqqqqyj+amZmZmZnZP0J7Ce0ltNc/lnsaYbmnwT/GGGOMMcbYP3TRRRdddNE/mpmZmZmZyT8cTJHPusHEPxqkQRqkQbo/MQzDMAzD0D8XXXTRRRfNP23UdzbqO8s/mpmZmZmZuT+pCcZb2efQP27btm3bts0/MzMzMzMzwz8AAAAAAADAP7W0tLS0tMQ/5DiO4ziOwz8KcVZ+QpzFPwaebs0Pi8Q/NmVNWVPWxD8hC1nIQhbCP+HlFLycgsc/J3ZiJ3Zixz+eEuQpQZ7CP5u1WZu1Wcs/O99PjZduwj/A7AGzB8y+P1AknNK8+MM/A5020GkDvT/JnaKFMyDEPyYPBpxxLcI/2IIt2IItyD/F0x5XAcHAP4PIA1fRzsQ/9xLaS2gvwT8dgaKtBs/BP/wUlwzBOro/tVIrtVIrxT/MtQNz7cC8P7y1cNN2GLQ/IQ3SIA3SwD8hX29QyNe7Py+66KKLLsI/zYWkKRVnvz9USQEJP7nAPw==\"},\"shape\":[50],\"dtype\":\"float64\",\"order\":\"little\"}],[\"0.9\",{\"type\":\"ndarray\",\"array\":{\"type\":\"bytes\",\"data\":\"zczMzMzM3D8YhmEYhmHYPwtZyEIWsuA/VVVVVVVVtT+4HoXrUbjOP2gvob2E9sI/YbmnEZZ7uj/nnHPOOefcP3TRRRdddNE/UAd1UAd10D/QusEU+azLP9IgDdIgDdI/nud5nud5zj9GF1100UXHP0yuICZXENM/7FG4HoXrwT/Z55CaYLzVP5IkSZIkScI/AAAAAAAA0D8AAAAAAADAPzw8PDw8PMw/VVVVVVVVtT9GF1100UW3P8rA0635YcE/U9aUNWVNyT84velNb3rDP5IkSZIkScI/ntiJndiJzT9BnhLkKUG+P5AGaZAGacA/ukkMAiuHxj+QcUHGBRnHP1cQkyuIycU/exSuR+F6xD/RwhkQSu7EPyYPBpxxLcI/3t3d3d3dvT9rUDztcRXAP4cf1SVmLcQ/chzHcRzHwT8UbTV4jkDBP1hHm/cpLrk/8AM/8AM/wD+96U1vetO7P4uNhu6D9bs/dmIndmIntj8nR2zcyRG7P7rooosuurg/ZIIH80T9uz+cQcuO51TCPw==\"},\"shape\":[50],\"dtype\":\"float64\",\"order\":\"little\"}]]}}},\"view\":{\"type\":\"object\",\"name\":\"CDSView\",\"id\":\"p2640\",\"attributes\":{\"filter\":{\"type\":\"object\",\"name\":\"AllIndices\",\"id\":\"p2641\"}}},\"glyph\":{\"type\":\"object\",\"name\":\"Scatter\",\"id\":\"p2636\",\"attributes\":{\"x\":{\"type\":\"field\",\"field\":\"index\"},\"y\":{\"type\":\"field\",\"field\":\"0\"},\"line_color\":{\"type\":\"value\",\"value\":\"#1f77b4\"},\"fill_color\":{\"type\":\"value\",\"value\":\"#1f77b4\"},\"hatch_color\":{\"type\":\"value\",\"value\":\"#1f77b4\"}}},\"nonselection_glyph\":{\"type\":\"object\",\"name\":\"Scatter\",\"id\":\"p2637\",\"attributes\":{\"x\":{\"type\":\"field\",\"field\":\"index\"},\"y\":{\"type\":\"field\",\"field\":\"0\"},\"line_color\":{\"type\":\"value\",\"value\":\"#1f77b4\"},\"line_alpha\":{\"type\":\"value\",\"value\":0.1},\"fill_color\":{\"type\":\"value\",\"value\":\"#1f77b4\"},\"fill_alpha\":{\"type\":\"value\",\"value\":0.1},\"hatch_color\":{\"type\":\"value\",\"value\":\"#1f77b4\"},\"hatch_alpha\":{\"type\":\"value\",\"value\":0.1}}},\"muted_glyph\":{\"type\":\"object\",\"name\":\"Scatter\",\"id\":\"p2638\",\"attributes\":{\"x\":{\"type\":\"field\",\"field\":\"index\"},\"y\":{\"type\":\"field\",\"field\":\"0\"},\"line_color\":{\"type\":\"value\",\"value\":\"#1f77b4\"},\"line_alpha\":{\"type\":\"value\",\"value\":0.2},\"fill_color\":{\"type\":\"value\",\"value\":\"#1f77b4\"},\"fill_alpha\":{\"type\":\"value\",\"value\":0.2},\"hatch_color\":{\"type\":\"value\",\"value\":\"#1f77b4\"},\"hatch_alpha\":{\"type\":\"value\",\"value\":0.2}}}}},{\"type\":\"object\",\"name\":\"GlyphRenderer\",\"id\":\"p2648\",\"attributes\":{\"data_source\":{\"type\":\"object\",\"name\":\"ColumnDataSource\",\"id\":\"p2630\",\"attributes\":{\"selected\":{\"type\":\"object\",\"name\":\"Selection\",\"id\":\"p2631\",\"attributes\":{\"indices\":[],\"line_indices\":[]}},\"selection_policy\":{\"type\":\"object\",\"name\":\"UnionRenderers\",\"id\":\"p2632\"},\"data\":{\"type\":\"map\",\"entries\":[[\"level_0\",{\"type\":\"ndarray\",\"array\":{\"type\":\"bytes\",\"data\":\"AAAAAAEAAAACAAAAAwAAAAQAAAAFAAAABgAAAAcAAAAIAAAACQAAAAoAAAALAAAADAAAAA0AAAAOAAAADwAAABAAAAARAAAAEgAAABMAAAAUAAAAFQAAABYAAAAXAAAAGAAAABkAAAAaAAAAGwAAABwAAAAdAAAAHgAAAB8AAAAgAAAAIQAAACIAAAAjAAAAJAAAACUAAAAmAAAAJwAAACgAAAApAAAAKgAAACsAAAAsAAAALQAAAC4AAAAvAAAAMAAAADEAAAA=\"},\"shape\":[50],\"dtype\":\"int32\",\"order\":\"little\"}],[\"index\",{\"type\":\"ndarray\",\"array\":{\"type\":\"bytes\",\"data\":\"FAAAABUAAAAXAAAAGAAAABkAAAAbAAAAHQAAAB8AAAAhAAAAIwAAACUAAAAnAAAAKgAAACwAAAAvAAAAMgAAADUAAAA4AAAAPAAAAEAAAABEAAAASAAAAE0AAABRAAAAVgAAAFwAAABiAAAAaAAAAG4AAAB1AAAAfQAAAIUAAACNAAAAlgAAAJ8AAACpAAAAtAAAAL8AAADLAAAA2AAAAOYAAAD0AAAABAEAABQBAAAlAQAAOAEAAEsBAABgAQAAdwEAAI4BAAA=\"},\"shape\":[50],\"dtype\":\"int32\",\"order\":\"little\"}],[\"0\",{\"type\":\"ndarray\",\"array\":{\"type\":\"bytes\",\"data\":\"SHNI7Zxxyj9CpTcCInHKPxdoDqlFcMo/RU6GMEBvyj9G5xNjT27KP1VFJI7Gbco/JBK5vvNtyj/LJem2VW/KP5pqllEvcso/NNxFhdB2yj8a+f6ihH3KP6cTkhdyhso/oFDx96iRyj8WpjVWMJ/KPzfD4pr8rso/jKJocPLAyj9QHKYnBtXKP87YFjQE68o/k+TwYNsCyz8H4RHsdBzLP4Z/swHfN8s/LbAVRTNVyz8QA3W3tXTLP0VOdnWxlss/7//B/Yy7yz89EG5B7ePLPwbrlOI2EMw/D0zIfBVBzD+qsx2QFnfMP4IAynWussw/wpmqQEX0zD+WjV+2LDzNPwOc6v16is0/LhFL0BHfzT/Na0KZkznOP7U4niBumc4/02VMO7n9zj9LANWUTWXPP5yEDZDmzs8/AR+H6Goc0D+0Rx/70FDQP2OYko+mg9A/4BCYPuqz0D/7AwdPyuDQP3VzgHg7CdE/tjYZJm8s0T8RBRTBl0nRP4wlQfcKYNE/QeCKJE9v0T/Vq0BXCXfRPw==\"},\"shape\":[50],\"dtype\":\"float64\",\"order\":\"little\"}],[\"0.1\",{\"type\":\"ndarray\",\"array\":{\"type\":\"bytes\",\"data\":\"vyrr6Dw/zD/Q0OMWNjrMP567cTkzMMw/MMD0p0ohzD9m5iankA3MP1L94eUk9cs/BUMf/T3Yyz82mwzyJLfLP/hMhfgtkss/7GpZfcBpyz9eQGFzVj7LP3k6TtR1EMs/trYUqrfgyj8DmeYtqa/KP8X+RYnefco/p1DvPO9Lyj+xBIydVBrKPwRAqBRu6ck/e+z5U5O5yT9o6dI1CovJP/pEVS7sXck/P2Vp2zIyyT8p8m/65QfJP6YNdgPI3sg/Tabhbbu2yD+yBy63d4/IP/c4Yu/BaMg/QIUCy1hCyD8gVUtAIBzIPyatfqXw9cc/DKQlyKXPxz+QxpJiSanHP6gXSZLogsc/4btr5a9cxz8XAz6GszbHP+JcFgQiEcc/dKwQzV7sxj/rUa1bzcjGP3CZ/rOHpsY/WJ6uIu+Fxj+keXDTUmfGP+kmjAPpSsY/2ZIGzBExxj/ctaxM5xnGPw1Ccjm0BcY/020duX/0xT8I18UToObFPxYO6owt3MU/d5jqMiXVxT+GA64+odHFPw==\"},\"shape\":[50],\"dtype\":\"float64\",\"order\":\"little\"}],[\"0.5\",{\"type\":\"ndarray\",\"array\":{\"type\":\"bytes\",\"data\":\"VdD158OI0D+xsD7euX7QP6ucn/nYatA/D6zG0nxN0D8OLn7FKifQP25o35Y28c8/okYWxDGFzz9PpQSzJwzPP8JbVD8JiM4/TnI5T/T6zT9QV4ZT/2bNPzKTWM48zsw/7gZxY70yzD/sPrSWU5bLP2HlfWG/+so/RRW7PYFhyj/5U9sB58vJP3DQZI8HO8k/NFGaCKyvyD+wKnngdyrIP070Y9HFq8c/HncfWMkzxz9b3d+gdcLGP9rn5tKmV8Y/KFUQwhDzxT/mP/JYZpTFP4I/tJIWO8U/XaGiornmxD9HfGNOypbEP90jx+vjSsQ/5pZ5EogCxD95Mh9OTb3DP6UfU/XqesM/IgmUWiA7wz8rrn9Z3v3CP17m3G/rwsI/rsBgcV2Kwj8qPpdBWlTCPyd0EeLpIMI/txXHH0vwwT+MnX9avsLBP75WwReNmME/A5U5AAlywT+HzQ6PhE/BP1IqE389McE/roxmQXwXwT+aBLOCkQLBP7E6huzE8sA/mURkrAPowD8EK7S1n+LAPw==\"},\"shape\":[50],\"dtype\":\"float64\",\"order\":\"little\"}],[\"0.9\",{\"type\":\"ndarray\",\"array\":{\"type\":\"bytes\",\"data\":\"NhD7N/JZ0T+LP2lTLVDRPxxX8UXMPNE/jL+P1Rog0T+JnVrphvrQPx+81fqbzNA/QtKwyAWX0D8gqxcyhFrQP1JgJ9/oF9A/xfDTlSWgzz/wTI/6ywfPP5VXDZCRaM4/wRpXHjvEzT+iWkZpexzNPzQq1IcGc8w/naNMz17Jyz8FVg2k5yDLP/fp6prteso/qYlxkIDYyT8Yr6ugjTrJPyDJDbTEocg/PEPnvcoOyD+Wpgu55oHHP4+6dqhh+8Y/sVDX9y17xj/y3le2UwHGP8Bm+g91jcU/JcLxMlkfxT8jowv2irbEP6efJU6dUsQ/JYvXuyPzwz+VJOqLqpfDP1y3egniP8M/fUARGl/rwj+Gu3SWHZrCP80BZuvbS8I/e84duYwAwj8SiCQjXbjBP8Cx3lVPc8E/reQpk/ExwT8yWnL2c/TAP6r38O1Zu8A/uCXQIwWHwD+MSLTF9lfAP3zm7nWvLsA/uv+eqoQLwD/euaqXt92/P8Kd4q0lsr8/yVq4Tp+Uvz+hymO0zoW/Pw==\"},\"shape\":[50],\"dtype\":\"float64\",\"order\":\"little\"}]]}}},\"view\":{\"type\":\"object\",\"name\":\"CDSView\",\"id\":\"p2649\",\"attributes\":{\"filter\":{\"type\":\"object\",\"name\":\"AllIndices\",\"id\":\"p2650\"}}},\"glyph\":{\"type\":\"object\",\"name\":\"Line\",\"id\":\"p2645\",\"attributes\":{\"x\":{\"type\":\"field\",\"field\":\"index\"},\"y\":{\"type\":\"field\",\"field\":\"0\"},\"line_color\":\"#1f77b4\"}},\"nonselection_glyph\":{\"type\":\"object\",\"name\":\"Line\",\"id\":\"p2646\",\"attributes\":{\"x\":{\"type\":\"field\",\"field\":\"index\"},\"y\":{\"type\":\"field\",\"field\":\"0\"},\"line_color\":\"#1f77b4\",\"line_alpha\":0.1}},\"muted_glyph\":{\"type\":\"object\",\"name\":\"Line\",\"id\":\"p2647\",\"attributes\":{\"x\":{\"type\":\"field\",\"field\":\"index\"},\"y\":{\"type\":\"field\",\"field\":\"0\"},\"line_color\":\"#1f77b4\",\"line_alpha\":0.2}}}},{\"type\":\"object\",\"name\":\"GlyphRenderer\",\"id\":\"p2659\",\"attributes\":{\"data_source\":{\"id\":\"p2627\"},\"view\":{\"type\":\"object\",\"name\":\"CDSView\",\"id\":\"p2660\",\"attributes\":{\"filter\":{\"type\":\"object\",\"name\":\"AllIndices\",\"id\":\"p2661\"}}},\"glyph\":{\"type\":\"object\",\"name\":\"Scatter\",\"id\":\"p2656\",\"attributes\":{\"x\":{\"type\":\"field\",\"field\":\"index\"},\"y\":{\"type\":\"field\",\"field\":\"0.1\"},\"line_color\":{\"type\":\"value\",\"value\":\"#ff7f0e\"},\"fill_color\":{\"type\":\"value\",\"value\":\"#ff7f0e\"},\"hatch_color\":{\"type\":\"value\",\"value\":\"#ff7f0e\"}}},\"nonselection_glyph\":{\"type\":\"object\",\"name\":\"Scatter\",\"id\":\"p2657\",\"attributes\":{\"x\":{\"type\":\"field\",\"field\":\"index\"},\"y\":{\"type\":\"field\",\"field\":\"0.1\"},\"line_color\":{\"type\":\"value\",\"value\":\"#ff7f0e\"},\"line_alpha\":{\"type\":\"value\",\"value\":0.1},\"fill_color\":{\"type\":\"value\",\"value\":\"#ff7f0e\"},\"fill_alpha\":{\"type\":\"value\",\"value\":0.1},\"hatch_color\":{\"type\":\"value\",\"value\":\"#ff7f0e\"},\"hatch_alpha\":{\"type\":\"value\",\"value\":0.1}}},\"muted_glyph\":{\"type\":\"object\",\"name\":\"Scatter\",\"id\":\"p2658\",\"attributes\":{\"x\":{\"type\":\"field\",\"field\":\"index\"},\"y\":{\"type\":\"field\",\"field\":\"0.1\"},\"line_color\":{\"type\":\"value\",\"value\":\"#ff7f0e\"},\"line_alpha\":{\"type\":\"value\",\"value\":0.2},\"fill_color\":{\"type\":\"value\",\"value\":\"#ff7f0e\"},\"fill_alpha\":{\"type\":\"value\",\"value\":0.2},\"hatch_color\":{\"type\":\"value\",\"value\":\"#ff7f0e\"},\"hatch_alpha\":{\"type\":\"value\",\"value\":0.2}}}}},{\"type\":\"object\",\"name\":\"GlyphRenderer\",\"id\":\"p2668\",\"attributes\":{\"data_source\":{\"id\":\"p2630\"},\"view\":{\"type\":\"object\",\"name\":\"CDSView\",\"id\":\"p2669\",\"attributes\":{\"filter\":{\"type\":\"object\",\"name\":\"AllIndices\",\"id\":\"p2670\"}}},\"glyph\":{\"type\":\"object\",\"name\":\"Line\",\"id\":\"p2665\",\"attributes\":{\"x\":{\"type\":\"field\",\"field\":\"index\"},\"y\":{\"type\":\"field\",\"field\":\"0.1\"},\"line_color\":\"#ff7f0e\"}},\"nonselection_glyph\":{\"type\":\"object\",\"name\":\"Line\",\"id\":\"p2666\",\"attributes\":{\"x\":{\"type\":\"field\",\"field\":\"index\"},\"y\":{\"type\":\"field\",\"field\":\"0.1\"},\"line_color\":\"#ff7f0e\",\"line_alpha\":0.1}},\"muted_glyph\":{\"type\":\"object\",\"name\":\"Line\",\"id\":\"p2667\",\"attributes\":{\"x\":{\"type\":\"field\",\"field\":\"index\"},\"y\":{\"type\":\"field\",\"field\":\"0.1\"},\"line_color\":\"#ff7f0e\",\"line_alpha\":0.2}}}},{\"type\":\"object\",\"name\":\"GlyphRenderer\",\"id\":\"p2678\",\"attributes\":{\"data_source\":{\"id\":\"p2627\"},\"view\":{\"type\":\"object\",\"name\":\"CDSView\",\"id\":\"p2679\",\"attributes\":{\"filter\":{\"type\":\"object\",\"name\":\"AllIndices\",\"id\":\"p2680\"}}},\"glyph\":{\"type\":\"object\",\"name\":\"Scatter\",\"id\":\"p2675\",\"attributes\":{\"x\":{\"type\":\"field\",\"field\":\"index\"},\"y\":{\"type\":\"field\",\"field\":\"0.5\"},\"line_color\":{\"type\":\"value\",\"value\":\"#2ca02c\"},\"fill_color\":{\"type\":\"value\",\"value\":\"#2ca02c\"},\"hatch_color\":{\"type\":\"value\",\"value\":\"#2ca02c\"}}},\"nonselection_glyph\":{\"type\":\"object\",\"name\":\"Scatter\",\"id\":\"p2676\",\"attributes\":{\"x\":{\"type\":\"field\",\"field\":\"index\"},\"y\":{\"type\":\"field\",\"field\":\"0.5\"},\"line_color\":{\"type\":\"value\",\"value\":\"#2ca02c\"},\"line_alpha\":{\"type\":\"value\",\"value\":0.1},\"fill_color\":{\"type\":\"value\",\"value\":\"#2ca02c\"},\"fill_alpha\":{\"type\":\"value\",\"value\":0.1},\"hatch_color\":{\"type\":\"value\",\"value\":\"#2ca02c\"},\"hatch_alpha\":{\"type\":\"value\",\"value\":0.1}}},\"muted_glyph\":{\"type\":\"object\",\"name\":\"Scatter\",\"id\":\"p2677\",\"attributes\":{\"x\":{\"type\":\"field\",\"field\":\"index\"},\"y\":{\"type\":\"field\",\"field\":\"0.5\"},\"line_color\":{\"type\":\"value\",\"value\":\"#2ca02c\"},\"line_alpha\":{\"type\":\"value\",\"value\":0.2},\"fill_color\":{\"type\":\"value\",\"value\":\"#2ca02c\"},\"fill_alpha\":{\"type\":\"value\",\"value\":0.2},\"hatch_color\":{\"type\":\"value\",\"value\":\"#2ca02c\"},\"hatch_alpha\":{\"type\":\"value\",\"value\":0.2}}}}},{\"type\":\"object\",\"name\":\"GlyphRenderer\",\"id\":\"p2687\",\"attributes\":{\"data_source\":{\"id\":\"p2630\"},\"view\":{\"type\":\"object\",\"name\":\"CDSView\",\"id\":\"p2688\",\"attributes\":{\"filter\":{\"type\":\"object\",\"name\":\"AllIndices\",\"id\":\"p2689\"}}},\"glyph\":{\"type\":\"object\",\"name\":\"Line\",\"id\":\"p2684\",\"attributes\":{\"x\":{\"type\":\"field\",\"field\":\"index\"},\"y\":{\"type\":\"field\",\"field\":\"0.5\"},\"line_color\":\"#2ca02c\"}},\"nonselection_glyph\":{\"type\":\"object\",\"name\":\"Line\",\"id\":\"p2685\",\"attributes\":{\"x\":{\"type\":\"field\",\"field\":\"index\"},\"y\":{\"type\":\"field\",\"field\":\"0.5\"},\"line_color\":\"#2ca02c\",\"line_alpha\":0.1}},\"muted_glyph\":{\"type\":\"object\",\"name\":\"Line\",\"id\":\"p2686\",\"attributes\":{\"x\":{\"type\":\"field\",\"field\":\"index\"},\"y\":{\"type\":\"field\",\"field\":\"0.5\"},\"line_color\":\"#2ca02c\",\"line_alpha\":0.2}}}},{\"type\":\"object\",\"name\":\"GlyphRenderer\",\"id\":\"p2697\",\"attributes\":{\"data_source\":{\"id\":\"p2627\"},\"view\":{\"type\":\"object\",\"name\":\"CDSView\",\"id\":\"p2698\",\"attributes\":{\"filter\":{\"type\":\"object\",\"name\":\"AllIndices\",\"id\":\"p2699\"}}},\"glyph\":{\"type\":\"object\",\"name\":\"Scatter\",\"id\":\"p2694\",\"attributes\":{\"x\":{\"type\":\"field\",\"field\":\"index\"},\"y\":{\"type\":\"field\",\"field\":\"0.9\"},\"line_color\":{\"type\":\"value\",\"value\":\"#d62728\"},\"fill_color\":{\"type\":\"value\",\"value\":\"#d62728\"},\"hatch_color\":{\"type\":\"value\",\"value\":\"#d62728\"}}},\"nonselection_glyph\":{\"type\":\"object\",\"name\":\"Scatter\",\"id\":\"p2695\",\"attributes\":{\"x\":{\"type\":\"field\",\"field\":\"index\"},\"y\":{\"type\":\"field\",\"field\":\"0.9\"},\"line_color\":{\"type\":\"value\",\"value\":\"#d62728\"},\"line_alpha\":{\"type\":\"value\",\"value\":0.1},\"fill_color\":{\"type\":\"value\",\"value\":\"#d62728\"},\"fill_alpha\":{\"type\":\"value\",\"value\":0.1},\"hatch_color\":{\"type\":\"value\",\"value\":\"#d62728\"},\"hatch_alpha\":{\"type\":\"value\",\"value\":0.1}}},\"muted_glyph\":{\"type\":\"object\",\"name\":\"Scatter\",\"id\":\"p2696\",\"attributes\":{\"x\":{\"type\":\"field\",\"field\":\"index\"},\"y\":{\"type\":\"field\",\"field\":\"0.9\"},\"line_color\":{\"type\":\"value\",\"value\":\"#d62728\"},\"line_alpha\":{\"type\":\"value\",\"value\":0.2},\"fill_color\":{\"type\":\"value\",\"value\":\"#d62728\"},\"fill_alpha\":{\"type\":\"value\",\"value\":0.2},\"hatch_color\":{\"type\":\"value\",\"value\":\"#d62728\"},\"hatch_alpha\":{\"type\":\"value\",\"value\":0.2}}}}},{\"type\":\"object\",\"name\":\"GlyphRenderer\",\"id\":\"p2706\",\"attributes\":{\"data_source\":{\"id\":\"p2630\"},\"view\":{\"type\":\"object\",\"name\":\"CDSView\",\"id\":\"p2707\",\"attributes\":{\"filter\":{\"type\":\"object\",\"name\":\"AllIndices\",\"id\":\"p2708\"}}},\"glyph\":{\"type\":\"object\",\"name\":\"Line\",\"id\":\"p2703\",\"attributes\":{\"x\":{\"type\":\"field\",\"field\":\"index\"},\"y\":{\"type\":\"field\",\"field\":\"0.9\"},\"line_color\":\"#d62728\"}},\"nonselection_glyph\":{\"type\":\"object\",\"name\":\"Line\",\"id\":\"p2704\",\"attributes\":{\"x\":{\"type\":\"field\",\"field\":\"index\"},\"y\":{\"type\":\"field\",\"field\":\"0.9\"},\"line_color\":\"#d62728\",\"line_alpha\":0.1}},\"muted_glyph\":{\"type\":\"object\",\"name\":\"Line\",\"id\":\"p2705\",\"attributes\":{\"x\":{\"type\":\"field\",\"field\":\"index\"},\"y\":{\"type\":\"field\",\"field\":\"0.9\"},\"line_color\":\"#d62728\",\"line_alpha\":0.2}}}}],\"toolbar\":{\"type\":\"object\",\"name\":\"Toolbar\",\"id\":\"p2607\",\"attributes\":{\"tools\":[{\"type\":\"object\",\"name\":\"PanTool\",\"id\":\"p2620\"},{\"type\":\"object\",\"name\":\"WheelZoomTool\",\"id\":\"p2621\",\"attributes\":{\"renderers\":\"auto\"}},{\"type\":\"object\",\"name\":\"BoxZoomTool\",\"id\":\"p2622\",\"attributes\":{\"overlay\":{\"type\":\"object\",\"name\":\"BoxAnnotation\",\"id\":\"p2623\",\"attributes\":{\"syncable\":false,\"level\":\"overlay\",\"visible\":false,\"left_units\":\"canvas\",\"right_units\":\"canvas\",\"top_units\":\"canvas\",\"bottom_units\":\"canvas\",\"line_color\":\"black\",\"line_alpha\":1.0,\"line_width\":2,\"line_dash\":[4,4],\"fill_color\":\"lightgrey\",\"fill_alpha\":0.5}}}},{\"type\":\"object\",\"name\":\"SaveTool\",\"id\":\"p2624\"},{\"type\":\"object\",\"name\":\"ResetTool\",\"id\":\"p2625\"},{\"type\":\"object\",\"name\":\"HelpTool\",\"id\":\"p2626\"}]}},\"left\":[{\"type\":\"object\",\"name\":\"LinearAxis\",\"id\":\"p2615\",\"attributes\":{\"ticker\":{\"type\":\"object\",\"name\":\"BasicTicker\",\"id\":\"p2616\",\"attributes\":{\"mantissas\":[1,2,5]}},\"formatter\":{\"type\":\"object\",\"name\":\"BasicTickFormatter\",\"id\":\"p2617\"},\"axis_label\":\"Error rate\",\"major_label_policy\":{\"type\":\"object\",\"name\":\"AllLabels\",\"id\":\"p2618\"}}}],\"below\":[{\"type\":\"object\",\"name\":\"LinearAxis\",\"id\":\"p2610\",\"attributes\":{\"ticker\":{\"type\":\"object\",\"name\":\"BasicTicker\",\"id\":\"p2611\",\"attributes\":{\"mantissas\":[1,2,5]}},\"formatter\":{\"type\":\"object\",\"name\":\"BasicTickFormatter\",\"id\":\"p2612\"},\"axis_label\":\"Data Size\",\"major_label_policy\":{\"type\":\"object\",\"name\":\"AllLabels\",\"id\":\"p2613\"}}}],\"center\":[{\"type\":\"object\",\"name\":\"Grid\",\"id\":\"p2614\",\"attributes\":{\"axis\":{\"id\":\"p2610\"}}},{\"type\":\"object\",\"name\":\"Grid\",\"id\":\"p2619\",\"attributes\":{\"dimension\":1,\"axis\":{\"id\":\"p2615\"}}},{\"type\":\"object\",\"name\":\"Legend\",\"id\":\"p2651\",\"attributes\":{\"title\":\"Penalty\",\"items\":[{\"type\":\"object\",\"name\":\"LegendItem\",\"id\":\"p2652\",\"attributes\":{\"label\":{\"type\":\"value\",\"value\":\"0\"},\"renderers\":[{\"id\":\"p2648\"}]}},{\"type\":\"object\",\"name\":\"LegendItem\",\"id\":\"p2671\",\"attributes\":{\"label\":{\"type\":\"value\",\"value\":\"0.1\"},\"renderers\":[{\"id\":\"p2668\"}]}},{\"type\":\"object\",\"name\":\"LegendItem\",\"id\":\"p2690\",\"attributes\":{\"label\":{\"type\":\"value\",\"value\":\"0.5\"},\"renderers\":[{\"id\":\"p2687\"}]}},{\"type\":\"object\",\"name\":\"LegendItem\",\"id\":\"p2709\",\"attributes\":{\"label\":{\"type\":\"value\",\"value\":\"0.9\"},\"renderers\":[{\"id\":\"p2706\"}]}}]}}]}}]}};\n  const render_items = [{\"docid\":\"a3f6fab1-dccd-4920-b603-7a1be4850fae\",\"roots\":{\"p2598\":\"c05df323-44f9-4c26-987a-2e6a62e5c6b4\"},\"root_ids\":[\"p2598\"]}];\n  root.Bokeh.embed.embed_items_notebook(docs_json, render_items);\n  }\n  if (root.Bokeh !== undefined) {\n    embed_document(root);\n  } else {\n    let attempts = 0;\n    const timer = setInterval(function(root) {\n      if (root.Bokeh !== undefined) {\n        clearInterval(timer);\n        embed_document(root);\n      } else {\n        attempts++;\n        if (attempts > 100) {\n          clearInterval(timer);\n          console.log(\"Bokeh: ERROR: Unable to run BokehJS code because BokehJS library is missing\");\n        }\n      }\n    }, 10, root)\n  }\n})(window);",
      "application/vnd.bokehjs_exec.v0+json": ""
     },
     "metadata": {
      "application/vnd.bokehjs_exec.v0+json": {
       "id": "p2598"
      }
     },
     "output_type": "display_data"
    }
   ],
   "source": [
    "# Plot learning curves for different ridge regressions. \n",
    "\n",
    "p = figure(width = 1000, height = 500, title = 'Ridge Regression Learning Curves')\n",
    "p.xaxis.axis_label = 'Data Size'\n",
    "p.yaxis.axis_label = 'Error rate'\n",
    "raw_src = ColumnDataSource(df_learning_curves.reset_index())\n",
    "smth_src = ColumnDataSource(df_smoothed_lcurves.reset_index())\n",
    "# raw_src.data = {'size': log_range}\n",
    "for n, a in enumerate(alpha_range):\n",
    "    p.scatter(x='index', y=str(a), source=raw_src, color=Category10[5][n])\n",
    "    p.line(x='index', y=str(a), source=smth_src, color=Category10[5][n], legend_label = str(a))\n",
    "#lg = Legend(items= [str(p) for p in alpha_range], location = (100,0.4))\n",
    "p.legend.title = \"Penalty\"\n",
    "show(p)\n"
   ]
  },
  {
   "cell_type": "code",
   "execution_count": 66,
   "metadata": {},
   "outputs": [
    {
     "data": {
      "text/plain": [
       "<AxesSubplot:>"
      ]
     },
     "execution_count": 66,
     "metadata": {},
     "output_type": "execute_result"
    },
    {
     "data": {
      "image/png": "[encoded data removed]",
      "text/plain": [
       "<Figure size 864x432 with 1 Axes>"
      ]
     },
     "metadata": {
      "needs_background": "light"
     },
     "output_type": "display_data"
    }
   ],
   "source": [
    "import matplotlib.pyplot as plt\n",
    "f, ax = plt.subplots(ncols=1, figsize = (12,6))\n",
    "sns.scatterplot(learning_curves, ax=ax)\n",
    "sns.lineplot(smoothed_lcurves)\n"
   ]
  },
  {
   "cell_type": "code",
   "execution_count": null,
   "metadata": {},
   "outputs": [],
   "source": []
  }
 ],
 "metadata": {
  "kernelspec": {
   "display_name": "Python 3",
   "language": "python",
   "name": "python3"
  },
  "language_info": {
   "codemirror_mode": {
    "name": "ipython",
    "version": 3
   },
   "file_extension": ".py",
   "mimetype": "text/x-python",
   "name": "python",
   "nbconvert_exporter": "python",
   "pygments_lexer": "ipython3",
   "version": "3.10.1"
  }
 },
 "nbformat": 4,
 "nbformat_minor": 2
}
