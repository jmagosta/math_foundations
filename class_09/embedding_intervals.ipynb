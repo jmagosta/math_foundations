{
 "cells": [
  {
   "cell_type": "markdown",
   "id": "03d984dc-bc89-44cb-ba83-a02b8eb70b93",
   "metadata": {},
   "source": [
    "\n",
    "# Building empirical interval estimates and computing intervals with the \"Bootstrap\" \n",
    "\n",
    "We demonstrate a nonparametric bootstrap to compare intervals over a sample of the embedding vectors in the \"small\" dataset.\n",
    "\n",
    "As a statistic, we look at the pairwise difference of random vectors in three subsets - all positive, all negative and positive -- negative pairs.  For each of these subsets we take a sample of N (200), and show histograms of the differences. From these we can create interval estimates of the values. \n",
    "\n",
    "class 9\n",
    "JMA March 2024"
   ]
  },
  {
   "cell_type": "code",
   "execution_count": 36,
   "id": "7dd21c31-9072-40d5-9429-cf23e9a769f1",
   "metadata": {},
   "outputs": [
    {
     "data": {
      "text/html": [
       "<style>\n",
       "        .bk-notebook-logo {\n",
       "            display: block;\n",
       "            width: 20px;\n",
       "            height: 20px;\n",
       "            background-image: url(data:image/png;base64,iVBORw0KGgoAAAANSUhEUgAAABQAAAAUCAYAAACNiR0NAAAABHNCSVQICAgIfAhkiAAAAAlwSFlzAAALEgAACxIB0t1+/AAAABx0RVh0U29mdHdhcmUAQWRvYmUgRmlyZXdvcmtzIENTNui8sowAAAOkSURBVDiNjZRtaJVlGMd/1/08zzln5zjP1LWcU9N0NkN8m2CYjpgQYQXqSs0I84OLIC0hkEKoPtiH3gmKoiJDU7QpLgoLjLIQCpEsNJ1vqUOdO7ppbuec5+V+rj4ctwzd8IIbbi6u+8f1539dt3A78eXC7QizUF7gyV1fD1Yqg4JWz84yffhm0qkFqBogB9rM8tZdtwVsPUhWhGcFJngGeWrPzHm5oaMmkfEg1usvLFyc8jLRqDOMru7AyC8saQr7GG7f5fvDeH7Ej8CM66nIF+8yngt6HWaKh7k49Soy9nXurCi1o3qUbS3zWfrYeQDTB/Qj6kX6Ybhw4B+bOYoLKCC9H3Nu/leUTZ1JdRWkkn2ldcCamzrcf47KKXdAJllSlxAOkRgyHsGC/zRday5Qld9DyoM4/q/rUoy/CXh3jzOu3bHUVZeU+DEn8FInkPBFlu3+nW3Nw0mk6vCDiWg8CeJaxEwuHS3+z5RgY+YBR6V1Z1nxSOfoaPa4LASWxxdNp+VWTk7+4vzaou8v8PN+xo+KY2xsw6une2frhw05CTYOmQvsEhjhWjn0bmXPjpE1+kplmmkP3suftwTubK9Vq22qKmrBhpY4jvd5afdRA3wGjFAgcnTK2s4hY0/GPNIb0nErGMCRxWOOX64Z8RAC4oCXdklmEvcL8o0BfkNK4lUg9HTl+oPlQxdNo3Mg4Nv175e/1LDGzZen30MEjRUtmXSfiTVu1kK8W4txyV6BMKlbgk3lMwYCiusNy9fVfvvwMxv8Ynl6vxoByANLTWplvuj/nF9m2+PDtt1eiHPBr1oIfhCChQMBw6Aw0UulqTKZdfVvfG7VcfIqLG9bcldL/+pdWTLxLUy8Qq38heUIjh4XlzZxzQm19lLFlr8vdQ97rjZVOLf8nclzckbcD4wxXMidpX30sFd37Fv/GtwwhzhxGVAprjbg0gCAEeIgwCZyTV2Z1REEW8O4py0wsjeloKoMr6iCY6dP92H6Vw/oTyICIthibxjm/DfN9lVz8IqtqKYLUXfoKVMVQVVJOElGjrnnUt9T9wbgp8AyYKaGlqingHZU/uG2NTZSVqwHQTWkx9hxjkpWDaCg6Ckj5qebgBVbT3V3NNXMSiWSDdGV3hrtzla7J+duwPOToIg42ChPQOQjspnSlp1V+Gjdged7+8UN5CRAV7a5EdFNwCjEaBR27b3W890TE7g24NAP/mMDXRWrGoFPQI9ls/MWO2dWFAar/xcOIImbbpA3zgAAAABJRU5ErkJggg==);\n",
       "        }\n",
       "    </style>\n",
       "    <div>\n",
       "        <a href=\"https://bokeh.org\" target=\"_blank\" class=\"bk-notebook-logo\"></a>\n",
       "        <span id=\"e069cb1c-6d27-4695-be76-3b1d7b93c2d9\">Loading BokehJS ...</span>\n",
       "    </div>\n"
      ]
     },
     "metadata": {},
     "output_type": "display_data"
    },
    {
     "data": {
      "application/javascript": "(function(root) {\n  function now() {\n    return new Date();\n  }\n\n  const force = true;\n\n  if (typeof root._bokeh_onload_callbacks === \"undefined\" || force === true) {\n    root._bokeh_onload_callbacks = [];\n    root._bokeh_is_loading = undefined;\n  }\n\nconst JS_MIME_TYPE = 'application/javascript';\n  const HTML_MIME_TYPE = 'text/html';\n  const EXEC_MIME_TYPE = 'application/vnd.bokehjs_exec.v0+json';\n  const CLASS_NAME = 'output_bokeh rendered_html';\n\n  /**\n   * Render data to the DOM node\n   */\n  function render(props, node) {\n    const script = document.createElement(\"script\");\n    node.appendChild(script);\n  }\n\n  /**\n   * Handle when an output is cleared or removed\n   */\n  function handleClearOutput(event, handle) {\n    function drop(id) {\n      const view = Bokeh.index.get_by_id(id)\n      if (view != null) {\n        view.model.document.clear()\n        Bokeh.index.delete(view)\n      }\n    }\n\n    const cell = handle.cell;\n\n    const id = cell.output_area._bokeh_element_id;\n    const server_id = cell.output_area._bokeh_server_id;\n\n    // Clean up Bokeh references\n    if (id != null) {\n      drop(id)\n    }\n\n    if (server_id !== undefined) {\n      // Clean up Bokeh references\n      const cmd_clean = \"from bokeh.io.state import curstate; print(curstate().uuid_to_server['\" + server_id + \"'].get_sessions()[0].document.roots[0]._id)\";\n      cell.notebook.kernel.execute(cmd_clean, {\n        iopub: {\n          output: function(msg) {\n            const id = msg.content.text.trim()\n            drop(id)\n          }\n        }\n      });\n      // Destroy server and session\n      const cmd_destroy = \"import bokeh.io.notebook as ion; ion.destroy_server('\" + server_id + \"')\";\n      cell.notebook.kernel.execute(cmd_destroy);\n    }\n  }\n\n  /**\n   * Handle when a new output is added\n   */\n  function handleAddOutput(event, handle) {\n    const output_area = handle.output_area;\n    const output = handle.output;\n\n    // limit handleAddOutput to display_data with EXEC_MIME_TYPE content only\n    if ((output.output_type != \"display_data\") || (!Object.prototype.hasOwnProperty.call(output.data, EXEC_MIME_TYPE))) {\n      return\n    }\n\n    const toinsert = output_area.element.find(\".\" + CLASS_NAME.split(' ')[0]);\n\n    if (output.metadata[EXEC_MIME_TYPE][\"id\"] !== undefined) {\n      toinsert[toinsert.length - 1].firstChild.textContent = output.data[JS_MIME_TYPE];\n      // store reference to embed id on output_area\n      output_area._bokeh_element_id = output.metadata[EXEC_MIME_TYPE][\"id\"];\n    }\n    if (output.metadata[EXEC_MIME_TYPE][\"server_id\"] !== undefined) {\n      const bk_div = document.createElement(\"div\");\n      bk_div.innerHTML = output.data[HTML_MIME_TYPE];\n      const script_attrs = bk_div.children[0].attributes;\n      for (let i = 0; i < script_attrs.length; i++) {\n        toinsert[toinsert.length - 1].firstChild.setAttribute(script_attrs[i].name, script_attrs[i].value);\n        toinsert[toinsert.length - 1].firstChild.textContent = bk_div.children[0].textContent\n      }\n      // store reference to server id on output_area\n      output_area._bokeh_server_id = output.metadata[EXEC_MIME_TYPE][\"server_id\"];\n    }\n  }\n\n  function register_renderer(events, OutputArea) {\n\n    function append_mime(data, metadata, element) {\n      // create a DOM node to render to\n      const toinsert = this.create_output_subarea(\n        metadata,\n        CLASS_NAME,\n        EXEC_MIME_TYPE\n      );\n      this.keyboard_manager.register_events(toinsert);\n      // Render to node\n      const props = {data: data, metadata: metadata[EXEC_MIME_TYPE]};\n      render(props, toinsert[toinsert.length - 1]);\n      element.append(toinsert);\n      return toinsert\n    }\n\n    /* Handle when an output is cleared or removed */\n    events.on('clear_output.CodeCell', handleClearOutput);\n    events.on('delete.Cell', handleClearOutput);\n\n    /* Handle when a new output is added */\n    events.on('output_added.OutputArea', handleAddOutput);\n\n    /**\n     * Register the mime type and append_mime function with output_area\n     */\n    OutputArea.prototype.register_mime_type(EXEC_MIME_TYPE, append_mime, {\n      /* Is output safe? */\n      safe: true,\n      /* Index of renderer in `output_area.display_order` */\n      index: 0\n    });\n  }\n\n  // register the mime type if in Jupyter Notebook environment and previously unregistered\n  if (root.Jupyter !== undefined) {\n    const events = require('base/js/events');\n    const OutputArea = require('notebook/js/outputarea').OutputArea;\n\n    if (OutputArea.prototype.mime_types().indexOf(EXEC_MIME_TYPE) == -1) {\n      register_renderer(events, OutputArea);\n    }\n  }\n  if (typeof (root._bokeh_timeout) === \"undefined\" || force === true) {\n    root._bokeh_timeout = Date.now() + 5000;\n    root._bokeh_failed_load = false;\n  }\n\n  const NB_LOAD_WARNING = {'data': {'text/html':\n     \"<div style='background-color: #fdd'>\\n\"+\n     \"<p>\\n\"+\n     \"BokehJS does not appear to have successfully loaded. If loading BokehJS from CDN, this \\n\"+\n     \"may be due to a slow or bad network connection. Possible fixes:\\n\"+\n     \"</p>\\n\"+\n     \"<ul>\\n\"+\n     \"<li>re-rerun `output_notebook()` to attempt to load from CDN again, or</li>\\n\"+\n     \"<li>use INLINE resources instead, as so:</li>\\n\"+\n     \"</ul>\\n\"+\n     \"<code>\\n\"+\n     \"from bokeh.resources import INLINE\\n\"+\n     \"output_notebook(resources=INLINE)\\n\"+\n     \"</code>\\n\"+\n     \"</div>\"}};\n\n  function display_loaded() {\n    const el = document.getElementById(\"e069cb1c-6d27-4695-be76-3b1d7b93c2d9\");\n    if (el != null) {\n      el.textContent = \"BokehJS is loading...\";\n    }\n    if (root.Bokeh !== undefined) {\n      if (el != null) {\n        el.textContent = \"BokehJS \" + root.Bokeh.version + \" successfully loaded.\";\n      }\n    } else if (Date.now() < root._bokeh_timeout) {\n      setTimeout(display_loaded, 100)\n    }\n  }\n\n  function run_callbacks() {\n    try {\n      root._bokeh_onload_callbacks.forEach(function(callback) {\n        if (callback != null)\n          callback();\n      });\n    } finally {\n      delete root._bokeh_onload_callbacks\n    }\n    console.debug(\"Bokeh: all callbacks have finished\");\n  }\n\n  function load_libs(css_urls, js_urls, callback) {\n    if (css_urls == null) css_urls = [];\n    if (js_urls == null) js_urls = [];\n\n    root._bokeh_onload_callbacks.push(callback);\n    if (root._bokeh_is_loading > 0) {\n      console.debug(\"Bokeh: BokehJS is being loaded, scheduling callback at\", now());\n      return null;\n    }\n    if (js_urls == null || js_urls.length === 0) {\n      run_callbacks();\n      return null;\n    }\n    console.debug(\"Bokeh: BokehJS not loaded, scheduling load and callback at\", now());\n    root._bokeh_is_loading = css_urls.length + js_urls.length;\n\n    function on_load() {\n      root._bokeh_is_loading--;\n      if (root._bokeh_is_loading === 0) {\n        console.debug(\"Bokeh: all BokehJS libraries/stylesheets loaded\");\n        run_callbacks()\n      }\n    }\n\n    function on_error(url) {\n      console.error(\"failed to load \" + url);\n    }\n\n    for (let i = 0; i < css_urls.length; i++) {\n      const url = css_urls[i];\n      const element = document.createElement(\"link\");\n      element.onload = on_load;\n      element.onerror = on_error.bind(null, url);\n      element.rel = \"stylesheet\";\n      element.type = \"text/css\";\n      element.href = url;\n      console.debug(\"Bokeh: injecting link tag for BokehJS stylesheet: \", url);\n      document.body.appendChild(element);\n    }\n\n    for (let i = 0; i < js_urls.length; i++) {\n      const url = js_urls[i];\n      const element = document.createElement('script');\n      element.onload = on_load;\n      element.onerror = on_error.bind(null, url);\n      element.async = false;\n      element.src = url;\n      console.debug(\"Bokeh: injecting script tag for BokehJS library: \", url);\n      document.head.appendChild(element);\n    }\n  };\n\n  function inject_raw_css(css) {\n    const element = document.createElement(\"style\");\n    element.appendChild(document.createTextNode(css));\n    document.body.appendChild(element);\n  }\n\n  const js_urls = [\"https://cdn.bokeh.org/bokeh/release/bokeh-3.3.0.min.js\", \"https://cdn.bokeh.org/bokeh/release/bokeh-gl-3.3.0.min.js\", \"https://cdn.bokeh.org/bokeh/release/bokeh-widgets-3.3.0.min.js\", \"https://cdn.bokeh.org/bokeh/release/bokeh-tables-3.3.0.min.js\", \"https://cdn.bokeh.org/bokeh/release/bokeh-mathjax-3.3.0.min.js\"];\n  const css_urls = [];\n\n  const inline_js = [    function(Bokeh) {\n      Bokeh.set_log_level(\"info\");\n    },\nfunction(Bokeh) {\n    }\n  ];\n\n  function run_inline_js() {\n    if (root.Bokeh !== undefined || force === true) {\n          for (let i = 0; i < inline_js.length; i++) {\n      inline_js[i].call(root, root.Bokeh);\n    }\nif (force === true) {\n        display_loaded();\n      }} else if (Date.now() < root._bokeh_timeout) {\n      setTimeout(run_inline_js, 100);\n    } else if (!root._bokeh_failed_load) {\n      console.log(\"Bokeh: BokehJS failed to load within specified timeout.\");\n      root._bokeh_failed_load = true;\n    } else if (force !== true) {\n      const cell = $(document.getElementById(\"e069cb1c-6d27-4695-be76-3b1d7b93c2d9\")).parents('.cell').data().cell;\n      cell.output_area.append_execute_result(NB_LOAD_WARNING)\n    }\n  }\n\n  if (root._bokeh_is_loading === 0) {\n    console.debug(\"Bokeh: BokehJS loaded, going straight to plotting\");\n    run_inline_js();\n  } else {\n    load_libs(css_urls, js_urls, function() {\n      console.debug(\"Bokeh: BokehJS plotting callback run at\", now());\n      run_inline_js();\n    });\n  }\n}(window));",
      "application/vnd.bokehjs_load.v0+json": ""
     },
     "metadata": {},
     "output_type": "display_data"
    }
   ],
   "source": [
    "import pandas as pd\n",
    "import numpy as np\n",
    "import os\n",
    "# For vector norms, and determinants. \n",
    "import numpy.linalg as la\n",
    "\n",
    "### Plotting\n",
    "import seaborn as sns\n",
    "from bokeh.plotting import figure, show\n",
    "from bokeh.models import Band, BoxAnnotation, ColumnDataSource, VBar, Span, Legend\n",
    "from bokeh.io import output_notebook\n",
    "from bokeh.palettes import Category10\n",
    "output_notebook()\n",
    "\n",
    "### use to create the embeddings\n",
    "# See  https://www.sbert.net/\n",
    "from sentence_transformers import SentenceTransformer, util # use sbert's cosine similarity measure\n",
    "EMBEDDING_DIMENSIONS = 384     # This model creates vectors of this length\n",
    "\n",
    "### Stats\n",
    "# use statsmodels to compute regression standard errors\n",
    "# since scikit learn doesn't compute them.\n",
    "import statsmodels.api as sm\n",
    "# Principal component analysis\n",
    "from sklearn.decomposition import PCA, TruncatedSVD\n",
    "# Distributions\n",
    "from scipy.stats import norm\n",
    "# The random number generator can be used to select a random set of columns for visualization\n",
    "from numpy.random import Generator, PCG64\n",
    "rng = Generator(PCG64())"
   ]
  },
  {
   "cell_type": "code",
   "execution_count": 111,
   "id": "9826d49c",
   "metadata": {},
   "outputs": [],
   "source": [
    "# A plot that shows the difference between the normal approximation interval and an equivalent coverage empirical interval, \n",
    "\n",
    "def expand_range(low, high, by=2.0):\n",
    "    mid = (low + high)/2\n",
    "    half_width = by * abs(high - low)/2\n",
    "    return (mid - half_width, mid + half_width)\n",
    "\n",
    "def plot_intervals(the_sample, bin_ct = 50, subtitle = ''): \n",
    "    normal_approx = interval_estimate(the_sample)\n",
    "    lower_limit = min(normal_approx['normal_interval'][0], normal_approx['quantile_interval'][0])\n",
    "    upper_limit = max(normal_approx['normal_interval'][1], normal_approx['quantile_interval'][1])\n",
    "    lower_plot_limit, upper_plot_limit = expand_range(lower_limit, upper_limit) \n",
    "    print('Limits ', lower_plot_limit, upper_plot_limit)\n",
    "    p = figure(width = 800, height = 300, x_range = (lower_plot_limit,  upper_plot_limit ), title='Normal versus Empirical Interval Estimates.\\n' + subtitle)\n",
    "\n",
    "    hist, bin_edges = np.histogram(the_sample, bins=bin_ct, density=True)\n",
    "    hist_df = pd.DataFrame(dict(density=hist, rv= bin_edges[:-1]), columns=['rv', 'density'])\n",
    "    # Shade the background corresponding to the normal interval\n",
    "    box = BoxAnnotation(left=normal_approx['normal_interval'][0], right=normal_approx['normal_interval'][1], bottom=0, top=max(1, max(hist)), fill_alpha=0.2, fill_color='#D55E00')\n",
    "    p.add_layout(box)\n",
    "    bar_width = (bin_edges[-1] - bin_edges[0])/bin_ct\n",
    "    hist_src = ColumnDataSource(hist_df)\n",
    "    \n",
    "    glyph = VBar(x='rv', top='density', bottom=0, width=bar_width, fill_color='limegreen')\n",
    "    p.add_glyph(hist_src, glyph)\n",
    "    # Overlay a selection of the histogram within the estimate interval\n",
    "    interval_src = ColumnDataSource(hist_df[(hist_df.rv > normal_approx['quantile_interval'][0]) & (hist_df.rv < normal_approx['quantile_interval'][1])])\n",
    "    glyph = VBar(x='rv', top='density', bottom=0, width=bar_width, fill_color='darkgreen')\n",
    "    p.add_glyph(interval_src, glyph)\n",
    "    # Overlay the normal distribution within the interval. \n",
    "    x = np.linspace(normal_approx['normal_interval'][0], normal_approx['normal_interval'][1])\n",
    "    p.line(x=x, y=norm.pdf(x, loc= normal_approx['mean'], scale = normal_approx['sd']))\n",
    "    return p"
   ]
  },
  {
   "cell_type": "markdown",
   "id": "96a326a8",
   "metadata": {},
   "source": [
    "# Examples using positive and negative subsets of the embedding vectors\n",
    "\n",
    "Lets see if distances between embedding vectors within the positive and negative classes are significantly different than between classes. We compute random pair-wise distances within and between classes for comparison. \n",
    "\n",
    "## First load the embedding vectors and separate them into subsets"
   ]
  },
  {
   "cell_type": "code",
   "execution_count": 3,
   "id": "cdaf8e64-c910-46c1-9576-599be8924a82",
   "metadata": {},
   "outputs": [],
   "source": [
    "# Load the embedding vectors dataset \n",
    "if os.environ['HOME'] == '/Users/jma':\n",
    "    featurized_parquet_file = '/Users/jma/Library/CloudStorage/OneDrive-Personal/' +\\\n",
    "    'teaching/sjsu/ISE201/ISE 201 - Math Foundations for Decision and Data Science/embeddings/' +\\\n",
    "    'sentence_embeddings.parquet'\n",
    "else:\n",
    "    featurized_parquet_file = 'data/sentence_embeddings.parquet'\n",
    "\n",
    "text_df = pd.read_parquet(featurized_parquet_file)"
   ]
  },
  {
   "cell_type": "code",
   "execution_count": 4,
   "id": "3b34be31-e877-4984-b4f8-357990e595a3",
   "metadata": {},
   "outputs": [
    {
     "data": {
      "text/html": [
       "<div>\n",
       "<style scoped>\n",
       "    .dataframe tbody tr th:only-of-type {\n",
       "        vertical-align: middle;\n",
       "    }\n",
       "\n",
       "    .dataframe tbody tr th {\n",
       "        vertical-align: top;\n",
       "    }\n",
       "\n",
       "    .dataframe thead th {\n",
       "        text-align: right;\n",
       "    }\n",
       "</style>\n",
       "<table border=\"1\" class=\"dataframe\">\n",
       "  <thead>\n",
       "    <tr style=\"text-align: right;\">\n",
       "      <th></th>\n",
       "      <th>review</th>\n",
       "      <th>sentiment</th>\n",
       "      <th>vector</th>\n",
       "    </tr>\n",
       "  </thead>\n",
       "  <tbody>\n",
       "    <tr>\n",
       "      <th>0</th>\n",
       "      <td>So there is no way for me to plug it in here i...</td>\n",
       "      <td>0</td>\n",
       "      <td>[0.08027008920907974, -0.04396028444170952, -0...</td>\n",
       "    </tr>\n",
       "    <tr>\n",
       "      <th>1</th>\n",
       "      <td>Good case, Excellent value.</td>\n",
       "      <td>1</td>\n",
       "      <td>[-0.009648566134274006, 0.10622689127922058, 0...</td>\n",
       "    </tr>\n",
       "    <tr>\n",
       "      <th>2</th>\n",
       "      <td>Great for the jawbone.</td>\n",
       "      <td>1</td>\n",
       "      <td>[-0.07081733644008636, 0.07361650466918945, 0....</td>\n",
       "    </tr>\n",
       "    <tr>\n",
       "      <th>3</th>\n",
       "      <td>Tied to charger for conversations lasting more...</td>\n",
       "      <td>0</td>\n",
       "      <td>[-0.0739610344171524, 0.06734045594930649, 0.0...</td>\n",
       "    </tr>\n",
       "    <tr>\n",
       "      <th>4</th>\n",
       "      <td>The mic is great.</td>\n",
       "      <td>1</td>\n",
       "      <td>[-0.09819574654102325, 0.010798277333378792, 0...</td>\n",
       "    </tr>\n",
       "    <tr>\n",
       "      <th>...</th>\n",
       "      <td>...</td>\n",
       "      <td>...</td>\n",
       "      <td>...</td>\n",
       "    </tr>\n",
       "    <tr>\n",
       "      <th>743</th>\n",
       "      <td>I just got bored watching Jessice Lange take h...</td>\n",
       "      <td>0</td>\n",
       "      <td>[-0.02032049186527729, -0.07333985716104507, 0...</td>\n",
       "    </tr>\n",
       "    <tr>\n",
       "      <th>744</th>\n",
       "      <td>Unfortunately, any virtue in this film's produ...</td>\n",
       "      <td>0</td>\n",
       "      <td>[-0.025788182392716408, 0.007497682701796293, ...</td>\n",
       "    </tr>\n",
       "    <tr>\n",
       "      <th>745</th>\n",
       "      <td>In a word, it is embarrassing.</td>\n",
       "      <td>0</td>\n",
       "      <td>[0.026193976402282715, 0.022175997495651245, 0...</td>\n",
       "    </tr>\n",
       "    <tr>\n",
       "      <th>746</th>\n",
       "      <td>Exceptionally bad!</td>\n",
       "      <td>0</td>\n",
       "      <td>[-0.027648691087961197, -0.004298456944525242,...</td>\n",
       "    </tr>\n",
       "    <tr>\n",
       "      <th>747</th>\n",
       "      <td>All in all its an insult to one's intelligence...</td>\n",
       "      <td>0</td>\n",
       "      <td>[0.00193118117749691, 0.08036555349826813, 0.0...</td>\n",
       "    </tr>\n",
       "  </tbody>\n",
       "</table>\n",
       "<p>2748 rows × 3 columns</p>\n",
       "</div>"
      ],
      "text/plain": [
       "                                                review  sentiment  \\\n",
       "0    So there is no way for me to plug it in here i...          0   \n",
       "1                          Good case, Excellent value.          1   \n",
       "2                               Great for the jawbone.          1   \n",
       "3    Tied to charger for conversations lasting more...          0   \n",
       "4                                    The mic is great.          1   \n",
       "..                                                 ...        ...   \n",
       "743  I just got bored watching Jessice Lange take h...          0   \n",
       "744  Unfortunately, any virtue in this film's produ...          0   \n",
       "745                   In a word, it is embarrassing.            0   \n",
       "746                               Exceptionally bad!            0   \n",
       "747  All in all its an insult to one's intelligence...          0   \n",
       "\n",
       "                                                vector  \n",
       "0    [0.08027008920907974, -0.04396028444170952, -0...  \n",
       "1    [-0.009648566134274006, 0.10622689127922058, 0...  \n",
       "2    [-0.07081733644008636, 0.07361650466918945, 0....  \n",
       "3    [-0.0739610344171524, 0.06734045594930649, 0.0...  \n",
       "4    [-0.09819574654102325, 0.010798277333378792, 0...  \n",
       "..                                                 ...  \n",
       "743  [-0.02032049186527729, -0.07333985716104507, 0...  \n",
       "744  [-0.025788182392716408, 0.007497682701796293, ...  \n",
       "745  [0.026193976402282715, 0.022175997495651245, 0...  \n",
       "746  [-0.027648691087961197, -0.004298456944525242,...  \n",
       "747  [0.00193118117749691, 0.08036555349826813, 0.0...  \n",
       "\n",
       "[2748 rows x 3 columns]"
      ]
     },
     "execution_count": 4,
     "metadata": {},
     "output_type": "execute_result"
    }
   ],
   "source": [
    "# The review column contains varying-length text that was converted into the vector embeddings\n",
    "# Sentiment is a 0, 1 label that classifies the text as either positive or negative\n",
    "# The embedding vectors are stuffed into a the last column\n",
    "text_df"
   ]
  },
  {
   "cell_type": "code",
   "execution_count": 5,
   "id": "ebb5e8ef",
   "metadata": {},
   "outputs": [
    {
     "data": {
      "text/plain": [
       "((1386, 384), (1362, 384))"
      ]
     },
     "execution_count": 5,
     "metadata": {},
     "output_type": "execute_result"
    }
   ],
   "source": [
    "# Create the positive and negative subsets\n",
    "how_many_positive = text_df[text_df['sentiment'] == 1]['vector']\n",
    "how_many_negative = text_df[text_df['sentiment'] == 0]['vector']\n",
    "\n",
    "Xpositives = np.array([v for v in how_many_positive])\n",
    "Xnegatives = np.array([v for v in how_many_negative])\n",
    "\n",
    "Xpositives.shape, Xnegatives.shape, "
   ]
  },
  {
   "cell_type": "code",
   "execution_count": 7,
   "id": "469bbca7",
   "metadata": {},
   "outputs": [
    {
     "data": {
      "text/plain": [
       "(0.13920222591322096, 0.12436748612423594, 0.14137404903581174)"
      ]
     },
     "execution_count": 7,
     "metadata": {},
     "output_type": "execute_result"
    }
   ],
   "source": [
    "# Create pairwise cosine distance samples - positive, negative and differences\n",
    "sample_count = 2000\n",
    "\n",
    "# Select pairwise differences \n",
    "def pair_wise_distance(X):\n",
    "    pos_pair = np.random.choice(np.arange(len(X)), 2, replace=False)\n",
    "    return util.cos_sim(X[pos_pair[0],:], X[pos_pair[1],:]).tolist()[0][0]\n",
    "\n",
    "def contrast_pair_distance(X,Y):\n",
    "    pos = np.random.choice(np.arange(len(X)), 1, replace=False)\n",
    "    neg = np.random.choice(np.arange(len(Y)), 1, replace=False)\n",
    "    return util.cos_sim(X[pos,:], X[neg,:]).tolist()[0][0]\n",
    "\n",
    "pos_distances = [pair_wise_distance(Xpositives) for k in range(sample_count)]\n",
    "neg_distances = [pair_wise_distance(Xnegatives) for k in range(sample_count)]\n",
    "contrast_distances = [contrast_pair_distance(Xpositives, Xnegatives) for k in range(sample_count)]\n",
    "\n",
    "# Check the mean cosine distances of each sample \n",
    "# np.apply_along_axis(la.norm, 1, positive_samples), np.apply_along_axis(la.norm, 1, negative_samples)\n",
    "np.array(pos_distances).mean(), np.array(neg_distances).mean(), np.array(contrast_distances).mean()"
   ]
  },
  {
   "cell_type": "markdown",
   "id": "dc085900",
   "metadata": {},
   "source": [
    "## Two kinds of intervals - \"normal distribution\"  and \"empirical distribution\"\n",
    "\n",
    "To express the \"standard error\" around the mean of a distribution these are two comparable methods.  \n",
    "\n",
    "1) Use the mean and standard deviation to create an interval with 95% of the probability mass.  \n",
    "\n",
    "2) Compute percentiles of the empirical (histogram) and find the boundaries of the lower and upper 2.5% probability tails\n",
    "\n",
    "Note how these appear when applied to the embedding distance distributions.  There is clearly no clean separation between positive and negative vectors! "
   ]
  },
  {
   "cell_type": "code",
   "execution_count": 120,
   "id": "c6af833f",
   "metadata": {},
   "outputs": [
    {
     "data": {
      "text/plain": [
       "{'mean': 0.13920222591322096,\n",
       " 'sd': 0.12135931687992416,\n",
       " 'normal_interval': (-0.09866203517143038, 0.37706648699787226),\n",
       " 'quantile_interval': (-0.05143368842438651, 0.42687950723485385)}"
      ]
     },
     "execution_count": 120,
     "metadata": {},
     "output_type": "execute_result"
    }
   ],
   "source": [
    "# Compute two different interval estimates\n",
    "# The first assuming a normal distribution, using standard deviation\n",
    "# The second computing the equivalent quantiles 0.025 and 0.975, from the empirical data. Note: For extreme distributions, such as those on a closed or half interval, this may not be the best approximation\n",
    "def interval_estimate(data_list):\n",
    "    data_ar = np.array(data_list)\n",
    "    mn = data_ar.mean()\n",
    "    sd = data_ar.std()\n",
    "    return {'mean': mn, 'sd': sd,\n",
    "        'normal_interval': (mn-1.96*sd, mn+1.96*sd), \n",
    "            'quantile_interval': (np.percentile(data_ar, 2.5), np.percentile(data_ar, 97.5))}\n",
    "\n",
    "interval_estimate(pos_distances)"
   ]
  },
  {
   "cell_type": "code",
   "execution_count": 113,
   "id": "89900af3",
   "metadata": {},
   "outputs": [
    {
     "name": "stdout",
     "output_type": "stream",
     "text": [
      "Limits  -0.36143280637457254 0.689650278437996\n"
     ]
    },
    {
     "data": {
      "text/html": [
       "\n",
       "  <div id=\"f6a1d086-f1f3-4628-b9e0-992b5e3597e9\" data-root-id=\"p4990\" style=\"display: contents;\"></div>\n"
      ]
     },
     "metadata": {},
     "output_type": "display_data"
    },
    {
     "data": {
      "application/javascript": "(function(root) {\n  function embed_document(root) {\n  const docs_json = {\"38e81bbf-1e6e-4f39-b3d1-2a1e6b3840cf\":{\"version\":\"3.3.0\",\"title\":\"Bokeh Application\",\"roots\":[{\"type\":\"object\",\"name\":\"Figure\",\"id\":\"p4990\",\"attributes\":{\"width\":800,\"height\":300,\"x_range\":{\"type\":\"object\",\"name\":\"Range1d\",\"id\":\"p5000\",\"attributes\":{\"start\":-0.36143280637457254,\"end\":0.689650278437996}},\"y_range\":{\"type\":\"object\",\"name\":\"DataRange1d\",\"id\":\"p4992\"},\"x_scale\":{\"type\":\"object\",\"name\":\"LinearScale\",\"id\":\"p5001\"},\"y_scale\":{\"type\":\"object\",\"name\":\"LinearScale\",\"id\":\"p5002\"},\"title\":{\"type\":\"object\",\"name\":\"Title\",\"id\":\"p4993\",\"attributes\":{\"text\":\"Normal versus Empirical Interval Estimates.\\npair-wise positive distances\"}},\"renderers\":[{\"type\":\"object\",\"name\":\"GlyphRenderer\",\"id\":\"p5025\",\"attributes\":{\"data_source\":{\"type\":\"object\",\"name\":\"ColumnDataSource\",\"id\":\"p5021\",\"attributes\":{\"selected\":{\"type\":\"object\",\"name\":\"Selection\",\"id\":\"p5022\",\"attributes\":{\"indices\":[],\"line_indices\":[]}},\"selection_policy\":{\"type\":\"object\",\"name\":\"UnionRenderers\",\"id\":\"p5023\"},\"data\":{\"type\":\"map\",\"entries\":[[\"index\",{\"type\":\"ndarray\",\"array\":{\"type\":\"bytes\",\"data\":\"AAAAAAEAAAACAAAAAwAAAAQAAAAFAAAABgAAAAcAAAAIAAAACQAAAAoAAAALAAAADAAAAA0AAAAOAAAADwAAABAAAAARAAAAEgAAABMAAAAUAAAAFQAAABYAAAAXAAAAGAAAABkAAAAaAAAAGwAAABwAAAAdAAAAHgAAAB8AAAAgAAAAIQAAACIAAAAjAAAAJAAAACUAAAAmAAAAJwAAACgAAAApAAAAKgAAACsAAAAsAAAALQAAAC4AAAAvAAAAMAAAADEAAAA=\"},\"shape\":[50],\"dtype\":\"int32\",\"order\":\"little\"}],[\"rv\",{\"type\":\"ndarray\",\"array\":{\"type\":\"bytes\",\"data\":\"PIMF8PAzwb+1YXoWePi9v/K86UwOibm/LxhZg6QZtb9sc8i5Oqqwv1Kdb+Chdai/mKecmpwtn78YKbTo6t+KvwD6ocfGNnE/kBEr2FgLlj9M0jb/f+SjP9AbWJJTw6w/rLK8khPRsj9wV01cfUC3PzL83SXnr7s/elC3d6gPwD/con9cXUfCPz71R0ESf8Q/oEcQJse2xj8AmtgKfO7IP2LsoO8wJss/xD5p1OVdzT8kkTG5mpXPP8Px/M6n5tA/9BphQYIC0j8lRMWzXB7TP1ZtKSY3OtQ/hpaNmBFW1T+3v/EK7HHWP+joVX3Gjdc/GBK676Cp2D9KOx5ie8XZP3pkgtRV4do/qo3mRjD92z/ctkq5ChndPwzgrivlNN4/PgkTnr9Q3z83mTsITTbgP8+tbUE6xOA/aMKfeidS4T8A19GzFODhP5jrA+0BbuI/MQA2Ju/74j/JFGhf3InjP2EpmpjJF+Q/+j3M0bal5D+SUv4KpDPlPytnMESRweU/w3tifX5P5j9bkJS2a93mPw==\"},\"shape\":[50],\"dtype\":\"float64\",\"order\":\"little\"}],[\"density\",{\"type\":\"ndarray\",\"array\":{\"type\":\"bytes\",\"data\":\"5zbiNhoqtj/nNuI2Giq2PxeDvC1reNI/LqkpqZOf4D8L8AXw1mTjPy6pKamTn/A/5zbiNhoq9j9qBLyZrtoAQCCSdCc1ZQZAfhN0k3jHBED8RZow5BYKQMH5vzmTyA1ACegIaEIXDUDO+b85k8gNQM75vzmTyA1ACegIaEIXDUAIbAesDD4IQI614srWxwdApLXiytbHB0B4C3cL5Hn+P/LBm+wZ8P4/vvIEyF0pAEBRWlDau4z3P6RfTorJFfE/sPIEyF0p8D8eFnNr/4vxP8vqB0DJ2+k/78mYdK495T/7XE+yQlHkP4h4wM1PZt8/UHjAzU9m3z/3NuI2GirWPw1dT7JCUdQ/zzbiNhoqxj85qSmpk5/QPwKDvC1reMI/n54tSXiNzT+fni1JeI29P8824jYaKrY/n54tSXiNnT+fni1JeI2tP2meLUl4ja0/n54tSXiNnT8AAAAAAAAAAAAAAAAAAAAAn54tSXiNnT9pni1JeI2dPwAAAAAAAAAAAAAAAAAAAABpni1JeI2dPw==\"},\"shape\":[50],\"dtype\":\"float64\",\"order\":\"little\"}]]}}},\"view\":{\"type\":\"object\",\"name\":\"CDSView\",\"id\":\"p5026\",\"attributes\":{\"filter\":{\"type\":\"object\",\"name\":\"AllIndices\",\"id\":\"p5027\"}}},\"glyph\":{\"type\":\"object\",\"name\":\"VBar\",\"id\":\"p5024\",\"attributes\":{\"x\":{\"type\":\"field\",\"field\":\"rv\"},\"width\":{\"type\":\"value\",\"value\":0.01732503100415088},\"top\":{\"type\":\"field\",\"field\":\"density\"},\"fill_color\":{\"type\":\"value\",\"value\":\"limegreen\"}}}}},{\"type\":\"object\",\"name\":\"GlyphRenderer\",\"id\":\"p5032\",\"attributes\":{\"data_source\":{\"type\":\"object\",\"name\":\"ColumnDataSource\",\"id\":\"p5028\",\"attributes\":{\"selected\":{\"type\":\"object\",\"name\":\"Selection\",\"id\":\"p5029\",\"attributes\":{\"indices\":[],\"line_indices\":[]}},\"selection_policy\":{\"type\":\"object\",\"name\":\"UnionRenderers\",\"id\":\"p5030\"},\"data\":{\"type\":\"map\",\"entries\":[[\"index\",{\"type\":\"ndarray\",\"array\":{\"type\":\"bytes\",\"data\":\"BQAAAAYAAAAHAAAACAAAAAkAAAAKAAAACwAAAAwAAAANAAAADgAAAA8AAAAQAAAAEQAAABIAAAATAAAAFAAAABUAAAAWAAAAFwAAABgAAAAZAAAAGgAAABsAAAAcAAAAHQAAAB4AAAAfAAAAIAAAAA==\"},\"shape\":[28],\"dtype\":\"int32\",\"order\":\"little\"}],[\"rv\",{\"type\":\"ndarray\",\"array\":{\"type\":\"bytes\",\"data\":\"Up1v4KF1qL+Yp5yanC2fvxgptOjq34q/APqhx8Y2cT+QESvYWAuWP0zSNv9/5KM/0BtYklPDrD+ssrySE9GyP3BXTVx9QLc/MvzdJeevuz96ULd3qA/AP9yif1xdR8I/PvVHQRJ/xD+gRxAmx7bGPwCa2Ap87sg/Yuyg7zAmyz/EPmnU5V3NPySRMbmalc8/w/H8zqfm0D/0GmFBggLSPyVExbNcHtM/Vm0pJjc61D+Glo2YEVbVP7e/8QrscdY/6OhVfcaN1z8YErrvoKnYP0o7HmJ7xdk/emSC1FXh2j8=\"},\"shape\":[28],\"dtype\":\"float64\",\"order\":\"little\"}],[\"density\",{\"type\":\"ndarray\",\"array\":{\"type\":\"bytes\",\"data\":\"LqkpqZOf8D/nNuI2Gir2P2oEvJmu2gBAIJJ0JzVlBkB+E3STeMcEQPxFmjDkFgpAwfm/OZPIDUAJ6AhoQhcNQM75vzmTyA1Azvm/OZPIDUAJ6AhoQhcNQAhsB6wMPghAjrXiytbHB0CkteLK1scHQHgLdwvkef4/8sGb7Bnw/j++8gTIXSkAQFFaUNq7jPc/pF9OiskV8T+w8gTIXSnwPx4Wc2v/i/E/y+oHQMnb6T/vyZh0rj3lP/tcT7JCUeQ/iHjAzU9m3z9QeMDNT2bfP/c24jYaKtY/DV1PskJR1D8=\"},\"shape\":[28],\"dtype\":\"float64\",\"order\":\"little\"}]]}}},\"view\":{\"type\":\"object\",\"name\":\"CDSView\",\"id\":\"p5033\",\"attributes\":{\"filter\":{\"type\":\"object\",\"name\":\"AllIndices\",\"id\":\"p5034\"}}},\"glyph\":{\"type\":\"object\",\"name\":\"VBar\",\"id\":\"p5031\",\"attributes\":{\"x\":{\"type\":\"field\",\"field\":\"rv\"},\"width\":{\"type\":\"value\",\"value\":0.01732503100415088},\"top\":{\"type\":\"field\",\"field\":\"density\"},\"fill_color\":{\"type\":\"value\",\"value\":\"darkgreen\"}}}}},{\"type\":\"object\",\"name\":\"GlyphRenderer\",\"id\":\"p5041\",\"attributes\":{\"data_source\":{\"type\":\"object\",\"name\":\"ColumnDataSource\",\"id\":\"p5035\",\"attributes\":{\"selected\":{\"type\":\"object\",\"name\":\"Selection\",\"id\":\"p5036\",\"attributes\":{\"indices\":[],\"line_indices\":[]}},\"selection_policy\":{\"type\":\"object\",\"name\":\"UnionRenderers\",\"id\":\"p5037\"},\"data\":{\"type\":\"map\",\"entries\":[[\"x\",{\"type\":\"ndarray\",\"array\":{\"type\":\"bytes\",\"data\":\"SghrRupBub94KKeOpMW2v6ZI49ZeSbS/02gfHxnNsb8CErfOpqGuv15SL18bqam/uZKn74+wpL8opj8ACXCfv+AmMCHyfpW/ME9BhLYbh78AhRIxRsxZv/it/PekqIA/RNYNW2lFkj+QVR06gDacP2xqlozLE6M/ECoe/FYMqD+06aVr4gStP6zUlu22/rA/frRapfx6sz9QlB5dQve1PyJ04hSIc7g/9lOmzM3vuj/IM2qEE2y9P5oTLjxZ6L8/tvn4eU8ywT+f6dpVcnDCP4nZvDGVrsM/ccmeDbjsxD9buYDp2irGP0OpYsX9aMc/LZlEoSCnyD8ViSZ9Q+XJP/94CFlmI8s/6WjqNIlhzD/RWMwQrJ/NP7tIruzO3c4/UhxI5PgN0D9GFDlSCq3QPzoMKsAbTNE/MAQbLi3r0T8k/AucPorSPxj0/AlQKdM/Duztd2HI0z8C5N7lcmfUP/bbz1OEBtU/6tPAwZWl1T/gy7Evp0TWP9TDop2449Y/yLuTC8qC1z++s4R52yHYPw==\"},\"shape\":[50],\"dtype\":\"float64\",\"order\":\"little\"}],[\"y\",{\"type\":\"ndarray\",\"array\":{\"type\":\"bytes\",\"data\":\"2bZLt8PR3j/n9AUz1PfhP3rNCrlL0eQ/8WSNLg735z+QDQCzlWnrPzSdjWbbJ+8/WBC3qZOX8T8ypEIrdL3zP2TRrl9LAvY/d7/zHNJh+D9opCyjvdb6P3wNawbIWv0/yZ653sHm/z+JG8K7VjkBQNqx96XxegJADzFPlZ+zA0AC4pZzqt4EQDUDh4hV9wVAV72y4vz4BkAtL22xNd8HQIXIOFjupQhAAk1L+IxJCUBz4+AwC8cJQOnO9esNHApAsRLrMfhGCkCxEusx+EYKQOnO9esNHApAdOPgMAvHCUADTUv4jEkJQIjIOFjupQhALi9tsTXfB0BZvbLi/PgGQDcDh4hV9wVABeKWc6reBEASMU+Vn7MDQNyx96XxegJAixvCu1Y5AUDRnrneweb/P4QNawbIWv0/bKQso73W+j98v/Mc0mH4P2zRrl9LAvY/NaRCK3S98z9bELepk5fxP0CdjWbbJ+8/mQ0As5Vp6z/1ZI0uDvfnP4LNCrlL0eQ/7/QFM9T34T/ctku3w9HePw==\"},\"shape\":[50],\"dtype\":\"float64\",\"order\":\"little\"}]]}}},\"view\":{\"type\":\"object\",\"name\":\"CDSView\",\"id\":\"p5042\",\"attributes\":{\"filter\":{\"type\":\"object\",\"name\":\"AllIndices\",\"id\":\"p5043\"}}},\"glyph\":{\"type\":\"object\",\"name\":\"Line\",\"id\":\"p5038\",\"attributes\":{\"x\":{\"type\":\"field\",\"field\":\"x\"},\"y\":{\"type\":\"field\",\"field\":\"y\"},\"line_color\":\"#1f77b4\"}},\"nonselection_glyph\":{\"type\":\"object\",\"name\":\"Line\",\"id\":\"p5039\",\"attributes\":{\"x\":{\"type\":\"field\",\"field\":\"x\"},\"y\":{\"type\":\"field\",\"field\":\"y\"},\"line_color\":\"#1f77b4\",\"line_alpha\":0.1}},\"muted_glyph\":{\"type\":\"object\",\"name\":\"Line\",\"id\":\"p5040\",\"attributes\":{\"x\":{\"type\":\"field\",\"field\":\"x\"},\"y\":{\"type\":\"field\",\"field\":\"y\"},\"line_color\":\"#1f77b4\",\"line_alpha\":0.2}}}}],\"toolbar\":{\"type\":\"object\",\"name\":\"Toolbar\",\"id\":\"p4999\",\"attributes\":{\"tools\":[{\"type\":\"object\",\"name\":\"PanTool\",\"id\":\"p5013\"},{\"type\":\"object\",\"name\":\"WheelZoomTool\",\"id\":\"p5014\",\"attributes\":{\"renderers\":\"auto\"}},{\"type\":\"object\",\"name\":\"BoxZoomTool\",\"id\":\"p5015\",\"attributes\":{\"overlay\":{\"type\":\"object\",\"name\":\"BoxAnnotation\",\"id\":\"p5016\",\"attributes\":{\"syncable\":false,\"level\":\"overlay\",\"visible\":false,\"left_units\":\"canvas\",\"right_units\":\"canvas\",\"top_units\":\"canvas\",\"bottom_units\":\"canvas\",\"line_color\":\"black\",\"line_alpha\":1.0,\"line_width\":2,\"line_dash\":[4,4],\"fill_color\":\"lightgrey\",\"fill_alpha\":0.5}}}},{\"type\":\"object\",\"name\":\"SaveTool\",\"id\":\"p5017\"},{\"type\":\"object\",\"name\":\"ResetTool\",\"id\":\"p5018\"},{\"type\":\"object\",\"name\":\"HelpTool\",\"id\":\"p5019\"}]}},\"left\":[{\"type\":\"object\",\"name\":\"LinearAxis\",\"id\":\"p5008\",\"attributes\":{\"ticker\":{\"type\":\"object\",\"name\":\"BasicTicker\",\"id\":\"p5009\",\"attributes\":{\"mantissas\":[1,2,5]}},\"formatter\":{\"type\":\"object\",\"name\":\"BasicTickFormatter\",\"id\":\"p5010\"},\"major_label_policy\":{\"type\":\"object\",\"name\":\"AllLabels\",\"id\":\"p5011\"}}}],\"below\":[{\"type\":\"object\",\"name\":\"LinearAxis\",\"id\":\"p5003\",\"attributes\":{\"ticker\":{\"type\":\"object\",\"name\":\"BasicTicker\",\"id\":\"p5004\",\"attributes\":{\"mantissas\":[1,2,5]}},\"formatter\":{\"type\":\"object\",\"name\":\"BasicTickFormatter\",\"id\":\"p5005\"},\"major_label_policy\":{\"type\":\"object\",\"name\":\"AllLabels\",\"id\":\"p5006\"}}}],\"center\":[{\"type\":\"object\",\"name\":\"Grid\",\"id\":\"p5007\",\"attributes\":{\"axis\":{\"id\":\"p5003\"}}},{\"type\":\"object\",\"name\":\"Grid\",\"id\":\"p5012\",\"attributes\":{\"dimension\":1,\"axis\":{\"id\":\"p5008\"}}},{\"type\":\"object\",\"name\":\"BoxAnnotation\",\"id\":\"p5020\",\"attributes\":{\"left\":-0.09866203517143038,\"right\":0.37706648699787226,\"top\":3.7229370605193486,\"bottom\":0,\"fill_color\":\"#D55E00\",\"fill_alpha\":0.2}}]}}]}};\n  const render_items = [{\"docid\":\"38e81bbf-1e6e-4f39-b3d1-2a1e6b3840cf\",\"roots\":{\"p4990\":\"f6a1d086-f1f3-4628-b9e0-992b5e3597e9\"},\"root_ids\":[\"p4990\"]}];\n  root.Bokeh.embed.embed_items_notebook(docs_json, render_items);\n  }\n  if (root.Bokeh !== undefined) {\n    embed_document(root);\n  } else {\n    let attempts = 0;\n    const timer = setInterval(function(root) {\n      if (root.Bokeh !== undefined) {\n        clearInterval(timer);\n        embed_document(root);\n      } else {\n        attempts++;\n        if (attempts > 100) {\n          clearInterval(timer);\n          console.log(\"Bokeh: ERROR: Unable to run BokehJS code because BokehJS library is missing\");\n        }\n      }\n    }, 10, root)\n  }\n})(window);",
      "application/vnd.bokehjs_exec.v0+json": ""
     },
     "metadata": {
      "application/vnd.bokehjs_exec.v0+json": {
       "id": "p4990"
      }
     },
     "output_type": "display_data"
    }
   ],
   "source": [
    "show(plot_intervals(pos_distances, subtitle='pair-wise positive distances'))"
   ]
  },
  {
   "cell_type": "code",
   "execution_count": 114,
   "id": "8bf36498",
   "metadata": {},
   "outputs": [
    {
     "name": "stdout",
     "output_type": "stream",
     "text": [
      "Limits  -0.31623396855466857 0.6098488752564705\n"
     ]
    },
    {
     "data": {
      "text/html": [
       "\n",
       "  <div id=\"d3d7e17e-a283-4f12-b174-1f082076c141\" data-root-id=\"p5052\" style=\"display: contents;\"></div>\n"
      ]
     },
     "metadata": {},
     "output_type": "display_data"
    },
    {
     "data": {
      "application/javascript": "(function(root) {\n  function embed_document(root) {\n  const docs_json = {\"cdf62836-ca7a-4a89-950b-6959466e7d2c\":{\"version\":\"3.3.0\",\"title\":\"Bokeh Application\",\"roots\":[{\"type\":\"object\",\"name\":\"Figure\",\"id\":\"p5052\",\"attributes\":{\"width\":800,\"height\":300,\"x_range\":{\"type\":\"object\",\"name\":\"Range1d\",\"id\":\"p5062\",\"attributes\":{\"start\":-0.31623396855466857,\"end\":0.6098488752564705}},\"y_range\":{\"type\":\"object\",\"name\":\"DataRange1d\",\"id\":\"p5054\"},\"x_scale\":{\"type\":\"object\",\"name\":\"LinearScale\",\"id\":\"p5063\"},\"y_scale\":{\"type\":\"object\",\"name\":\"LinearScale\",\"id\":\"p5064\"},\"title\":{\"type\":\"object\",\"name\":\"Title\",\"id\":\"p5055\",\"attributes\":{\"text\":\"Normal versus Empirical Interval Estimates.\\npair-wise negative distances\"}},\"renderers\":[{\"type\":\"object\",\"name\":\"GlyphRenderer\",\"id\":\"p5087\",\"attributes\":{\"data_source\":{\"type\":\"object\",\"name\":\"ColumnDataSource\",\"id\":\"p5083\",\"attributes\":{\"selected\":{\"type\":\"object\",\"name\":\"Selection\",\"id\":\"p5084\",\"attributes\":{\"indices\":[],\"line_indices\":[]}},\"selection_policy\":{\"type\":\"object\",\"name\":\"UnionRenderers\",\"id\":\"p5085\"},\"data\":{\"type\":\"map\",\"entries\":[[\"index\",{\"type\":\"ndarray\",\"array\":{\"type\":\"bytes\",\"data\":\"AAAAAAEAAAACAAAAAwAAAAQAAAAFAAAABgAAAAcAAAAIAAAACQAAAAoAAAALAAAADAAAAA0AAAAOAAAADwAAABAAAAARAAAAEgAAABMAAAAUAAAAFQAAABYAAAAXAAAAGAAAABkAAAAaAAAAGwAAABwAAAAdAAAAHgAAAB8AAAAgAAAAIQAAACIAAAAjAAAAJAAAACUAAAAmAAAAJwAAACgAAAApAAAAKgAAACsAAAAsAAAALQAAAC4AAAAvAAAAMAAAADEAAAA=\"},\"shape\":[50],\"dtype\":\"int32\",\"order\":\"little\"}],[\"rv\",{\"type\":\"ndarray\",\"array\":{\"type\":\"bytes\",\"data\":\"C2gOE29Zwb8+a2Tv9DG+v2UGrLgLsbm/jKHzgSIwtb+0PDtLOa+wv7ivBSmgXKi/DMwpd5u1nr9QcZA47WOJv+BqZfq4RnU/GO56GVNVlz+8QC76e6ykP3AKn2dOrq0/EOqHahBYsz/oTkCh+di3P8Kz+NfiWbw/TYxYB2ZtwD+5vrSi2q3CPyXxED5P7sQ/kSNt2cMuxz/9Vcl0OG/JP2mIJRCtr8s/17qBqyHwzT+i9m4jSxjQP9gPHXGFONE/DinLvr9Y0j9EQnkM+njTP3pbJ1o0mdQ/sHTVp2651T/mjYP1qNnWPxynMUPj+dc/UsDfkB0a2T+I2Y3eVzraP77yOyySWts/9Avqecx63D8qJZjHBpvdP2A+RhVBu94/llf0Ynvb3z9mOFHY2n3gPwFFKP/3DeE/nFH/JRWe4T83XtZMMi7iP9NqrXNPvuI/bneEmmxO4z8JhFvBid7jP6SQMuimbuQ/P50JD8T+5D/aqeA14Y7lP3W2t1z+HuY/EMOOgxuv5j+rz2WqOD/nPw==\"},\"shape\":[50],\"dtype\":\"float64\",\"order\":\"little\"}],[\"density\",{\"type\":\"ndarray\",\"array\":{\"type\":\"bytes\",\"data\":\"XvD5hPzTtT/MlaIGphq9P/zGjyRSAtQ/uxlk5aal1z/1iPCT0kfhP0N0u2P9XvA/u7izreYC+T9Sslr0fBkDQNWBgtgcyANA/tqvUttUDUDLNPLO5XcOQAR6/xobsg5ABHr/GhuyDkD2ef8aG7IOQNwWwgkYfBBAp1CVunDgDEDHVwN2JmAKQD3pi8lGVAhAWFGqvLx2BEDVgYLYHMgDQI7+1ftn0wBAVPD5hPzT9T8GZt/skV/1P9KVogamGu0/uxlk5aal5z8Bx48kUgLkP/WI8JPSR+E/L78MZ1Ds3j+knSXEpzDSP9KVogamGt0/0pWiBqYazT8YQ85FUXfJP6SdJcSnMMI/0pWiBqYanT+knSXEpzDCP9KVogamGr0/0pWiBqYarT/SlaIGphqdP9KVogamGq0/0pWiBqYanT8AAAAAAAAAAAAAAAAAAAAAAAAAAAAAAAAAAAAAAAAAAAAAAAAAAAAAAAAAAAAAAAAAAAAAAAAAAAAAAAAAAAAAAAAAAAAAAADSlaIGphqdPw==\"},\"shape\":[50],\"dtype\":\"float64\",\"order\":\"little\"}]]}}},\"view\":{\"type\":\"object\",\"name\":\"CDSView\",\"id\":\"p5088\",\"attributes\":{\"filter\":{\"type\":\"object\",\"name\":\"AllIndices\",\"id\":\"p5089\"}}},\"glyph\":{\"type\":\"object\",\"name\":\"VBar\",\"id\":\"p5086\",\"attributes\":{\"x\":{\"type\":\"field\",\"field\":\"rv\"},\"width\":{\"type\":\"value\",\"value\":0.017592025622792724},\"top\":{\"type\":\"field\",\"field\":\"density\"},\"fill_color\":{\"type\":\"value\",\"value\":\"limegreen\"}}}}},{\"type\":\"object\",\"name\":\"GlyphRenderer\",\"id\":\"p5094\",\"attributes\":{\"data_source\":{\"type\":\"object\",\"name\":\"ColumnDataSource\",\"id\":\"p5090\",\"attributes\":{\"selected\":{\"type\":\"object\",\"name\":\"Selection\",\"id\":\"p5091\",\"attributes\":{\"indices\":[],\"line_indices\":[]}},\"selection_policy\":{\"type\":\"object\",\"name\":\"UnionRenderers\",\"id\":\"p5092\"},\"data\":{\"type\":\"map\",\"entries\":[[\"index\",{\"type\":\"ndarray\",\"array\":{\"type\":\"bytes\",\"data\":\"BgAAAAcAAAAIAAAACQAAAAoAAAALAAAADAAAAA0AAAAOAAAADwAAABAAAAARAAAAEgAAABMAAAAUAAAAFQAAABYAAAAXAAAAGAAAABkAAAAaAAAAGwAAABwAAAAdAAAA\"},\"shape\":[24],\"dtype\":\"int32\",\"order\":\"little\"}],[\"rv\",{\"type\":\"ndarray\",\"array\":{\"type\":\"bytes\",\"data\":\"DMwpd5u1nr9QcZA47WOJv+BqZfq4RnU/GO56GVNVlz+8QC76e6ykP3AKn2dOrq0/EOqHahBYsz/oTkCh+di3P8Kz+NfiWbw/TYxYB2ZtwD+5vrSi2q3CPyXxED5P7sQ/kSNt2cMuxz/9Vcl0OG/JP2mIJRCtr8s/17qBqyHwzT+i9m4jSxjQP9gPHXGFONE/DinLvr9Y0j9EQnkM+njTP3pbJ1o0mdQ/sHTVp2651T/mjYP1qNnWPxynMUPj+dc/\"},\"shape\":[24],\"dtype\":\"float64\",\"order\":\"little\"}],[\"density\",{\"type\":\"ndarray\",\"array\":{\"type\":\"bytes\",\"data\":\"u7izreYC+T9Sslr0fBkDQNWBgtgcyANA/tqvUttUDUDLNPLO5XcOQAR6/xobsg5ABHr/GhuyDkD2ef8aG7IOQNwWwgkYfBBAp1CVunDgDEDHVwN2JmAKQD3pi8lGVAhAWFGqvLx2BEDVgYLYHMgDQI7+1ftn0wBAVPD5hPzT9T8GZt/skV/1P9KVogamGu0/uxlk5aal5z8Bx48kUgLkP/WI8JPSR+E/L78MZ1Ds3j+knSXEpzDSP9KVogamGt0/\"},\"shape\":[24],\"dtype\":\"float64\",\"order\":\"little\"}]]}}},\"view\":{\"type\":\"object\",\"name\":\"CDSView\",\"id\":\"p5095\",\"attributes\":{\"filter\":{\"type\":\"object\",\"name\":\"AllIndices\",\"id\":\"p5096\"}}},\"glyph\":{\"type\":\"object\",\"name\":\"VBar\",\"id\":\"p5093\",\"attributes\":{\"x\":{\"type\":\"field\",\"field\":\"rv\"},\"width\":{\"type\":\"value\",\"value\":0.017592025622792724},\"top\":{\"type\":\"field\",\"field\":\"density\"},\"fill_color\":{\"type\":\"value\",\"value\":\"darkgreen\"}}}}},{\"type\":\"object\",\"name\":\"GlyphRenderer\",\"id\":\"p5103\",\"attributes\":{\"data_source\":{\"type\":\"object\",\"name\":\"ColumnDataSource\",\"id\":\"p5097\",\"attributes\":{\"selected\":{\"type\":\"object\",\"name\":\"Selection\",\"id\":\"p5098\",\"attributes\":{\"indices\":[],\"line_indices\":[]}},\"selection_policy\":{\"type\":\"object\",\"name\":\"UnionRenderers\",\"id\":\"p5099\"},\"data\":{\"type\":\"map\",\"entries\":[[\"x\",{\"type\":\"ndarray\",\"array\":{\"type\":\"bytes\",\"data\":\"Cw7wnsSvtb9Cu5FnfYCzv3poMzA2UbG/Yyuq8d1Drr/She2CT+Wpv0HgMBTBhqW/sDp0pTIoob8+Km9tSJOZvxzf9Y8r1pC/+Cf5ZB0ygL8A5ZZfxYFEP5gE7BBWwoI/bE3v5Ucekj+MmGjDZNuaP9jxcNBAzKE/apctP88qpj/6POqtXYmqP4riphzs564/DcSxRT2jsT/XFhB9hNKzP59pbrTLAbY/Z7zM6xIxuD8xDysjWmC6P/lhiVqhj7w/wbTnkei+vj/EA6PkF3fAPygtUoC7jsE/jlYBHF+mwj/yf7C3Ar7DP1apX1Om1cQ/utIO70ntxT8e/L2K7QTHP4IlbSaRHMg/5k4cwjQ0yT9KeMtd2EvKP66hevl7Y8s/EssplR97zD949Ngww5LNP9wdiMxmqs4/QEc3aArCzz9SOPMB12zQPwTNys+o+NA/tmGinXqE0T9o9nlrTBDSPxuLUTkenNI/zR8pB/An0z9/tADVwbPTPzFJ2KKTP9Q/492vcGXL1D+Vcoc+N1fVPw==\"},\"shape\":[50],\"dtype\":\"float64\",\"order\":\"little\"}],[\"y\",{\"type\":\"ndarray\",\"array\":{\"type\":\"bytes\",\"data\":\"Ko++W/aH4T9tzx7SEnHkP8g1gsP2ruc/ooFFaKZD6z+A3MyvrC/vPxBx7ETvuPE/hr6KGJID9D/nRWXHJXX2P+x7ymfzCfk/6n0ZCx29+z+tkFNwnYj+P9oROcuosgBABI/ibYYlAkBm0rf1W5gDQIZxzR89BgVAGKQKvvZpBkDxwW2wLL4HQCffGUt7/QhA46JAEpsiCkCfEiyIhSgLQJF6H6uZCgxAHzESs77EDEARlQqkg1MNQK8tnGE6tA1AeckNGg3lDUB5yQ0aDeUNQK8tnGE6tA1AEJUKpINTDUAeMRKzvsQMQJB6H6uZCgxAnxIsiIUoC0DjokASmyIKQCjfGUt7/QhA8sFtsCy+B0AZpAq+9mkGQIdxzR89BgVAZ9K39VuYA0ADj+JthiUCQNoROcuosgBArZBTcJ2I/j/qfRkLHb37P+x7ymfzCfk/50VlxyV19j+GvooYkgP0Pw9x7ETvuPE/e9zMr6wv7z+egUVopkPrP8g1gsP2ruc/bc8e0hJx5D8qj75b9ofhPw==\"},\"shape\":[50],\"dtype\":\"float64\",\"order\":\"little\"}]]}}},\"view\":{\"type\":\"object\",\"name\":\"CDSView\",\"id\":\"p5104\",\"attributes\":{\"filter\":{\"type\":\"object\",\"name\":\"AllIndices\",\"id\":\"p5105\"}}},\"glyph\":{\"type\":\"object\",\"name\":\"Line\",\"id\":\"p5100\",\"attributes\":{\"x\":{\"type\":\"field\",\"field\":\"x\"},\"y\":{\"type\":\"field\",\"field\":\"y\"},\"line_color\":\"#1f77b4\"}},\"nonselection_glyph\":{\"type\":\"object\",\"name\":\"Line\",\"id\":\"p5101\",\"attributes\":{\"x\":{\"type\":\"field\",\"field\":\"x\"},\"y\":{\"type\":\"field\",\"field\":\"y\"},\"line_color\":\"#1f77b4\",\"line_alpha\":0.1}},\"muted_glyph\":{\"type\":\"object\",\"name\":\"Line\",\"id\":\"p5102\",\"attributes\":{\"x\":{\"type\":\"field\",\"field\":\"x\"},\"y\":{\"type\":\"field\",\"field\":\"y\"},\"line_color\":\"#1f77b4\",\"line_alpha\":0.2}}}}],\"toolbar\":{\"type\":\"object\",\"name\":\"Toolbar\",\"id\":\"p5061\",\"attributes\":{\"tools\":[{\"type\":\"object\",\"name\":\"PanTool\",\"id\":\"p5075\"},{\"type\":\"object\",\"name\":\"WheelZoomTool\",\"id\":\"p5076\",\"attributes\":{\"renderers\":\"auto\"}},{\"type\":\"object\",\"name\":\"BoxZoomTool\",\"id\":\"p5077\",\"attributes\":{\"overlay\":{\"type\":\"object\",\"name\":\"BoxAnnotation\",\"id\":\"p5078\",\"attributes\":{\"syncable\":false,\"level\":\"overlay\",\"visible\":false,\"left_units\":\"canvas\",\"right_units\":\"canvas\",\"top_units\":\"canvas\",\"bottom_units\":\"canvas\",\"line_color\":\"black\",\"line_alpha\":1.0,\"line_width\":2,\"line_dash\":[4,4],\"fill_color\":\"lightgrey\",\"fill_alpha\":0.5}}}},{\"type\":\"object\",\"name\":\"SaveTool\",\"id\":\"p5079\"},{\"type\":\"object\",\"name\":\"ResetTool\",\"id\":\"p5080\"},{\"type\":\"object\",\"name\":\"HelpTool\",\"id\":\"p5081\"}]}},\"left\":[{\"type\":\"object\",\"name\":\"LinearAxis\",\"id\":\"p5070\",\"attributes\":{\"ticker\":{\"type\":\"object\",\"name\":\"BasicTicker\",\"id\":\"p5071\",\"attributes\":{\"mantissas\":[1,2,5]}},\"formatter\":{\"type\":\"object\",\"name\":\"BasicTickFormatter\",\"id\":\"p5072\"},\"major_label_policy\":{\"type\":\"object\",\"name\":\"AllLabels\",\"id\":\"p5073\"}}}],\"below\":[{\"type\":\"object\",\"name\":\"LinearAxis\",\"id\":\"p5065\",\"attributes\":{\"ticker\":{\"type\":\"object\",\"name\":\"BasicTicker\",\"id\":\"p5066\",\"attributes\":{\"mantissas\":[1,2,5]}},\"formatter\":{\"type\":\"object\",\"name\":\"BasicTickFormatter\",\"id\":\"p5067\"},\"major_label_policy\":{\"type\":\"object\",\"name\":\"AllLabels\",\"id\":\"p5068\"}}}],\"center\":[{\"type\":\"object\",\"name\":\"Grid\",\"id\":\"p5069\",\"attributes\":{\"axis\":{\"id\":\"p5065\"}}},{\"type\":\"object\",\"name\":\"Grid\",\"id\":\"p5074\",\"attributes\":{\"dimension\":1,\"axis\":{\"id\":\"p5070\"}}},{\"type\":\"object\",\"name\":\"BoxAnnotation\",\"id\":\"p5082\",\"attributes\":{\"left\":-0.08471325760188379,\"right\":0.33344822985035566,\"top\":4.12118544814231,\"bottom\":0,\"fill_color\":\"#D55E00\",\"fill_alpha\":0.2}}]}}]}};\n  const render_items = [{\"docid\":\"cdf62836-ca7a-4a89-950b-6959466e7d2c\",\"roots\":{\"p5052\":\"d3d7e17e-a283-4f12-b174-1f082076c141\"},\"root_ids\":[\"p5052\"]}];\n  root.Bokeh.embed.embed_items_notebook(docs_json, render_items);\n  }\n  if (root.Bokeh !== undefined) {\n    embed_document(root);\n  } else {\n    let attempts = 0;\n    const timer = setInterval(function(root) {\n      if (root.Bokeh !== undefined) {\n        clearInterval(timer);\n        embed_document(root);\n      } else {\n        attempts++;\n        if (attempts > 100) {\n          clearInterval(timer);\n          console.log(\"Bokeh: ERROR: Unable to run BokehJS code because BokehJS library is missing\");\n        }\n      }\n    }, 10, root)\n  }\n})(window);",
      "application/vnd.bokehjs_exec.v0+json": ""
     },
     "metadata": {
      "application/vnd.bokehjs_exec.v0+json": {
       "id": "p5052"
      }
     },
     "output_type": "display_data"
    }
   ],
   "source": [
    "show(plot_intervals(neg_distances, subtitle='pair-wise negative distances'))"
   ]
  },
  {
   "cell_type": "code",
   "execution_count": 112,
   "id": "eefbaea5",
   "metadata": {},
   "outputs": [
    {
     "name": "stdout",
     "output_type": "stream",
     "text": [
      "Limits  -0.3689014302474778 0.7060777896467401\n"
     ]
    },
    {
     "data": {
      "text/html": [
       "\n",
       "  <div id=\"c44e51a5-089d-412d-80aa-0d107b5bc957\" data-root-id=\"p4928\" style=\"display: contents;\"></div>\n"
      ]
     },
     "metadata": {},
     "output_type": "display_data"
    },
    {
     "data": {
      "application/javascript": "(function(root) {\n  function embed_document(root) {\n  const docs_json = {\"3a5e35ea-8538-4510-8dd3-277744df1852\":{\"version\":\"3.3.0\",\"title\":\"Bokeh Application\",\"roots\":[{\"type\":\"object\",\"name\":\"Figure\",\"id\":\"p4928\",\"attributes\":{\"width\":800,\"height\":300,\"x_range\":{\"type\":\"object\",\"name\":\"Range1d\",\"id\":\"p4938\",\"attributes\":{\"start\":-0.3689014302474778,\"end\":0.7060777896467401}},\"y_range\":{\"type\":\"object\",\"name\":\"DataRange1d\",\"id\":\"p4930\"},\"x_scale\":{\"type\":\"object\",\"name\":\"LinearScale\",\"id\":\"p4939\"},\"y_scale\":{\"type\":\"object\",\"name\":\"LinearScale\",\"id\":\"p4940\"},\"title\":{\"type\":\"object\",\"name\":\"Title\",\"id\":\"p4931\",\"attributes\":{\"text\":\"Normal versus Empirical Interval Estimates.\\nDistribution of differences\"}},\"renderers\":[{\"type\":\"object\",\"name\":\"GlyphRenderer\",\"id\":\"p4963\",\"attributes\":{\"data_source\":{\"type\":\"object\",\"name\":\"ColumnDataSource\",\"id\":\"p4959\",\"attributes\":{\"selected\":{\"type\":\"object\",\"name\":\"Selection\",\"id\":\"p4960\",\"attributes\":{\"indices\":[],\"line_indices\":[]}},\"selection_policy\":{\"type\":\"object\",\"name\":\"UnionRenderers\",\"id\":\"p4961\"},\"data\":{\"type\":\"map\",\"entries\":[[\"index\",{\"type\":\"ndarray\",\"array\":{\"type\":\"bytes\",\"data\":\"AAAAAAEAAAACAAAAAwAAAAQAAAAFAAAABgAAAAcAAAAIAAAACQAAAAoAAAALAAAADAAAAA0AAAAOAAAADwAAABAAAAARAAAAEgAAABMAAAAUAAAAFQAAABYAAAAXAAAAGAAAABkAAAAaAAAAGwAAABwAAAAdAAAAHgAAAB8AAAAgAAAAIQAAACIAAAAjAAAAJAAAACUAAAAmAAAAJwAAACgAAAApAAAAKgAAACsAAAAsAAAALQAAAC4AAAAvAAAAMAAAADEAAAA=\"},\"shape\":[50],\"dtype\":\"int32\",\"order\":\"little\"}],[\"rv\",{\"type\":\"ndarray\",\"array\":{\"type\":\"bytes\",\"data\":\"BVSMsfWjwb+upKyjj3S9v1GhQOQzobe/9J3UJNjNsb8wNdHK+PSnv/Bc8peCnJi/gPckpDnxVL/4vW1jW/6VP7TljjDlpaY/NnazV04msT+SeR8Xqvm2P+58i9YFzbw/J8D7yjBQwT/VwbGq3jnEP4PDZ4qMI8c/McUdajoNyj/fxtNJ6PbMP43IiSmW4M8/HuWfBCJl0T/05Xr0+NnSP8zmVeTPTtQ/pOcw1KbD1T966AvEfTjXP1Lp5rNUrdg/KurBoysi2j8A65yTApfbP9jrd4PZC90/ruxSc7CA3j+G7S1jh/XfPy53hCkvteA/mvdxoZpv4T8FeF8ZBiriP3H4TJFx5OI/3Xg6Cd2e4z9I+SeBSFnkP7R5FfmzE+U/H/oCcR/O5T+LevDoiojmP/b63WD2Quc/YnvL2GH95z/N+7hQzbfoPzl8psg4cuk/pfyTQKQs6j8QfYG4D+fqP3v9bjB7oes/531cqOZb7D9T/kkgUhbtP79+N5i90O0/K/8kECmL7j+VfxKIlEXvPw==\"},\"shape\":[50],\"dtype\":\"float64\",\"order\":\"little\"}],[\"density\",{\"type\":\"ndarray\",\"array\":{\"type\":\"bytes\",\"data\":\"ehMLs9rfsD9aTpSdu+/OP1pOlJ27784/6XVsCdb74j/LdRLVwR/sP9SwIg7Befw/z7pFw9HqBECbRPg2ycgIQKb/8WLDawtA3bAiDsF5DEByiaTWukkPQB0dev/CmAtAy3US1cEfDED0MGY10J4FQHoTC7Pa3wBARp29JtK9BECm//Fiw2v7P9J1P+/Ljfc/c9j6eduF8D9vidHwxLfqP0qd6kDcK/A/ssQORM5/5j9KnepA3CvgP7d1EtXBH9w/0f9Ll9dH0j9KTpSdu+/OP0idkAzIT8k/bxMLs9rf0D+FEwuz2t/AP7d1EtXBH7w/ssQORM5/tj+TxA5Ezn+WPwAAAAAAAAAAssQORM5/lj+TxA5Ezn+WP7LEDkTOf5Y/AAAAAAAAAAAAAAAAAAAAAJPEDkTOf5Y/AAAAAAAAAAAAAAAAAAAAAAAAAAAAAAAAAAAAAAAAAAAAAAAAAAAAAAAAAAAAAAAAAAAAAAAAAAAAAAAAAAAAAAAAAAAAAAAAAAAAAAAAAACyxA5Ezn+WPw==\"},\"shape\":[50],\"dtype\":\"float64\",\"order\":\"little\"}]]}}},\"view\":{\"type\":\"object\",\"name\":\"CDSView\",\"id\":\"p4964\",\"attributes\":{\"filter\":{\"type\":\"object\",\"name\":\"AllIndices\",\"id\":\"p4965\"}}},\"glyph\":{\"type\":\"object\",\"name\":\"VBar\",\"id\":\"p4962\",\"attributes\":{\"x\":{\"type\":\"field\",\"field\":\"rv\"},\"width\":{\"type\":\"value\",\"value\":0.022756323083752368},\"top\":{\"type\":\"field\",\"field\":\"density\"},\"fill_color\":{\"type\":\"value\",\"value\":\"limegreen\"}}}}},{\"type\":\"object\",\"name\":\"GlyphRenderer\",\"id\":\"p4970\",\"attributes\":{\"data_source\":{\"type\":\"object\",\"name\":\"ColumnDataSource\",\"id\":\"p4966\",\"attributes\":{\"selected\":{\"type\":\"object\",\"name\":\"Selection\",\"id\":\"p4967\",\"attributes\":{\"indices\":[],\"line_indices\":[]}},\"selection_policy\":{\"type\":\"object\",\"name\":\"UnionRenderers\",\"id\":\"p4968\"},\"data\":{\"type\":\"map\",\"entries\":[[\"index\",{\"type\":\"ndarray\",\"array\":{\"type\":\"bytes\",\"data\":\"BAAAAAUAAAAGAAAABwAAAAgAAAAJAAAACgAAAAsAAAAMAAAADQAAAA4AAAAPAAAAEAAAABEAAAASAAAAEwAAABQAAAAVAAAAFgAAABcAAAAYAAAAGQAAAA==\"},\"shape\":[22],\"dtype\":\"int32\",\"order\":\"little\"}],[\"rv\",{\"type\":\"ndarray\",\"array\":{\"type\":\"bytes\",\"data\":\"MDXRyvj0p7/wXPKXgpyYv4D3JKQ58VS/+L1tY1v+lT+05Y4w5aWmPzZ2s1dOJrE/knkfF6r5tj/ufIvWBc28PyfA+8owUME/1cGxqt45xD+Dw2eKjCPHPzHFHWo6Dco/38bTSej2zD+NyIkpluDPPx7lnwQiZdE/9OV69PjZ0j/M5lXkz07UP6TnMNSmw9U/eugLxH041z9S6eazVK3YPyrqwaMrIto/AOuckwKX2z8=\"},\"shape\":[22],\"dtype\":\"float64\",\"order\":\"little\"}],[\"density\",{\"type\":\"ndarray\",\"array\":{\"type\":\"bytes\",\"data\":\"y3US1cEf7D/UsCIOwXn8P8+6RcPR6gRAm0T4NsnICECm//Fiw2sLQN2wIg7BeQxAcomk1rpJD0AdHXr/wpgLQMt1EtXBHwxA9DBmNdCeBUB6Ewuz2t8AQEadvSbSvQRApv/xYsNr+z/SdT/vy433P3PY+nnbhfA/b4nR8MS36j9KnepA3CvwP7LEDkTOf+Y/Sp3qQNwr4D+3dRLVwR/cP9H/S5fXR9I/Sk6Unbvvzj8=\"},\"shape\":[22],\"dtype\":\"float64\",\"order\":\"little\"}]]}}},\"view\":{\"type\":\"object\",\"name\":\"CDSView\",\"id\":\"p4971\",\"attributes\":{\"filter\":{\"type\":\"object\",\"name\":\"AllIndices\",\"id\":\"p4972\"}}},\"glyph\":{\"type\":\"object\",\"name\":\"VBar\",\"id\":\"p4969\",\"attributes\":{\"x\":{\"type\":\"field\",\"field\":\"rv\"},\"width\":{\"type\":\"value\",\"value\":0.022756323083752368},\"top\":{\"type\":\"field\",\"field\":\"density\"},\"fill_color\":{\"type\":\"value\",\"value\":\"darkgreen\"}}}}},{\"type\":\"object\",\"name\":\"GlyphRenderer\",\"id\":\"p4979\",\"attributes\":{\"data_source\":{\"type\":\"object\",\"name\":\"ColumnDataSource\",\"id\":\"p4973\",\"attributes\":{\"selected\":{\"type\":\"object\",\"name\":\"Selection\",\"id\":\"p4974\",\"attributes\":{\"indices\":[],\"line_indices\":[]}},\"selection_policy\":{\"type\":\"object\",\"name\":\"UnionRenderers\",\"id\":\"p4975\"},\"data\":{\"type\":\"map\",\"entries\":[[\"x\",{\"type\":\"ndarray\",\"array\":{\"type\":\"bytes\",\"data\":\"eHsHVt2jub9C8njqyB23vwtp6n60l7S/1N9bE6ARsr88rZpPFxevv8+afXjuCqq/YohgocX+pL/o64aUOeWfvxDHTObnzJW/cEQlcCxph7/A1YedSMRZvwBPw0ga+IA/WMyb0l6Ukj8w8dWAsKycPwgLiBeBYqM/dB2l7qluqD/gL8LF0nqtPyahb859Q7E/XCr+OZLJsz+Us4ylpk+2P8o8GxG71bg/AMapfM9buz84Tzjo4+G9Pzds4yn8M8A/0rCqXwZ3wT9t9XGVELrCPwg6Ocsa/cM/pH4AASVAxT9Aw8c2L4PGP9oHj2w5xsc/dkxWokMJyT8QkR3YTUzKP6zV5A1Yj8s/SBqsQ2LSzD/iXnN5bBXOP36jOq92WM8/DPSAcsBN0D9almSNRe/QP6g4SKjKkNE/9dorw08y0j9DfQ/e1NPSP5Ef8/hZddM/3sHWE98W1D8sZLouZLjUP3oGnknpWdU/x6iBZG771T8VS2V/85zWP2LtSJp4Ptc/sI8stf3f1z/+MRDQgoHYPw==\"},\"shape\":[50],\"dtype\":\"float64\",\"order\":\"little\"}],[\"y\",{\"type\":\"ndarray\",\"array\":{\"type\":\"bytes\",\"data\":\"Wb+2pf9Z3j9MO2YBAbLhP4oNlcdlgOQ/xT/xAu2Z5z86oVn4Dv/qP9hrhMXIru4/w/WZgjZT8T8jf9ApvnDzP/bCTjDErPU/nIfrCxID+D8GFWSNcW76P56afSm16Pw/HNRLZMlq/z/yQ3rLZ/YAQKHxHu8gMwJAiQx1xw9nA0ATkzaNkI0EQP5UzvD4oQVAF1s5CbefBkCLCjQwcYIHQK9mA5klRghAj8VNY0jnCEBkEZbv3mIJQBTVeE+XtglAungn0NrgCUC6eCfQ2uAJQBTVeE+XtglAZBGW795iCUCPxU1jSOcIQLBmA5klRghAiwo0MHGCB0AYWzkJt58GQP9UzvD4oQVAE5M2jZCNBECLDHXHD2cDQKHxHu8gMwJA9EN6y2f2AEAe1EtkyWr/P56afSm16Pw/ChVkjXFu+j+eh+sLEgP4P/bCTjDErPU/Jn/QKb5w8z/D9ZmCNlPxP9hrhMXIru4/O6FZ+A7/6j/FP/EC7ZnnP5ANlcdlgOQ/TTtmAQGy4T9Zv7al/1nePw==\"},\"shape\":[50],\"dtype\":\"float64\",\"order\":\"little\"}]]}}},\"view\":{\"type\":\"object\",\"name\":\"CDSView\",\"id\":\"p4980\",\"attributes\":{\"filter\":{\"type\":\"object\",\"name\":\"AllIndices\",\"id\":\"p4981\"}}},\"glyph\":{\"type\":\"object\",\"name\":\"Line\",\"id\":\"p4976\",\"attributes\":{\"x\":{\"type\":\"field\",\"field\":\"x\"},\"y\":{\"type\":\"field\",\"field\":\"y\"},\"line_color\":\"#1f77b4\"}},\"nonselection_glyph\":{\"type\":\"object\",\"name\":\"Line\",\"id\":\"p4977\",\"attributes\":{\"x\":{\"type\":\"field\",\"field\":\"x\"},\"y\":{\"type\":\"field\",\"field\":\"y\"},\"line_color\":\"#1f77b4\",\"line_alpha\":0.1}},\"muted_glyph\":{\"type\":\"object\",\"name\":\"Line\",\"id\":\"p4978\",\"attributes\":{\"x\":{\"type\":\"field\",\"field\":\"x\"},\"y\":{\"type\":\"field\",\"field\":\"y\"},\"line_color\":\"#1f77b4\",\"line_alpha\":0.2}}}}],\"toolbar\":{\"type\":\"object\",\"name\":\"Toolbar\",\"id\":\"p4937\",\"attributes\":{\"tools\":[{\"type\":\"object\",\"name\":\"PanTool\",\"id\":\"p4951\"},{\"type\":\"object\",\"name\":\"WheelZoomTool\",\"id\":\"p4952\",\"attributes\":{\"renderers\":\"auto\"}},{\"type\":\"object\",\"name\":\"BoxZoomTool\",\"id\":\"p4953\",\"attributes\":{\"overlay\":{\"type\":\"object\",\"name\":\"BoxAnnotation\",\"id\":\"p4954\",\"attributes\":{\"syncable\":false,\"level\":\"overlay\",\"visible\":false,\"left_units\":\"canvas\",\"right_units\":\"canvas\",\"top_units\":\"canvas\",\"bottom_units\":\"canvas\",\"line_color\":\"black\",\"line_alpha\":1.0,\"line_width\":2,\"line_dash\":[4,4],\"fill_color\":\"lightgrey\",\"fill_alpha\":0.5}}}},{\"type\":\"object\",\"name\":\"SaveTool\",\"id\":\"p4955\"},{\"type\":\"object\",\"name\":\"ResetTool\",\"id\":\"p4956\"},{\"type\":\"object\",\"name\":\"HelpTool\",\"id\":\"p4957\"}]}},\"left\":[{\"type\":\"object\",\"name\":\"LinearAxis\",\"id\":\"p4946\",\"attributes\":{\"ticker\":{\"type\":\"object\",\"name\":\"BasicTicker\",\"id\":\"p4947\",\"attributes\":{\"mantissas\":[1,2,5]}},\"formatter\":{\"type\":\"object\",\"name\":\"BasicTickFormatter\",\"id\":\"p4948\"},\"major_label_policy\":{\"type\":\"object\",\"name\":\"AllLabels\",\"id\":\"p4949\"}}}],\"below\":[{\"type\":\"object\",\"name\":\"LinearAxis\",\"id\":\"p4941\",\"attributes\":{\"ticker\":{\"type\":\"object\",\"name\":\"BasicTicker\",\"id\":\"p4942\",\"attributes\":{\"mantissas\":[1,2,5]}},\"formatter\":{\"type\":\"object\",\"name\":\"BasicTickFormatter\",\"id\":\"p4943\"},\"major_label_policy\":{\"type\":\"object\",\"name\":\"AllLabels\",\"id\":\"p4944\"}}}],\"center\":[{\"type\":\"object\",\"name\":\"Grid\",\"id\":\"p4945\",\"attributes\":{\"axis\":{\"id\":\"p4941\"}}},{\"type\":\"object\",\"name\":\"Grid\",\"id\":\"p4950\",\"attributes\":{\"dimension\":1,\"axis\":{\"id\":\"p4946\"}}},{\"type\":\"object\",\"name\":\"BoxAnnotation\",\"id\":\"p4958\",\"attributes\":{\"left\":-0.10015662527392333,\"right\":0.3829047233455468,\"top\":3.911000897308605,\"bottom\":0,\"fill_color\":\"#D55E00\",\"fill_alpha\":0.2}}]}}]}};\n  const render_items = [{\"docid\":\"3a5e35ea-8538-4510-8dd3-277744df1852\",\"roots\":{\"p4928\":\"c44e51a5-089d-412d-80aa-0d107b5bc957\"},\"root_ids\":[\"p4928\"]}];\n  root.Bokeh.embed.embed_items_notebook(docs_json, render_items);\n  }\n  if (root.Bokeh !== undefined) {\n    embed_document(root);\n  } else {\n    let attempts = 0;\n    const timer = setInterval(function(root) {\n      if (root.Bokeh !== undefined) {\n        clearInterval(timer);\n        embed_document(root);\n      } else {\n        attempts++;\n        if (attempts > 100) {\n          clearInterval(timer);\n          console.log(\"Bokeh: ERROR: Unable to run BokehJS code because BokehJS library is missing\");\n        }\n      }\n    }, 10, root)\n  }\n})(window);",
      "application/vnd.bokehjs_exec.v0+json": ""
     },
     "metadata": {
      "application/vnd.bokehjs_exec.v0+json": {
       "id": "p4928"
      }
     },
     "output_type": "display_data"
    }
   ],
   "source": [
    "show(plot_intervals(contrast_distances, subtitle='Distribution of differences'))"
   ]
  },
  {
   "cell_type": "markdown",
   "id": "257ef004",
   "metadata": {},
   "source": [
    "### For comparison, here's what it looks like on a normally distributed sample"
   ]
  },
  {
   "cell_type": "code",
   "execution_count": 116,
   "id": "f4092336",
   "metadata": {},
   "outputs": [
    {
     "name": "stdout",
     "output_type": "stream",
     "text": [
      "Limits  -3.964520783258499 4.037253746017703\n"
     ]
    },
    {
     "data": {
      "text/html": [
       "\n",
       "  <div id=\"d594d2fa-bd18-46a0-b804-bcce49d246dc\" data-root-id=\"p5176\" style=\"display: contents;\"></div>\n"
      ]
     },
     "metadata": {},
     "output_type": "display_data"
    },
    {
     "data": {
      "application/javascript": "(function(root) {\n  function embed_document(root) {\n  const docs_json = {\"b82fe35d-e1f4-437b-ac5c-67c6ad2377d5\":{\"version\":\"3.3.0\",\"title\":\"Bokeh Application\",\"roots\":[{\"type\":\"object\",\"name\":\"Figure\",\"id\":\"p5176\",\"attributes\":{\"width\":800,\"height\":300,\"x_range\":{\"type\":\"object\",\"name\":\"Range1d\",\"id\":\"p5186\",\"attributes\":{\"start\":-3.964520783258499,\"end\":4.037253746017703}},\"y_range\":{\"type\":\"object\",\"name\":\"DataRange1d\",\"id\":\"p5178\"},\"x_scale\":{\"type\":\"object\",\"name\":\"LinearScale\",\"id\":\"p5187\"},\"y_scale\":{\"type\":\"object\",\"name\":\"LinearScale\",\"id\":\"p5188\"},\"title\":{\"type\":\"object\",\"name\":\"Title\",\"id\":\"p5179\",\"attributes\":{\"text\":\"Normal versus Empirical Interval Estimates.\\nnormal distribution\"}},\"renderers\":[{\"type\":\"object\",\"name\":\"GlyphRenderer\",\"id\":\"p5211\",\"attributes\":{\"data_source\":{\"type\":\"object\",\"name\":\"ColumnDataSource\",\"id\":\"p5207\",\"attributes\":{\"selected\":{\"type\":\"object\",\"name\":\"Selection\",\"id\":\"p5208\",\"attributes\":{\"indices\":[],\"line_indices\":[]}},\"selection_policy\":{\"type\":\"object\",\"name\":\"UnionRenderers\",\"id\":\"p5209\"},\"data\":{\"type\":\"map\",\"entries\":[[\"index\",{\"type\":\"ndarray\",\"array\":{\"type\":\"bytes\",\"data\":\"AAAAAAEAAAACAAAAAwAAAAQAAAAFAAAABgAAAAcAAAAIAAAACQAAAAoAAAALAAAADAAAAA0AAAAOAAAADwAAABAAAAARAAAAEgAAABMAAAAUAAAAFQAAABYAAAAXAAAAGAAAABkAAAAaAAAAGwAAABwAAAAdAAAAHgAAAB8AAAAgAAAAIQAAACIAAAAjAAAAJAAAACUAAAAmAAAAJwAAACgAAAApAAAAKgAAACsAAAAsAAAALQAAAC4AAAAvAAAAMAAAADEAAAA=\"},\"shape\":[50],\"dtype\":\"int32\",\"order\":\"little\"}],[\"rv\",{\"type\":\"ndarray\",\"array\":{\"type\":\"bytes\",\"data\":\"ShHtjTALDMAmLkKiSfkKwAFLl7Zi5wnA3WfsynvVCMC4hEHflMMHwJShlvOtsQbAcL7rB8efBcBM20Ac4I0EwCf4lTD5ewPAAhXrRBJqAsDeMUBZK1gBwLpOlW1ERgDAK9fUA7to/r/iEH8s7UT8v5pKKVUfIfq/UITTfVH9978Ivn2mg9n1v8D3J8+1tfO/djHS9+eR8b9c1vhANNzuv8hJTZKYlOq/OL2h4/xM5r+oMPY0YQXivyhIlQyLe9u/CC8+r1Ps0r/QK86jOLrEvwDM/0hP3py/gHEco0kFuz8AazyME6HOP6hOdSPB39c/6DNmQHw34D94wBHvF3/kPwhNvZ2zxug/mNloTE8O7T8UM4p99arwP2D531TDzvI/qL81LJHy9D/whYsDXxb3PzhM4dosOvk/gBI3svpd+z/M2IyJyIH9PxSf4mCWpf8/rjIcHLLkAEDSFccHmfYBQPb4cfN/CANAGtwc32YaBEBAv8fKTSwFQGSicrY0PgZAiIUdohtQB0CsaMiNAmIIQA==\"},\"shape\":[50],\"dtype\":\"float64\",\"order\":\"little\"}],[\"density\",{\"type\":\"ndarray\",\"array\":{\"type\":\"bytes\",\"data\":\"46QotlWgfj8AAAAAAAAAAOOkKLZVoH4/AAAAAAAAAAAAAAAAAAAAAOOkKLZVoI4/46QotlWgjj8AAAAAAAAAAC6QY/9KzKo/DmfZkTUkoz8OZ9mRNSSjP6B7nkhA+KY/1aQotlWgrj+re55IQPi2P8ekKLZVoL4/+QUBpEXiuD9c8TvtOg7FP6FfdwhTq80/lhrGWlC2zD/9ZtmRNSTTP8lOY5a5k9Q/ZWMoTcRn2D97GsZaULbMP0iQY/9KzNo/ogmy6Lae0z9J8TvtOg7VPym9nrHRMN0/0sBP9kLt1z+7wE/2Qu3XP7ZOY5a5k9Q/8JMURLyI1T+re55IQPjWP1zxO+06DtU/VH9PjbG00T8WkGP/SszKP1zxO+06DsU/hDbtmj0Dxj+WGsZaULa8P5mXxYgtRcA/gHueSED4pj9IkGP/Ssy6P1zxO+06DrU/DmfZkTUkoz8OZ9mRNSSjP+OkKLZVoI4/qqQotlWgfj/jpCi2VaCeP+OkKLZVoI4/AAAAAAAAAADHpCi2VaB+Pw==\"},\"shape\":[50],\"dtype\":\"float64\",\"order\":\"little\"}]]}}},\"view\":{\"type\":\"object\",\"name\":\"CDSView\",\"id\":\"p5212\",\"attributes\":{\"filter\":{\"type\":\"object\",\"name\":\"AllIndices\",\"id\":\"p5213\"}}},\"glyph\":{\"type\":\"object\",\"name\":\"VBar\",\"id\":\"p5210\",\"attributes\":{\"x\":{\"type\":\"field\",\"field\":\"rv\"},\"width\":{\"type\":\"value\",\"value\":0.1337412272954614},\"top\":{\"type\":\"field\",\"field\":\"density\"},\"fill_color\":{\"type\":\"value\",\"value\":\"limegreen\"}}}}},{\"type\":\"object\",\"name\":\"GlyphRenderer\",\"id\":\"p5218\",\"attributes\":{\"data_source\":{\"type\":\"object\",\"name\":\"ColumnDataSource\",\"id\":\"p5214\",\"attributes\":{\"selected\":{\"type\":\"object\",\"name\":\"Selection\",\"id\":\"p5215\",\"attributes\":{\"indices\":[],\"line_indices\":[]}},\"selection_policy\":{\"type\":\"object\",\"name\":\"UnionRenderers\",\"id\":\"p5216\"},\"data\":{\"type\":\"map\",\"entries\":[[\"index\",{\"type\":\"ndarray\",\"array\":{\"type\":\"bytes\",\"data\":\"DAAAAA0AAAAOAAAADwAAABAAAAARAAAAEgAAABMAAAAUAAAAFQAAABYAAAAXAAAAGAAAABkAAAAaAAAAGwAAABwAAAAdAAAAHgAAAB8AAAAgAAAAIQAAACIAAAAjAAAAJAAAACUAAAAmAAAAJwAAACgAAAApAAAA\"},\"shape\":[30],\"dtype\":\"int32\",\"order\":\"little\"}],[\"rv\",{\"type\":\"ndarray\",\"array\":{\"type\":\"bytes\",\"data\":\"K9fUA7to/r/iEH8s7UT8v5pKKVUfIfq/UITTfVH9978Ivn2mg9n1v8D3J8+1tfO/djHS9+eR8b9c1vhANNzuv8hJTZKYlOq/OL2h4/xM5r+oMPY0YQXivyhIlQyLe9u/CC8+r1Ps0r/QK86jOLrEvwDM/0hP3py/gHEco0kFuz8AazyME6HOP6hOdSPB39c/6DNmQHw34D94wBHvF3/kPwhNvZ2zxug/mNloTE8O7T8UM4p99arwP2D531TDzvI/qL81LJHy9D/whYsDXxb3PzhM4dosOvk/gBI3svpd+z/M2IyJyIH9PxSf4mCWpf8/\"},\"shape\":[30],\"dtype\":\"float64\",\"order\":\"little\"}],[\"density\",{\"type\":\"ndarray\",\"array\":{\"type\":\"bytes\",\"data\":\"1aQotlWgrj+re55IQPi2P8ekKLZVoL4/+QUBpEXiuD9c8TvtOg7FP6FfdwhTq80/lhrGWlC2zD/9ZtmRNSTTP8lOY5a5k9Q/ZWMoTcRn2D97GsZaULbMP0iQY/9KzNo/ogmy6Lae0z9J8TvtOg7VPym9nrHRMN0/0sBP9kLt1z+7wE/2Qu3XP7ZOY5a5k9Q/8JMURLyI1T+re55IQPjWP1zxO+06DtU/VH9PjbG00T8WkGP/SszKP1zxO+06DsU/hDbtmj0Dxj+WGsZaULa8P5mXxYgtRcA/gHueSED4pj9IkGP/Ssy6P1zxO+06DrU/\"},\"shape\":[30],\"dtype\":\"float64\",\"order\":\"little\"}]]}}},\"view\":{\"type\":\"object\",\"name\":\"CDSView\",\"id\":\"p5219\",\"attributes\":{\"filter\":{\"type\":\"object\",\"name\":\"AllIndices\",\"id\":\"p5220\"}}},\"glyph\":{\"type\":\"object\",\"name\":\"VBar\",\"id\":\"p5217\",\"attributes\":{\"x\":{\"type\":\"field\",\"field\":\"rv\"},\"width\":{\"type\":\"value\",\"value\":0.1337412272954614},\"top\":{\"type\":\"field\",\"field\":\"density\"},\"fill_color\":{\"type\":\"value\",\"value\":\"darkgreen\"}}}}},{\"type\":\"object\",\"name\":\"GlyphRenderer\",\"id\":\"p5227\",\"attributes\":{\"data_source\":{\"type\":\"object\",\"name\":\"ColumnDataSource\",\"id\":\"p5221\",\"attributes\":{\"selected\":{\"type\":\"object\",\"name\":\"Selection\",\"id\":\"p5222\",\"attributes\":{\"indices\":[],\"line_indices\":[]}},\"selection_policy\":{\"type\":\"object\",\"name\":\"UnionRenderers\",\"id\":\"p5223\"},\"data\":{\"type\":\"map\",\"entries\":[[\"x\",{\"type\":\"ndarray\",\"array\":{\"type\":\"bytes\",\"data\":\"0vyR/Zlp/78NzpD8ORv+v0mfj/vZzPy/hHCO+nl++7/AQY35GTD6v/sSjPi54fi/NuSK91mT979ytYn2+UT2v66GiPWZ9vS/6VeH9Dmo878kKYbz2Vnyv2D6hPJ5C/G/NpcH4zN677+uOQXhc93svyTcAt+zQOq/nH4A3fOj578SIf7aMwflv4jD+9hzauK/AMzyrWeb37/sEO6p52Hav9xV6aVnKNW/kDXJQ8/dz79wv787z2rFv5CSbGee77W/AGSadeWZcL8ARrm4YdyzPyAZZuQwYcQ/UI9v7DDUzj+4gjx6mKPUP8g9QX4Y3dk/2PhFgpgW3z/4WSVDDCjiP4C3J0XMxOQ/CBUqR4xh5z+UcixJTP7pPxzQLksMm+w/pC0xTcw37z+WxZknRurwP1z0miimOPI/ICOcKQaH8z/kUZ0qZtX0P6qAnivGI/Y/bq+fLCZy9z8y3qAthsD4P/YMoi7mDvo/vDujL0Zd+z+AaqQwpqv8P0SZpTEG+v0/CsimMmZI/z9n+9MZY0sAQA==\"},\"shape\":[50],\"dtype\":\"float64\",\"order\":\"little\"}],[\"y\",{\"type\":\"ndarray\",\"array\":{\"type\":\"bytes\",\"data\":\"VjkUkZlSrT/IokVycBixP4YEAdB6zrM/a+tBmRvNtj+4Ry3/xhS6P3PvIuaCpL0/eN13kty8wD+NI+6vCMjCP2G47oqq8MQ/WuApKbAyxz8dE8SVEInJP9mnj+LT7cs/v7Yo/CNazj8u67BDM2PQPwJ//8svldE/sLWjUa6+0j9NmzFRM9vTPxPKnvc85tQ/VLSxBGHb1T9KWbGSa7bWP/NHC5t9c9c/B7kvBCoP2D+MhN8IkIbYP8eKAd1x19g/qbs2l0YA2T+puzaXRgDZP8eKAd1x19g/jITfCJCG2D8GuS8EKg/YP/NHC5t9c9c/Slmxkmu21j9UtLEEYdvVPxLKnvc85tQ/TZsxUTPb0z+vtaNRrr7SPwF//8svldE/LuuwQzNj0D/Btij8I1rOP9mnj+LT7cs/HRPElRCJyT9c4CkpsDLHP2G47oqq8MQ/jSPurwjIwj943XeS3LzAP3bvIuaCpL0/uEct/8YUuj9r60GZG822P4kEAdB6zrM/xaJFcnAYsT9WORSRmVKtPw==\"},\"shape\":[50],\"dtype\":\"float64\",\"order\":\"little\"}]]}}},\"view\":{\"type\":\"object\",\"name\":\"CDSView\",\"id\":\"p5228\",\"attributes\":{\"filter\":{\"type\":\"object\",\"name\":\"AllIndices\",\"id\":\"p5229\"}}},\"glyph\":{\"type\":\"object\",\"name\":\"Line\",\"id\":\"p5224\",\"attributes\":{\"x\":{\"type\":\"field\",\"field\":\"x\"},\"y\":{\"type\":\"field\",\"field\":\"y\"},\"line_color\":\"#1f77b4\"}},\"nonselection_glyph\":{\"type\":\"object\",\"name\":\"Line\",\"id\":\"p5225\",\"attributes\":{\"x\":{\"type\":\"field\",\"field\":\"x\"},\"y\":{\"type\":\"field\",\"field\":\"y\"},\"line_color\":\"#1f77b4\",\"line_alpha\":0.1}},\"muted_glyph\":{\"type\":\"object\",\"name\":\"Line\",\"id\":\"p5226\",\"attributes\":{\"x\":{\"type\":\"field\",\"field\":\"x\"},\"y\":{\"type\":\"field\",\"field\":\"y\"},\"line_color\":\"#1f77b4\",\"line_alpha\":0.2}}}}],\"toolbar\":{\"type\":\"object\",\"name\":\"Toolbar\",\"id\":\"p5185\",\"attributes\":{\"tools\":[{\"type\":\"object\",\"name\":\"PanTool\",\"id\":\"p5199\"},{\"type\":\"object\",\"name\":\"WheelZoomTool\",\"id\":\"p5200\",\"attributes\":{\"renderers\":\"auto\"}},{\"type\":\"object\",\"name\":\"BoxZoomTool\",\"id\":\"p5201\",\"attributes\":{\"overlay\":{\"type\":\"object\",\"name\":\"BoxAnnotation\",\"id\":\"p5202\",\"attributes\":{\"syncable\":false,\"level\":\"overlay\",\"visible\":false,\"left_units\":\"canvas\",\"right_units\":\"canvas\",\"top_units\":\"canvas\",\"bottom_units\":\"canvas\",\"line_color\":\"black\",\"line_alpha\":1.0,\"line_width\":2,\"line_dash\":[4,4],\"fill_color\":\"lightgrey\",\"fill_alpha\":0.5}}}},{\"type\":\"object\",\"name\":\"SaveTool\",\"id\":\"p5203\"},{\"type\":\"object\",\"name\":\"ResetTool\",\"id\":\"p5204\"},{\"type\":\"object\",\"name\":\"HelpTool\",\"id\":\"p5205\"}]}},\"left\":[{\"type\":\"object\",\"name\":\"LinearAxis\",\"id\":\"p5194\",\"attributes\":{\"ticker\":{\"type\":\"object\",\"name\":\"BasicTicker\",\"id\":\"p5195\",\"attributes\":{\"mantissas\":[1,2,5]}},\"formatter\":{\"type\":\"object\",\"name\":\"BasicTickFormatter\",\"id\":\"p5196\"},\"major_label_policy\":{\"type\":\"object\",\"name\":\"AllLabels\",\"id\":\"p5197\"}}}],\"below\":[{\"type\":\"object\",\"name\":\"LinearAxis\",\"id\":\"p5189\",\"attributes\":{\"ticker\":{\"type\":\"object\",\"name\":\"BasicTicker\",\"id\":\"p5190\",\"attributes\":{\"mantissas\":[1,2,5]}},\"formatter\":{\"type\":\"object\",\"name\":\"BasicTickFormatter\",\"id\":\"p5191\"},\"major_label_policy\":{\"type\":\"object\",\"name\":\"AllLabels\",\"id\":\"p5192\"}}}],\"center\":[{\"type\":\"object\",\"name\":\"Grid\",\"id\":\"p5193\",\"attributes\":{\"axis\":{\"id\":\"p5189\"}}},{\"type\":\"object\",\"name\":\"Grid\",\"id\":\"p5198\",\"attributes\":{\"dimension\":1,\"axis\":{\"id\":\"p5194\"}}},{\"type\":\"object\",\"name\":\"BoxAnnotation\",\"id\":\"p5206\",\"attributes\":{\"left\":-1.9632816224182545,\"right\":2.0368101136986527,\"top\":1,\"bottom\":0,\"fill_color\":\"#D55E00\",\"fill_alpha\":0.2}}]}}]}};\n  const render_items = [{\"docid\":\"b82fe35d-e1f4-437b-ac5c-67c6ad2377d5\",\"roots\":{\"p5176\":\"d594d2fa-bd18-46a0-b804-bcce49d246dc\"},\"root_ids\":[\"p5176\"]}];\n  root.Bokeh.embed.embed_items_notebook(docs_json, render_items);\n  }\n  if (root.Bokeh !== undefined) {\n    embed_document(root);\n  } else {\n    let attempts = 0;\n    const timer = setInterval(function(root) {\n      if (root.Bokeh !== undefined) {\n        clearInterval(timer);\n        embed_document(root);\n      } else {\n        attempts++;\n        if (attempts > 100) {\n          clearInterval(timer);\n          console.log(\"Bokeh: ERROR: Unable to run BokehJS code because BokehJS library is missing\");\n        }\n      }\n    }, 10, root)\n  }\n})(window);",
      "application/vnd.bokehjs_exec.v0+json": ""
     },
     "metadata": {
      "application/vnd.bokehjs_exec.v0+json": {
       "id": "p5176"
      }
     },
     "output_type": "display_data"
    }
   ],
   "source": [
    "# Test this on a normal sample\n",
    "normal_density = norm.rvs(loc=0, scale=1, size=1000)\n",
    "p = plot_intervals(normal_density, subtitle='normal distribution')\n",
    "show(p)"
   ]
  },
  {
   "cell_type": "markdown",
   "id": "a01b0e18",
   "metadata": {},
   "source": [
    "# More sampling statistics\n",
    "\n",
    "__An exercise is working with non-normal distributions__\n",
    "\n",
    "Most cases there isn't an analytic solution for the standard error (SE) (the standard deviation of a statistic)  In finding an SE, a particular egregious case is the quotient of two random variables.  Assuming the above-derived positive and negative differences samples are independent, we create a new rv of their quotient. "
   ]
  },
  {
   "cell_type": "code",
   "execution_count": 121,
   "id": "acb6ce51",
   "metadata": {},
   "outputs": [
    {
     "data": {
      "text/html": [
       "<div>\n",
       "<style scoped>\n",
       "    .dataframe tbody tr th:only-of-type {\n",
       "        vertical-align: middle;\n",
       "    }\n",
       "\n",
       "    .dataframe tbody tr th {\n",
       "        vertical-align: top;\n",
       "    }\n",
       "\n",
       "    .dataframe thead th {\n",
       "        text-align: right;\n",
       "    }\n",
       "</style>\n",
       "<table border=\"1\" class=\"dataframe\">\n",
       "  <thead>\n",
       "    <tr style=\"text-align: right;\">\n",
       "      <th></th>\n",
       "      <th>0</th>\n",
       "    </tr>\n",
       "  </thead>\n",
       "  <tbody>\n",
       "    <tr>\n",
       "      <th>count</th>\n",
       "      <td>2000.000000</td>\n",
       "    </tr>\n",
       "    <tr>\n",
       "      <th>mean</th>\n",
       "      <td>7.583810</td>\n",
       "    </tr>\n",
       "    <tr>\n",
       "      <th>std</th>\n",
       "      <td>242.684015</td>\n",
       "    </tr>\n",
       "    <tr>\n",
       "      <th>min</th>\n",
       "      <td>-764.039003</td>\n",
       "    </tr>\n",
       "    <tr>\n",
       "      <th>25%</th>\n",
       "      <td>0.211558</td>\n",
       "    </tr>\n",
       "    <tr>\n",
       "      <th>50%</th>\n",
       "      <td>0.834779</td>\n",
       "    </tr>\n",
       "    <tr>\n",
       "      <th>75%</th>\n",
       "      <td>1.974618</td>\n",
       "    </tr>\n",
       "    <tr>\n",
       "      <th>max</th>\n",
       "      <td>10749.860138</td>\n",
       "    </tr>\n",
       "  </tbody>\n",
       "</table>\n",
       "</div>"
      ],
      "text/plain": [
       "                  0\n",
       "count   2000.000000\n",
       "mean       7.583810\n",
       "std      242.684015\n",
       "min     -764.039003\n",
       "25%        0.211558\n",
       "50%        0.834779\n",
       "75%        1.974618\n",
       "max    10749.860138"
      ]
     },
     "execution_count": 121,
     "metadata": {},
     "output_type": "execute_result"
    }
   ],
   "source": [
    "quotient_rv_sample = pd.DataFrame(np.array(pos_distances) / np.array(neg_distances))\n",
    "quotient_rv_sample.describe()"
   ]
  },
  {
   "cell_type": "code",
   "execution_count": 115,
   "id": "a12c851f",
   "metadata": {},
   "outputs": [
    {
     "name": "stdout",
     "output_type": "stream",
     "text": [
      "Limits  -943.4996666219088 958.6672875759598\n"
     ]
    },
    {
     "data": {
      "text/html": [
       "\n",
       "  <div id=\"bfc1c4b0-537e-4bed-a11c-119d68b68a18\" data-root-id=\"p5114\" style=\"display: contents;\"></div>\n"
      ]
     },
     "metadata": {},
     "output_type": "display_data"
    },
    {
     "data": {
      "application/javascript": "(function(root) {\n  function embed_document(root) {\n  const docs_json = {\"fdec97b0-9ed4-47f2-b650-8fa7171f9e5f\":{\"version\":\"3.3.0\",\"title\":\"Bokeh Application\",\"roots\":[{\"type\":\"object\",\"name\":\"Figure\",\"id\":\"p5114\",\"attributes\":{\"width\":800,\"height\":300,\"x_range\":{\"type\":\"object\",\"name\":\"Range1d\",\"id\":\"p5124\",\"attributes\":{\"start\":-943.4996666219088,\"end\":958.6672875759598}},\"y_range\":{\"type\":\"object\",\"name\":\"DataRange1d\",\"id\":\"p5116\"},\"x_scale\":{\"type\":\"object\",\"name\":\"LinearScale\",\"id\":\"p5125\"},\"y_scale\":{\"type\":\"object\",\"name\":\"LinearScale\",\"id\":\"p5126\"},\"title\":{\"type\":\"object\",\"name\":\"Title\",\"id\":\"p5117\",\"attributes\":{\"text\":\"Normal versus Empirical Interval Estimates.\\nquotient distribution\"}},\"renderers\":[{\"type\":\"object\",\"name\":\"GlyphRenderer\",\"id\":\"p5149\",\"attributes\":{\"data_source\":{\"type\":\"object\",\"name\":\"ColumnDataSource\",\"id\":\"p5145\",\"attributes\":{\"selected\":{\"type\":\"object\",\"name\":\"Selection\",\"id\":\"p5146\",\"attributes\":{\"indices\":[],\"line_indices\":[]}},\"selection_policy\":{\"type\":\"object\",\"name\":\"UnionRenderers\",\"id\":\"p5147\"},\"data\":{\"type\":\"map\",\"entries\":[[\"index\",{\"type\":\"ndarray\",\"array\":{\"type\":\"bytes\",\"data\":\"AAAAAAEAAAACAAAAAwAAAAQAAAAFAAAABgAAAAcAAAAIAAAACQAAAAoAAAALAAAADAAAAA0AAAAOAAAADwAAABAAAAARAAAAEgAAABMAAAAUAAAAFQAAABYAAAAXAAAAGAAAABkAAAAaAAAAGwAAABwAAAAdAAAAHgAAAB8AAAAgAAAAIQAAACIAAAAjAAAAJAAAACUAAAAmAAAAJwAAACgAAAApAAAAKgAAACsAAAAsAAAALQAAAC4AAAAvAAAAMAAAADEAAAAyAAAAMwAAADQAAAA1AAAANgAAADcAAAA4AAAAOQAAADoAAAA7AAAAPAAAAD0AAAA+AAAAPwAAAEAAAABBAAAAQgAAAEMAAABEAAAARQAAAEYAAABHAAAASAAAAEkAAABKAAAASwAAAEwAAABNAAAATgAAAE8AAABQAAAAUQAAAFIAAABTAAAAVAAAAFUAAABWAAAAVwAAAFgAAABZAAAAWgAAAFsAAABcAAAAXQAAAF4AAABfAAAAYAAAAGEAAABiAAAAYwAAAGQAAABlAAAAZgAAAGcAAABoAAAAaQAAAGoAAABrAAAAbAAAAG0AAABuAAAAbwAAAHAAAABxAAAAcgAAAHMAAAB0AAAAdQAAAHYAAAB3AAAAeAAAAHkAAAB6AAAAewAAAHwAAAB9AAAAfgAAAH8AAACAAAAAgQAAAIIAAACDAAAAhAAAAIUAAACGAAAAhwAAAIgAAACJAAAAigAAAIsAAACMAAAAjQAAAI4AAACPAAAAkAAAAJEAAACSAAAAkwAAAJQAAACVAAAAlgAAAJcAAACYAAAAmQAAAJoAAACbAAAAnAAAAJ0AAACeAAAAnwAAAKAAAAChAAAAogAAAKMAAACkAAAApQAAAKYAAACnAAAAqAAAAKkAAACqAAAAqwAAAKwAAACtAAAArgAAAK8AAACwAAAAsQAAALIAAACzAAAAtAAAALUAAAC2AAAAtwAAALgAAAC5AAAAugAAALsAAAC8AAAAvQAAAL4AAAC/AAAAwAAAAMEAAADCAAAAwwAAAMQAAADFAAAAxgAAAMcAAADIAAAAyQAAAMoAAADLAAAAzAAAAM0AAADOAAAAzwAAANAAAADRAAAA0gAAANMAAADUAAAA1QAAANYAAADXAAAA2AAAANkAAADaAAAA2wAAANwAAADdAAAA3gAAAN8AAADgAAAA4QAAAOIAAADjAAAA5AAAAOUAAADmAAAA5wAAAOgAAADpAAAA6gAAAOsAAADsAAAA7QAAAO4AAADvAAAA8AAAAPEAAADyAAAA8wAAAPQAAAD1AAAA9gAAAPcAAAD4AAAA+QAAAPoAAAD7AAAA/AAAAP0AAAD+AAAA/wAAAAABAAABAQAAAgEAAAMBAAAEAQAABQEAAAYBAAAHAQAACAEAAAkBAAAKAQAACwEAAAwBAAANAQAADgEAAA8BAAAQAQAAEQEAABIBAAATAQAAFAEAABUBAAAWAQAAFwEAABgBAAAZAQAAGgEAABsBAAAcAQAAHQEAAB4BAAAfAQAAIAEAACEBAAAiAQAAIwEAACQBAAAlAQAAJgEAACcBAAAoAQAAKQEAACoBAAArAQAA\"},\"shape\":[300],\"dtype\":\"int32\",\"order\":\"little\"}],[\"rv\",{\"type\":\"ndarray\",\"array\":{\"type\":\"bytes\",\"data\":\"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\"},\"shape\":[300],\"dtype\":\"float64\",\"order\":\"little\"}],[\"density\",{\"type\":\"ndarray\",\"array\":{\"type\":\"bytes\",\"data\":\"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\"},\"shape\":[300],\"dtype\":\"float64\",\"order\":\"little\"}]]}}},\"view\":{\"type\":\"object\",\"name\":\"CDSView\",\"id\":\"p5150\",\"attributes\":{\"filter\":{\"type\":\"object\",\"name\":\"AllIndices\",\"id\":\"p5151\"}}},\"glyph\":{\"type\":\"object\",\"name\":\"VBar\",\"id\":\"p5148\",\"attributes\":{\"x\":{\"type\":\"field\",\"field\":\"rv\"},\"width\":{\"type\":\"value\",\"value\":38.37966380120557},\"top\":{\"type\":\"field\",\"field\":\"density\"},\"fill_color\":{\"type\":\"value\",\"value\":\"limegreen\"}}}}},{\"type\":\"object\",\"name\":\"GlyphRenderer\",\"id\":\"p5156\",\"attributes\":{\"data_source\":{\"type\":\"object\",\"name\":\"ColumnDataSource\",\"id\":\"p5152\",\"attributes\":{\"selected\":{\"type\":\"object\",\"name\":\"Selection\",\"id\":\"p5153\",\"attributes\":{\"indices\":[],\"line_indices\":[]}},\"selection_policy\":{\"type\":\"object\",\"name\":\"UnionRenderers\",\"id\":\"p5154\"},\"data\":{\"type\":\"map\",\"entries\":[[\"index\",{\"type\":\"ndarray\",\"array\":{\"type\":\"bytes\",\"data\":\"FAAAAA==\"},\"shape\":[1],\"dtype\":\"int32\",\"order\":\"little\"}],[\"rv\",{\"type\":\"ndarray\",\"array\":{\"type\":\"bytes\",\"data\":\"ADv18SZvDEA=\"},\"shape\":[1],\"dtype\":\"float64\",\"order\":\"little\"}],[\"density\",{\"type\":\"ndarray\",\"array\":{\"type\":\"bytes\",\"data\":\"9DML5JrJaj8=\"},\"shape\":[1],\"dtype\":\"float64\",\"order\":\"little\"}]]}}},\"view\":{\"type\":\"object\",\"name\":\"CDSView\",\"id\":\"p5157\",\"attributes\":{\"filter\":{\"type\":\"object\",\"name\":\"AllIndices\",\"id\":\"p5158\"}}},\"glyph\":{\"type\":\"object\",\"name\":\"VBar\",\"id\":\"p5155\",\"attributes\":{\"x\":{\"type\":\"field\",\"field\":\"rv\"},\"width\":{\"type\":\"value\",\"value\":38.37966380120557},\"top\":{\"type\":\"field\",\"field\":\"density\"},\"fill_color\":{\"type\":\"value\",\"value\":\"darkgreen\"}}}}},{\"type\":\"object\",\"name\":\"GlyphRenderer\",\"id\":\"p5165\",\"attributes\":{\"data_source\":{\"type\":\"object\",\"name\":\"ColumnDataSource\",\"id\":\"p5159\",\"attributes\":{\"selected\":{\"type\":\"object\",\"name\":\"Selection\",\"id\":\"p5160\",\"attributes\":{\"indices\":[],\"line_indices\":[]}},\"selection_policy\":{\"type\":\"object\",\"name\":\"UnionRenderers\",\"id\":\"p5161\"},\"data\":{\"type\":\"map\",\"entries\":[[\"x\",{\"type\":\"ndarray\",\"array\":{\"type\":\"bytes\",\"data\":\"6vBirFM/fcBxOdDbxAh8wPiBPQs20nrAfsqqOqebecAFExhqGGV4wIxbhZmJLnfAEqTyyPr3dcCZ7F/4a8F0wCA1zSfdinPAp306V05UcsAuxqeGvx1xwGgdKmxhzm/Adq4Ey0NhbcCEP98pJvRqwJDQuYgIh2jAnmGU5+oZZsCs8m5GzaxjwLqDSaWvP2HAkClICCSlXcCoS/3F6MpYwMRtsoOt8FPAwB/PguQsTsDwYzn+bXhEwFBQR/PuhzXAAMbeUA/4AMDQng8f60kxQDCLHRRsWUJAAEezmOINTEBogaSOLOFSQEhf79Bnu1dAMD06E6OVXECIjcIq77dgQHz858sMJWNAcGsNbSqSZUBg2jIOSP9nQFRJWK9lbGpARLh9UIPZbEA4J6PxoEZvQBZLZEnf2XBAjgL3GW4QckAIuonq/EZzQIJxHLuLfXRA+iivixq0dUB04EFcqep2QO6X1Cw4IXhAZk9n/cZXeUDgBvrNVY56QFi+jJ7kxHtA0nUfb3P7fEBKLbI/AjJ+QA==\"},\"shape\":[50],\"dtype\":\"float64\",\"order\":\"little\"}],[\"y\",{\"type\":\"ndarray\",\"array\":{\"type\":\"bytes\",\"data\":\"HcWzzEqSLz+UkIIrE2gyPwnSzaVXUzU/yGmpqMOMOD/3Um1O1BQ8P4yrGU186j8/w4qhWXkFQj/aEx/rxDhEP3euTJ3Ii0Y/ma+ujCL6SD8OhE3qZn5LP1LYF5ooEk4/tdWxqAVXUD9BzxS476RRP2aZpLBj7lI/Hacl7LIuVD/3lgTmCWFVP7caKE6OgFY/kGYZNn+IVz8W8gE1VnRYP3Rfe0PoP1k/jT3XA4XnWT/zjs4vE2haPwuO6Pkov1o/iXW7Vh/rWj+JdbtWH+taPwuO6Pkov1o/8o7OLxNoWj+MPdcDhedZP3Nfe0PoP1k/FvIBNVZ0WD+QZhk2f4hXP7YaKE6OgFY/9JYE5glhVT8bpyXssi5UP2OZpLBj7lI/Qc8UuO+kUT+z1bGoBVdQP0/YF5ooEk4/DoRN6mZ+Sz+Xr66MIvpIP3OuTJ3Ii0Y/2RMf68Q4RD/AiqFZeQVCP4arGU186j8/9FJtTtQUPD/Aaamow4w4PwnSzaVXUzU/kJCCKxNoMj8dxbPMSpIvPw==\"},\"shape\":[50],\"dtype\":\"float64\",\"order\":\"little\"}]]}}},\"view\":{\"type\":\"object\",\"name\":\"CDSView\",\"id\":\"p5166\",\"attributes\":{\"filter\":{\"type\":\"object\",\"name\":\"AllIndices\",\"id\":\"p5167\"}}},\"glyph\":{\"type\":\"object\",\"name\":\"Line\",\"id\":\"p5162\",\"attributes\":{\"x\":{\"type\":\"field\",\"field\":\"x\"},\"y\":{\"type\":\"field\",\"field\":\"y\"},\"line_color\":\"#1f77b4\"}},\"nonselection_glyph\":{\"type\":\"object\",\"name\":\"Line\",\"id\":\"p5163\",\"attributes\":{\"x\":{\"type\":\"field\",\"field\":\"x\"},\"y\":{\"type\":\"field\",\"field\":\"y\"},\"line_color\":\"#1f77b4\",\"line_alpha\":0.1}},\"muted_glyph\":{\"type\":\"object\",\"name\":\"Line\",\"id\":\"p5164\",\"attributes\":{\"x\":{\"type\":\"field\",\"field\":\"x\"},\"y\":{\"type\":\"field\",\"field\":\"y\"},\"line_color\":\"#1f77b4\",\"line_alpha\":0.2}}}}],\"toolbar\":{\"type\":\"object\",\"name\":\"Toolbar\",\"id\":\"p5123\",\"attributes\":{\"tools\":[{\"type\":\"object\",\"name\":\"PanTool\",\"id\":\"p5137\"},{\"type\":\"object\",\"name\":\"WheelZoomTool\",\"id\":\"p5138\",\"attributes\":{\"renderers\":\"auto\"}},{\"type\":\"object\",\"name\":\"BoxZoomTool\",\"id\":\"p5139\",\"attributes\":{\"overlay\":{\"type\":\"object\",\"name\":\"BoxAnnotation\",\"id\":\"p5140\",\"attributes\":{\"syncable\":false,\"level\":\"overlay\",\"visible\":false,\"left_units\":\"canvas\",\"right_units\":\"canvas\",\"top_units\":\"canvas\",\"bottom_units\":\"canvas\",\"line_color\":\"black\",\"line_alpha\":1.0,\"line_width\":2,\"line_dash\":[4,4],\"fill_color\":\"lightgrey\",\"fill_alpha\":0.5}}}},{\"type\":\"object\",\"name\":\"SaveTool\",\"id\":\"p5141\"},{\"type\":\"object\",\"name\":\"ResetTool\",\"id\":\"p5142\"},{\"type\":\"object\",\"name\":\"HelpTool\",\"id\":\"p5143\"}]}},\"left\":[{\"type\":\"object\",\"name\":\"LinearAxis\",\"id\":\"p5132\",\"attributes\":{\"ticker\":{\"type\":\"object\",\"name\":\"BasicTicker\",\"id\":\"p5133\",\"attributes\":{\"mantissas\":[1,2,5]}},\"formatter\":{\"type\":\"object\",\"name\":\"BasicTickFormatter\",\"id\":\"p5134\"},\"major_label_policy\":{\"type\":\"object\",\"name\":\"AllLabels\",\"id\":\"p5135\"}}}],\"below\":[{\"type\":\"object\",\"name\":\"LinearAxis\",\"id\":\"p5127\",\"attributes\":{\"ticker\":{\"type\":\"object\",\"name\":\"BasicTicker\",\"id\":\"p5128\",\"attributes\":{\"mantissas\":[1,2,5]}},\"formatter\":{\"type\":\"object\",\"name\":\"BasicTickFormatter\",\"id\":\"p5129\"},\"major_label_policy\":{\"type\":\"object\",\"name\":\"AllLabels\",\"id\":\"p5130\"}}}],\"center\":[{\"type\":\"object\",\"name\":\"Grid\",\"id\":\"p5131\",\"attributes\":{\"axis\":{\"id\":\"p5127\"}}},{\"type\":\"object\",\"name\":\"Grid\",\"id\":\"p5136\",\"attributes\":{\"dimension\":1,\"axis\":{\"id\":\"p5132\"}}},{\"type\":\"object\",\"name\":\"BoxAnnotation\",\"id\":\"p5144\",\"attributes\":{\"left\":-467.95792807244163,\"right\":483.12554902649265,\"top\":1,\"bottom\":0,\"fill_color\":\"#D55E00\",\"fill_alpha\":0.2}}]}}]}};\n  const render_items = [{\"docid\":\"fdec97b0-9ed4-47f2-b650-8fa7171f9e5f\",\"roots\":{\"p5114\":\"bfc1c4b0-537e-4bed-a11c-119d68b68a18\"},\"root_ids\":[\"p5114\"]}];\n  root.Bokeh.embed.embed_items_notebook(docs_json, render_items);\n  }\n  if (root.Bokeh !== undefined) {\n    embed_document(root);\n  } else {\n    let attempts = 0;\n    const timer = setInterval(function(root) {\n      if (root.Bokeh !== undefined) {\n        clearInterval(timer);\n        embed_document(root);\n      } else {\n        attempts++;\n        if (attempts > 100) {\n          clearInterval(timer);\n          console.log(\"Bokeh: ERROR: Unable to run BokehJS code because BokehJS library is missing\");\n        }\n      }\n    }, 10, root)\n  }\n})(window);",
      "application/vnd.bokehjs_exec.v0+json": ""
     },
     "metadata": {
      "application/vnd.bokehjs_exec.v0+json": {
       "id": "p5114"
      }
     },
     "output_type": "display_data"
    }
   ],
   "source": [
    "# Intervals for the quotient of two random variables. \n",
    "p = plot_intervals(quotient_rv_sample, bin_ct=300, subtitle='quotient distribution')\n",
    "show(p)"
   ]
  },
  {
   "cell_type": "code",
   "execution_count": 117,
   "id": "fa04f5d8",
   "metadata": {},
   "outputs": [
    {
     "name": "stdout",
     "output_type": "stream",
     "text": [
      "Limits  -2426.7831245765447 2405.618174562098\n"
     ]
    },
    {
     "data": {
      "text/html": [
       "\n",
       "  <div id=\"d7c1df62-ddf0-4712-946a-f50d5c32cec8\" data-root-id=\"p5238\" style=\"display: contents;\"></div>\n"
      ]
     },
     "metadata": {},
     "output_type": "display_data"
    },
    {
     "data": {
      "application/javascript": "(function(root) {\n  function embed_document(root) {\n  const docs_json = {\"4ad7d094-1565-49db-9ac7-b1a2bbeeccee\":{\"version\":\"3.3.0\",\"title\":\"Bokeh Application\",\"roots\":[{\"type\":\"object\",\"name\":\"Figure\",\"id\":\"p5238\",\"attributes\":{\"width\":800,\"height\":300,\"x_range\":{\"type\":\"object\",\"name\":\"Range1d\",\"id\":\"p5248\",\"attributes\":{\"start\":-2426.7831245765447,\"end\":2405.618174562098}},\"y_range\":{\"type\":\"object\",\"name\":\"DataRange1d\",\"id\":\"p5240\"},\"x_scale\":{\"type\":\"object\",\"name\":\"LinearScale\",\"id\":\"p5249\"},\"y_scale\":{\"type\":\"object\",\"name\":\"LinearScale\",\"id\":\"p5250\"},\"title\":{\"type\":\"object\",\"name\":\"Title\",\"id\":\"p5241\",\"attributes\":{\"text\":\"Normal versus Empirical Interval Estimates.\\ninverse random variable distribution\"}},\"renderers\":[{\"type\":\"object\",\"name\":\"GlyphRenderer\",\"id\":\"p5273\",\"attributes\":{\"data_source\":{\"type\":\"object\",\"name\":\"ColumnDataSource\",\"id\":\"p5269\",\"attributes\":{\"selected\":{\"type\":\"object\",\"name\":\"Selection\",\"id\":\"p5270\",\"attributes\":{\"indices\":[],\"line_indices\":[]}},\"selection_policy\":{\"type\":\"object\",\"name\":\"UnionRenderers\",\"id\":\"p5271\"},\"data\":{\"type\":\"map\",\"entries\":[[\"index\",{\"type\":\"ndarray\",\"array\":{\"type\":\"bytes\",\"data\":\"AAAAAAEAAAACAAAAAwAAAAQAAAAFAAAABgAAAAcAAAAIAAAACQAAAAoAAAALAAAADAAAAA0AAAAOAAAADwAAABAAAAARAAAAEgAAABMAAAAUAAAAFQAAABYAAAAXAAAAGAAAABkAAAAaAAAAGwAAABwAAAAdAAAAHgAAAB8AAAAgAAAAIQAAACIAAAAjAAAAJAAAACUAAAAmAAAAJwAAACgAAAApAAAAKgAAACsAAAAsAAAALQAAAC4AAAAvAAAAMAAAADEAAAAyAAAAMwAAADQAAAA1AAAANgAAADcAAAA4AAAAOQAAADoAAAA7AAAAPAAAAD0AAAA+AAAAPwAAAEAAAABBAAAAQgAAAEMAAABEAAAARQAAAEYAAABHAAAASAAAAEkAAABKAAAASwAAAEwAAABNAAAATgAAAE8AAABQAAAAUQAAAFIAAABTAAAAVAAAAFUAAABWAAAAVwAAAFgAAABZAAAAWgAAAFsAAABcAAAAXQAAAF4AAABfAAAAYAAAAGEAAABiAAAAYwAAAGQAAABlAAAAZgAAAGcAAABoAAAAaQAAAGoAAABrAAAAbAAAAG0AAABuAAAAbwAAAHAAAABxAAAAcgAAAHMAAAB0AAAAdQAAAHYAAAB3AAAAeAAAAHkAAAB6AAAAewAAAHwAAAB9AAAAfgAAAH8AAACAAAAAgQAAAIIAAACDAAAAhAAAAIUAAACGAAAAhwAAAIgAAACJAAAAigAAAIsAAACMAAAAjQAAAI4AAACPAAAAkAAAAJEAAACSAAAAkwAAAJQAAACVAAAAlgAAAJcAAACYAAAAmQAAAJoAAACbAAAAnAAAAJ0AAACeAAAAnwAAAKAAAAChAAAAogAAAKMAAACkAAAApQAAAKYAAACnAAAAqAAAAKkAAACqAAAAqwAAAKwAAACtAAAArgAAAK8AAACwAAAAsQAAALIAAACzAAAAtAAAALUAAAC2AAAAtwAAALgAAAC5AAAAugAAALsAAAC8AAAAvQAAAL4AAAC/AAAAwAAAAMEAAADCAAAAwwAAAMQAAADFAAAAxgAAAMcAAADIAAAAyQAAAMoAAADLAAAAzAAAAM0AAADOAAAAzwAAANAAAADRAAAA0gAAANMAAADUAAAA1QAAANYAAADXAAAA2AAAANkAAADaAAAA2wAAANwAAADdAAAA3gAAAN8AAADgAAAA4QAAAOIAAADjAAAA5AAAAOUAAADmAAAA5wAAAOgAAADpAAAA6gAAAOsAAADsAAAA7QAAAO4AAADvAAAA\"},\"shape\":[240],\"dtype\":\"int32\",\"order\":\"little\"}],[\"rv\",{\"type\":\"ndarray\",\"array\":{\"type\":\"bytes\",\"data\":\"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\"},\"shape\":[240],\"dtype\":\"float64\",\"order\":\"little\"}],[\"density\",{\"type\":\"ndarray\",\"array\":{\"type\":\"bytes\",\"data\":\"iVD3/LMS0z4AAAAAAAAAAAAAAAAAAAAAAAAAAAAAAAAAAAAAAAAAAAAAAAAAAAAAAAAAAAAAAAAAAAAAAAAAAAAAAAAAAAAAAAAAAAAAAAAAAAAAAAAAAAAAAAAAAAAAAAAAAAAAAAAAAAAAAAAAAAAAAAAAAAAAAAAAAAAAAAAAAAAAAAAAAAAAAAAAAAAAAAAAAAAAAAAAAAAAAAAAAAAAAAAAAAAAAAAAAAAAAAAAAAAAAAAAAAAAAAAAAAAAAAAAAAAAAAAAAAAAAAAAAAAAAAAAAAAAAAAAAAAAAAAAAAAAAAAAAAAAAAAAAAAAAAAAAAAAAAAAAAAAAAAAAAAAAAAAAAAAAAAAAAAAAAAAAAAAAAAAAAAAAAAAAAAAAAAAAAAAAAAAAAAAAAAAAAAAAAAAAAAAAAAAAAAAAAAAAAAAAAAAAAAAAAAAAAAAAAAAAAAAAAAAAAAAAAAAAAAAAAAAAAAAAAAAAAAAAAAAAAAAAAAAAAAAAAAAAAAAAAAAAAAAAAAAAAAAAAAAAAAAAAAAAAAAAAAAAAAAAAAAAAAAAAAAAAAAAAAAAAAAAAAAAAAAAAAAAAAAAAAAAAAAAAAAAAAAAAAAAAAAAAAAAAAAAAAAAAAAAAAAAAAAAAAAAAAAAAAAAAAAAAAAAAAAAAAAAAAAAAAAAAAAAAAAAAAAAAAAAAAAAAAAAAAAAAAAAAAAAAAAAAAAAAAAAAAAAAAAAAAAAAAAAAAAAAAAAAAAAAAAAAAAAAAAAAAAAAAAAAAAAAAAAAAAAAAAAAAAAAAAAAAAAAAAAAAAAAAAAAAAAAAAAAAAAAAAAAAAAAAAAAAAAAAAAAAAAAAAAAAAAAAAAAAAAAAAAAAAAAAAAAAAAAAAAAAAAAAAAAAAAAAAAAAAAAAAAAAAAAAAAAAAAAAAAAAAAAAAAAAAAAAAAAAAAAAAAAAAAAAAAAAAAAAAAAAAAAAAAAAAAAAAAAAAAAAAAAAAAAAAAAAAAAAAAAAAAAAAAAAAAAAAAAAAAAAAAAAAAAAAAAAAAAAAAAAAAAAAAAAAAAAAAAAAAAAAAAAAAAAAAAAAAAAAAAAAAAAAAAAAAAAAAAAAAAAAAAAAAAAAAAAAAAAAAAAAAAAAAAAAAAAAAAAAAAAAAAAAAAAAAAAAAAAAAAAAAAAAAAAAAAAAAAAAAAAAAAAAAAAAAAAAAAAAAAAAAAAAAAAAAAAAAAAAAAAAAAAAAAAAAAAAAAAAAAAAAAAAAAAAAAAAAAAAAAAAAAAAAAAAAAAAAAAAAAAAAAAAAAAAAAAAAAAAAAAAAAAAAAAAAAAAAAAwUPf8sxLTPgAAAAAAAAAAAAAAAAAAAAAAAAAAAAAAAAAAAAAAAAAAAAAAAAAAAAAAAAAAAAAAAAAAAAAAAAAAAAAAAAAAAAAAAAAAAAAAAAAAAAAAAAAAAAAAAAAAAAAAAAAAAAAAAAAAAAAAAAAAAAAAAAAAAAAAAAAAAAAAAAAAAAAAAAAAAAAAAAAAAAAAAAAAAAAAAAAAAAAAAAAAAAAAAAAAAAAAAAAAAAAAAAAAAAAAAAAAAAAAAAAAAAAAAAAAAAAAAAAAAAAAAAAAAAAAAAAAAAAAAAAAAAAAAAAAAAAAAAAAAAAAAAAAAAAAAAAAAAAAAAAAAAAAAAAAAAAAAAAAAAAAAAAAAAAAAAAAAAAAAAAAAAAAAAAAAAAAAAAAAAAAAAAAAAAAAAAAAAAAAAAAAAAAAAAAAAAAAAAAAAAAAAAAAAAAAAAAAAAAAAAAAAAAAAAAAAAAAAAAAAAAAAAAAAAAAAAAAAAAAAAAAAAAAAAAAAAAAAAAAAAAAAAAAAAAAAAAAAAAAAAAAAAAAAAAAAAAAAAAAAAAAAAAAAAAAAAAAAAAAAAAAAAAAAAAAAAAAAAAAAAAAAAAAAAAAAAAAAAAAAAAAAAAAAAAAAAAAAAAAAAAAAAAAAAAAAAAAAAAAAAAAAAAAAAAAAAAAAAAAAAAAAAAAAAAAAAAAAAAAAAAAAAAAAAAAAAAAAAAAAAAAAAAAAAAAAAAAAAAAAAAAAAAAAAAAAAAAAAAAAAAAAAAAAAAAAAAAAAAAAAAAAAAAAAAAAAAAAAAAAAAAAAAAAAAAAAAAAAAAAAAAAAAAAAAAAAAAAAAAAAAAAAAAAAAAAAAAAAAAAAAAAAAAAAAAADXT/f8sxLTPolQ9/yzEtM+10/3/LMS0z4AAAAAAAAAAAAAAAAAAAAAAAAAAAAAAAAAAAAAAAAAAAAAAAAAAAAAAAAAAAAAAACJUPf8sxLjPgAAAAAAAAAAAAAAAAAAAAAAAAAAAAAAAIlQ9/yzEuM+10/3/LMS0z6JUPf8sxLjPsP3cvsNnOw+mjqWfAp1BT/e4hF7ZP4eP8+R3MUjloA/8dbM1LkdRD/a2ie9iOERP3hmWH1dsAA/w/dy+w2c7D6JUPf8sxLjPtdP9/yzEuM+AAAAAAAAAADXT/f8sxLjPgAAAAAAAAAA10/3/LMS4z4AAAAAAAAAAAAAAAAAAAAAAAAAAAAAAAAAAAAAAAAAAFxQ9/yzEtM+\"},\"shape\":[240],\"dtype\":\"float64\",\"order\":\"little\"}]]}}},\"view\":{\"type\":\"object\",\"name\":\"CDSView\",\"id\":\"p5274\",\"attributes\":{\"filter\":{\"type\":\"object\",\"name\":\"AllIndices\",\"id\":\"p5275\"}}},\"glyph\":{\"type\":\"object\",\"name\":\"VBar\",\"id\":\"p5272\",\"attributes\":{\"x\":{\"type\":\"field\",\"field\":\"rv\"},\"width\":{\"type\":\"value\",\"value\":109.95362678131454},\"top\":{\"type\":\"field\",\"field\":\"density\"},\"fill_color\":{\"type\":\"value\",\"value\":\"limegreen\"}}}}},{\"type\":\"object\",\"name\":\"GlyphRenderer\",\"id\":\"p5280\",\"attributes\":{\"data_source\":{\"type\":\"object\",\"name\":\"ColumnDataSource\",\"id\":\"p5276\",\"attributes\":{\"selected\":{\"type\":\"object\",\"name\":\"Selection\",\"id\":\"p5277\",\"attributes\":{\"indices\":[],\"line_indices\":[]}},\"selection_policy\":{\"type\":\"object\",\"name\":\"UnionRenderers\",\"id\":\"p5278\"},\"data\":{\"type\":\"map\",\"entries\":[[\"index\",{\"type\":\"ndarray\",\"array\":{\"type\":\"bytes\",\"data\":\"4QAAAA==\"},\"shape\":[1],\"dtype\":\"int32\",\"order\":\"little\"}],[\"rv\",{\"type\":\"ndarray\",\"array\":{\"type\":\"bytes\",\"data\":\"AIgCyg3TPkA=\"},\"shape\":[1],\"dtype\":\"float64\",\"order\":\"little\"}],[\"density\",{\"type\":\"ndarray\",\"array\":{\"type\":\"bytes\",\"data\":\"8dbM1LkdRD8=\"},\"shape\":[1],\"dtype\":\"float64\",\"order\":\"little\"}]]}}},\"view\":{\"type\":\"object\",\"name\":\"CDSView\",\"id\":\"p5281\",\"attributes\":{\"filter\":{\"type\":\"object\",\"name\":\"AllIndices\",\"id\":\"p5282\"}}},\"glyph\":{\"type\":\"object\",\"name\":\"VBar\",\"id\":\"p5279\",\"attributes\":{\"x\":{\"type\":\"field\",\"field\":\"rv\"},\"width\":{\"type\":\"value\",\"value\":109.95362678131454},\"top\":{\"type\":\"field\",\"field\":\"density\"},\"fill_color\":{\"type\":\"value\",\"value\":\"darkgreen\"}}}}},{\"type\":\"object\",\"name\":\"GlyphRenderer\",\"id\":\"p5289\",\"attributes\":{\"data_source\":{\"type\":\"object\",\"name\":\"ColumnDataSource\",\"id\":\"p5283\",\"attributes\":{\"selected\":{\"type\":\"object\",\"name\":\"Selection\",\"id\":\"p5284\",\"attributes\":{\"indices\":[],\"line_indices\":[]}},\"selection_policy\":{\"type\":\"object\",\"name\":\"UnionRenderers\",\"id\":\"p5285\"},\"data\":{\"type\":\"map\",\"entries\":[[\"x\",{\"type\":\"ndarray\",\"array\":{\"type\":\"bytes\",\"data\":\"bV/eL7sKk8BpN0GGfUWSwGUPpNw/gJHAYecGMwK7kMC6ftMSieuPwLIumb8NYY7Aqt5ebJLWjMCijiQZF0yLwJo+6sWbwYnAku6vciA3iMCKnnUfpayGwIJOO8wpIoXAev4Aea6Xg8ByrsYlMw2CwGpejNK3goDAxByk/njwfcC0fC9Ygtt6wKTcurGLxnfAlDxGC5WxdMCEnNFknpxxwOj4uXxPD23AyLjQL2LlZsCoeOfidLtgwBBx/CsPI1XAoOFTJGmeQcCAe0Q9MCUsQGAf9kIBsU9A8I9NO1ssXEAYCJDqGkBkQDhIeTcIampALEQxwvpJcEA85KVo8V5zQEyEGg/oc3ZAXCSPtd6IeUBsxANc1Z18QHxkeALMsn9ARoJ2VOFjgUBO0rCnXO6CQFYi6/rXeIRAXnIlTlMDhkBmwl+hzo2HQG4SmvRJGIlAdmLUR8WiikB+sg6bQC2MQIYCSe67t41AjlKDQTdCj0BL0V5KWWaQQE/5+/OWK5FAUyGZndTwkUBXSTZHEraSQA==\"},\"shape\":[50],\"dtype\":\"float64\",\"order\":\"little\"}],[\"y\",{\"type\":\"ndarray\",\"array\":{\"type\":\"bytes\",\"data\":\"Z8jS9tPaGD/8/KNrNvscP4j8PYrlySA/cuh36LZTIz+vC2nNcRsmP6PSQTlCICk/Q39W5/ZfLD+hYQ354NYvP6RxnSLevzE/0PlyL9GpMz95S8ATBaU1PzutcLBqrDc/l6FRmja6OT+PjZkG98c7P2kQkzexzj0/zhP04wXHPz8NWdbardRAP3mU41EHt0E/rSDzTdGGQj+c/TPYe0BDP8VSceq+4EM/ED2iD7NkRD9re0/F58lEP3kaJ612DkU/C3zduxIxRT8LfN27EjFFP3kaJ612DkU/antPxefJRD8QPaIPs2REP8RSceq+4EM/nP0z2HtAQz+tIPNN0YZCP3mU41EHt0E/DVnW2q3UQD/OE/TjBcc/P2kQkzexzj0/j42ZBvfHOz+XoVGaNro5PzutcLBqrDc/eUvAEwWlNT/Q+XIv0akzP6RxnSLevzE/oWEN+eDWLz9Df1bn9l8sP6PSQTlCICk/rwtpzXEbJj9y6HfotlMjP4j8PYrlySA//Pyjazb7HD9nyNL209oYPw==\"},\"shape\":[50],\"dtype\":\"float64\",\"order\":\"little\"}]]}}},\"view\":{\"type\":\"object\",\"name\":\"CDSView\",\"id\":\"p5290\",\"attributes\":{\"filter\":{\"type\":\"object\",\"name\":\"AllIndices\",\"id\":\"p5291\"}}},\"glyph\":{\"type\":\"object\",\"name\":\"Line\",\"id\":\"p5286\",\"attributes\":{\"x\":{\"type\":\"field\",\"field\":\"x\"},\"y\":{\"type\":\"field\",\"field\":\"y\"},\"line_color\":\"#1f77b4\"}},\"nonselection_glyph\":{\"type\":\"object\",\"name\":\"Line\",\"id\":\"p5287\",\"attributes\":{\"x\":{\"type\":\"field\",\"field\":\"x\"},\"y\":{\"type\":\"field\",\"field\":\"y\"},\"line_color\":\"#1f77b4\",\"line_alpha\":0.1}},\"muted_glyph\":{\"type\":\"object\",\"name\":\"Line\",\"id\":\"p5288\",\"attributes\":{\"x\":{\"type\":\"field\",\"field\":\"x\"},\"y\":{\"type\":\"field\",\"field\":\"y\"},\"line_color\":\"#1f77b4\",\"line_alpha\":0.2}}}}],\"toolbar\":{\"type\":\"object\",\"name\":\"Toolbar\",\"id\":\"p5247\",\"attributes\":{\"tools\":[{\"type\":\"object\",\"name\":\"PanTool\",\"id\":\"p5261\"},{\"type\":\"object\",\"name\":\"WheelZoomTool\",\"id\":\"p5262\",\"attributes\":{\"renderers\":\"auto\"}},{\"type\":\"object\",\"name\":\"BoxZoomTool\",\"id\":\"p5263\",\"attributes\":{\"overlay\":{\"type\":\"object\",\"name\":\"BoxAnnotation\",\"id\":\"p5264\",\"attributes\":{\"syncable\":false,\"level\":\"overlay\",\"visible\":false,\"left_units\":\"canvas\",\"right_units\":\"canvas\",\"top_units\":\"canvas\",\"bottom_units\":\"canvas\",\"line_color\":\"black\",\"line_alpha\":1.0,\"line_width\":2,\"line_dash\":[4,4],\"fill_color\":\"lightgrey\",\"fill_alpha\":0.5}}}},{\"type\":\"object\",\"name\":\"SaveTool\",\"id\":\"p5265\"},{\"type\":\"object\",\"name\":\"ResetTool\",\"id\":\"p5266\"},{\"type\":\"object\",\"name\":\"HelpTool\",\"id\":\"p5267\"}]}},\"left\":[{\"type\":\"object\",\"name\":\"LinearAxis\",\"id\":\"p5256\",\"attributes\":{\"ticker\":{\"type\":\"object\",\"name\":\"BasicTicker\",\"id\":\"p5257\",\"attributes\":{\"mantissas\":[1,2,5]}},\"formatter\":{\"type\":\"object\",\"name\":\"BasicTickFormatter\",\"id\":\"p5258\"},\"major_label_policy\":{\"type\":\"object\",\"name\":\"AllLabels\",\"id\":\"p5259\"}}}],\"below\":[{\"type\":\"object\",\"name\":\"LinearAxis\",\"id\":\"p5251\",\"attributes\":{\"ticker\":{\"type\":\"object\",\"name\":\"BasicTicker\",\"id\":\"p5252\",\"attributes\":{\"mantissas\":[1,2,5]}},\"formatter\":{\"type\":\"object\",\"name\":\"BasicTickFormatter\",\"id\":\"p5253\"},\"major_label_policy\":{\"type\":\"object\",\"name\":\"AllLabels\",\"id\":\"p5254\"}}}],\"center\":[{\"type\":\"object\",\"name\":\"Grid\",\"id\":\"p5255\",\"attributes\":{\"axis\":{\"id\":\"p5251\"}}},{\"type\":\"object\",\"name\":\"Grid\",\"id\":\"p5260\",\"attributes\":{\"dimension\":1,\"axis\":{\"id\":\"p5256\"}}},{\"type\":\"object\",\"name\":\"BoxAnnotation\",\"id\":\"p5268\",\"attributes\":{\"left\":-1218.6827997918838,\"right\":1197.5178497774375,\"top\":1,\"bottom\":0,\"fill_color\":\"#D55E00\",\"fill_alpha\":0.2}}]}}]}};\n  const render_items = [{\"docid\":\"4ad7d094-1565-49db-9ac7-b1a2bbeeccee\",\"roots\":{\"p5238\":\"d7c1df62-ddf0-4712-946a-f50d5c32cec8\"},\"root_ids\":[\"p5238\"]}];\n  root.Bokeh.embed.embed_items_notebook(docs_json, render_items);\n  }\n  if (root.Bokeh !== undefined) {\n    embed_document(root);\n  } else {\n    let attempts = 0;\n    const timer = setInterval(function(root) {\n      if (root.Bokeh !== undefined) {\n        clearInterval(timer);\n        embed_document(root);\n      } else {\n        attempts++;\n        if (attempts > 100) {\n          clearInterval(timer);\n          console.log(\"Bokeh: ERROR: Unable to run BokehJS code because BokehJS library is missing\");\n        }\n      }\n    }, 10, root)\n  }\n})(window);",
      "application/vnd.bokehjs_exec.v0+json": ""
     },
     "metadata": {
      "application/vnd.bokehjs_exec.v0+json": {
       "id": "p5238"
      }
     },
     "output_type": "display_data"
    }
   ],
   "source": [
    "inverse_rv = np.divide(np.ones(np.array(pos_distances).shape), np.array(pos_distances))\n",
    "p = plot_intervals(inverse_rv, bin_ct= 240, subtitle='inverse random variable distribution')\n",
    "show(p)"
   ]
  },
  {
   "cell_type": "code",
   "execution_count": 118,
   "id": "563b8ade",
   "metadata": {},
   "outputs": [
    {
     "name": "stdout",
     "output_type": "stream",
     "text": [
      "Limits  -0.19106181221744112 0.30665547835379464\n"
     ]
    },
    {
     "data": {
      "text/html": [
       "\n",
       "  <div id=\"ca125b4d-55fc-4c38-8888-f1950599f99d\" data-root-id=\"p5300\" style=\"display: contents;\"></div>\n"
      ]
     },
     "metadata": {},
     "output_type": "display_data"
    },
    {
     "data": {
      "application/javascript": "(function(root) {\n  function embed_document(root) {\n  const docs_json = {\"36edb6ab-e6c1-4ba4-b04d-fd836f34d313\":{\"version\":\"3.3.0\",\"title\":\"Bokeh Application\",\"roots\":[{\"type\":\"object\",\"name\":\"Figure\",\"id\":\"p5300\",\"attributes\":{\"width\":800,\"height\":300,\"x_range\":{\"type\":\"object\",\"name\":\"Range1d\",\"id\":\"p5310\",\"attributes\":{\"start\":-0.19106181221744112,\"end\":0.30665547835379464}},\"y_range\":{\"type\":\"object\",\"name\":\"DataRange1d\",\"id\":\"p5302\"},\"x_scale\":{\"type\":\"object\",\"name\":\"LinearScale\",\"id\":\"p5311\"},\"y_scale\":{\"type\":\"object\",\"name\":\"LinearScale\",\"id\":\"p5312\"},\"title\":{\"type\":\"object\",\"name\":\"Title\",\"id\":\"p5303\",\"attributes\":{\"text\":\"Normal versus Empirical Interval Estimates.\\nsquared random variable distribution\"}},\"renderers\":[{\"type\":\"object\",\"name\":\"GlyphRenderer\",\"id\":\"p5335\",\"attributes\":{\"data_source\":{\"type\":\"object\",\"name\":\"ColumnDataSource\",\"id\":\"p5331\",\"attributes\":{\"selected\":{\"type\":\"object\",\"name\":\"Selection\",\"id\":\"p5332\",\"attributes\":{\"indices\":[],\"line_indices\":[]}},\"selection_policy\":{\"type\":\"object\",\"name\":\"UnionRenderers\",\"id\":\"p5333\"},\"data\":{\"type\":\"map\",\"entries\":[[\"index\",{\"type\":\"ndarray\",\"array\":{\"type\":\"bytes\",\"data\":\"AAAAAAEAAAACAAAAAwAAAAQAAAAFAAAABgAAAAcAAAAIAAAACQAAAAoAAAALAAAADAAAAA0AAAAOAAAADwAAABAAAAARAAAAEgAAABMAAAAUAAAAFQAAABYAAAAXAAAAGAAAABkAAAAaAAAAGwAAABwAAAAdAAAAHgAAAB8AAAAgAAAAIQAAACIAAAAjAAAAJAAAACUAAAAmAAAAJwAAACgAAAApAAAAKgAAACsAAAAsAAAALQAAAC4AAAAvAAAAMAAAADEAAAAyAAAAMwAAADQAAAA1AAAANgAAADcAAAA4AAAAOQAAADoAAAA7AAAAPAAAAD0AAAA+AAAAPwAAAEAAAABBAAAAQgAAAEMAAABEAAAARQAAAEYAAABHAAAASAAAAEkAAABKAAAASwAAAEwAAABNAAAATgAAAE8AAABQAAAAUQAAAFIAAABTAAAAVAAAAFUAAABWAAAAVwAAAFgAAABZAAAAWgAAAFsAAABcAAAAXQAAAF4AAABfAAAAYAAAAGEAAABiAAAAYwAAAGQAAABlAAAAZgAAAGcAAABoAAAAaQAAAGoAAABrAAAAbAAAAG0AAABuAAAAbwAAAHAAAABxAAAAcgAAAHMAAAB0AAAAdQAAAHYAAAB3AAAAeAAAAHkAAAB6AAAAewAAAHwAAAB9AAAAfgAAAH8AAACAAAAAgQAAAIIAAACDAAAAhAAAAIUAAACGAAAAhwAAAIgAAACJAAAAigAAAIsAAACMAAAAjQAAAI4AAACPAAAAkAAAAJEAAACSAAAAkwAAAJQAAACVAAAAlgAAAJcAAACYAAAAmQAAAJoAAACbAAAAnAAAAJ0AAACeAAAAnwAAAKAAAAChAAAAogAAAKMAAACkAAAApQAAAKYAAACnAAAAqAAAAKkAAACqAAAAqwAAAKwAAACtAAAArgAAAK8AAACwAAAAsQAAALIAAACzAAAA\"},\"shape\":[180],\"dtype\":\"int32\",\"order\":\"little\"}],[\"rv\",{\"type\":\"ndarray\",\"array\":{\"type\":\"bytes\",\"data\":\"RfwRtL8jHD4xT1t0UGBoP2BQzANQYHg/lHy15jtIgj/40ITLT2CIP1wlVLBjeI4/4LyRyjtIkj8SZ/m8RVSVP0QRYa9PYJg/drvIoVlsmz+oZTCUY3ieP+0HTMM2wqA/Bt1/vDtIoj8fsrO1QM6jPziH565FVKU/UVwbqErapj9qMU+hT2CoP4MGg5pU5qk/nNu2k1lsqz+1sOqMXvKsP86FHoZjeK4/51pSf2j+rz8AGEO8NsKwP40C3Tg5hbE/Ge12tTtIsj+l1xAyPguzPzLCqq5AzrM/v6xEK0ORtD9Ll96nRVS1P9eBeCRIF7Y/ZGwSoUratj/xVqwdTZ23P31BRppPYLg/CSzgFlIjuT+WFnqTVOa5PyMBFBBXqbo/r+utjFlsuz871kcJXC+8P8jA4YVe8rw/Vat7AmG1vT/hlRV/Y3i+P22Ar/tlO78/+mpJeGj+vz/EqnF6tWDAPwqgvrg2wsA/UJUL97cjwT+Xilg1OYXBP91/pXO65sE/I3XysTtIwj9paj/wvKnCP69fjC4+C8M/9lTZbL9swz88SiarQM7DP4I/c+nBL8Q/yTTAJ0ORxD8PKg1mxPLEP1UfWqRFVMU/mxSn4sa1xT/hCfQgSBfGPyj/QF/JeMY/bvSNnUraxj+06drbyzvHP/veJxpNncc/QdR0WM7+xz+HycGWT2DIP82+DtXQwcg/E7RbE1IjyT9aqahR04TJP6Ce9Y9U5sk/5pNCztVHyj8tiY8MV6nKP3N+3ErYCss/uXMpiVlsyz//aHbH2s3LP0VewwVcL8w/jFMQRN2QzD/SSF2CXvLMPxg+qsDfU80/XzP3/mC1zT+lKEQ94hbOP+sdkXtjeM4/MRPeueTZzj93CCv4ZTvPP779dzbnnM8/BPPEdGj+zz8l9IjZ9C/QP8hur3i1YNA/a+nVF3aR0D8OZPy2NsLQP7HeIlb38tA/VFlJ9bcj0T/302+UeFTRP5tOljM5hdE/Psm80vm10T/hQ+NxuubRP4S+CRF7F9I/JzkwsDtI0j/Ks1ZP/HjSP20ufe68qdI/EKmjjX3a0j+zI8osPgvTP1ee8Mv+O9M/+hgXa79s0z+dkz0KgJ3TP0AOZKlAztM/44iKSAH/0z+GA7HnwS/UPyl+14aCYNQ/zfj9JUOR1D9wcyTFA8LUPxPuSmTE8tQ/tmhxA4Uj1T9Z45eiRVTVP/xdvkEGhdU/n9jk4Ma11T9CUwuAh+bVP+XNMR9IF9Y/iUhYvghI1j8sw35dyXjWP889pfyJqdY/crjLm0ra1j8VM/I6CwvXP7itGNrLO9c/Wyg/eYxs1z//omUYTZ3XP6IdjLcNztc/RZiyVs7+1z/oEtn1ji/YP4uN/5RPYNg/LggmNBCR2D/RgkzT0MHYP3T9cnKR8tg/F3iZEVIj2T+78r+wElTZP15t5k/ThNk/AegM75O12T+kYjOOVObZP0fdWS0VF9o/6leAzNVH2j+N0qZrlnjaPzFNzQpXqdo/1MfzqRfa2j93QhpJ2ArbPxq9QOiYO9s/vTdnh1ls2z9gso0mGp3bPwMttMXazds/pqfaZJv+2z9JIgEEXC/cP+2cJ6McYNw/kBdOQt2Q3D8zknThncHcP9YMm4Be8tw/eYfBHx8j3T8cAui+31PdP798Dl6ghN0/Y/c0/WC13T8GclucIebdP6nsgTviFt4/TGeo2qJH3j/v4c55Y3jeP5Jc9Rgkqd4/NdcbuOTZ3j/YUUJXpQrfP3vMaPZlO98/H0ePlSZs3z/CwbU055zfP2U83NOnzd8/CLcCc2j+3z/WmBSJlBfgPyjWp9j0L+A/eRM7KFVI4D/LUM53tWDgPxyOYccVeeA/bsv0FnaR4D+/CIhm1qngPxFGG7Y2wuA/Y4OuBZfa4D+0wEFV9/LgPwb+1KRXC+E/\"},\"shape\":[180],\"dtype\":\"float64\",\"order\":\"little\"}],[\"density\",{\"type\":\"ndarray\",\"array\":{\"type\":\"bytes\",\"data\":\"F7xafZ4yU0Cfz0D8CkE/QM7SkbVS3DdADcme0eV9M0DyCfObAusuQNS4CZ+eojBAIQ1EVUqGJ0ASGojy/n8kQAh4tbDMeyJA/tXibpp3IEBREJUOkiEgQAMnzI+zeSFAjtyEmb86HEADJ8yPs3kRQLQ9AxHV0RJAGGtxExiCFUBREJUOkiEQQI7chJm/OgxAW7JnUMQlEkCO3ISZvzoMQKqbMM+izRBAtD0DEdXRAkDLxU0YnuIKQCVrcRMYggVAc1Q6kvYpBEDLxU0YnuL6PwlrcRMYgvU/JWtxExiC9T9T87sa4ZL9P/gmzI+zeQFAy8VNGJ7i+j9cEJUOkiEAQFwQlQ6SIQBAqD0DEdXR8j9HEJUOkiEAQCVrcRMYguU/JWtxExiC9T9HEJUOkiHwP0cQlQ6SIfA/wT0DEdXR8j/vxU0YnuLqPwlrcRMYguU/MhCVDpIh8D/vxU0YnuLqP+/FTRie4uo/MhCVDpIh4D8la3ETGILFP8E9AxHV0fI/78VNGJ7i6j9cEJUOkiHgP+1qcRMYguU/XBCVDpIh4D/vxU0YnuLqPzIQlQ6SIeA/JWtxExiC5T8la3ETGILFPyVrcRMYgtU/JWtxExiC1T8yEJUOkiHgPyVrcRMYguU/JWtxExiC1T8yEJUOkiHgPyVrcRMYgtU/JWtxExiCxT8la3ETGILFPyVrcRMYgsU/7WpxExiCxT8la3ETGILlPwAAAAAAAAAAMhCVDpIh4D8la3ETGILFPyVrcRMYgsU/AAAAAAAAAAAla3ETGILFPzIQlQ6SIeA/JWtxExiCxT8la3ETGILVP+1qcRMYgsU/AAAAAAAAAAAla3ETGILFPyVrcRMYgsU/JWtxExiCxT/tanETGILVPwAAAAAAAAAAAAAAAAAAAAAla3ETGILlPwAAAAAAAAAAJWtxExiCxT8AAAAAAAAAAAAAAAAAAAAAJWtxExiCxT+0anETGILFPyVrcRMYgsU/AAAAAAAAAAAAAAAAAAAAACVrcRMYgsU/JWtxExiCxT8la3ETGILFPwAAAAAAAAAAAAAAAAAAAAAAAAAAAAAAAAAAAAAAAAAAAAAAAAAAAAAAAAAAAAAAACVrcRMYgsU/JWtxExiCxT8AAAAAAAAAAAAAAAAAAAAAJWtxExiCxT8AAAAAAAAAAAAAAAAAAAAAAAAAAAAAAAAAAAAAAAAAAAAAAAAAAAAAJWtxExiCxT8la3ETGILFPwAAAAAAAAAAAAAAAAAAAAAAAAAAAAAAAAAAAAAAAAAAAAAAAAAAAAAAAAAAAAAAAAAAAAAAAAAAtGpxExiCxT8AAAAAAAAAAAAAAAAAAAAAAAAAAAAAAAAAAAAAAAAAAAAAAAAAAAAAAAAAAAAAAAAAAAAAAAAAAAAAAAAAAAAAAAAAAAAAAAAAAAAAAAAAAAAAAAAAAAAAAAAAAAAAAAAAAAAAAAAAAAAAAAAAAAAAAAAAAAAAAAC0anETGILFPwAAAAAAAAAAAAAAAAAAAAAAAAAAAAAAAAAAAAAAAAAAAAAAAAAAAAAAAAAAAAAAAAAAAAAAAAAAAAAAAAAAAAAAAAAAAAAAAAAAAAAAAAAAAAAAAAAAAAAAAAAAAAAAACVrcRMYgsU/AAAAAAAAAAAAAAAAAAAAAAAAAAAAAAAAAAAAAAAAAAAAAAAAAAAAAAAAAAAAAAAAAAAAAAAAAAAAAAAAAAAAAAAAAAAAAAAAAAAAAAAAAAAAAAAAAAAAAAAAAAAAAAAAAAAAAAAAAAAAAAAAAAAAAAAAAAAAAAAAAAAAAAAAAAAAAAAAAAAAAAAAAAAAAAAAAAAAAAAAAAAAAAAAAAAAAAAAAAAAAAAAAAAAAAAAAAAAAAAAAAAAAAAAAAAAAAAAAAAAAAAAAAAAAAAAAAAAAJdrcRMYgsU/\"},\"shape\":[180],\"dtype\":\"float64\",\"order\":\"little\"}]]}}},\"view\":{\"type\":\"object\",\"name\":\"CDSView\",\"id\":\"p5336\",\"attributes\":{\"filter\":{\"type\":\"object\",\"name\":\"AllIndices\",\"id\":\"p5337\"}}},\"glyph\":{\"type\":\"object\",\"name\":\"VBar\",\"id\":\"p5334\",\"attributes\":{\"x\":{\"type\":\"field\",\"field\":\"rv\"},\"width\":{\"type\":\"value\",\"value\":0.002975612087462838},\"top\":{\"type\":\"field\",\"field\":\"density\"},\"fill_color\":{\"type\":\"value\",\"value\":\"limegreen\"}}}}},{\"type\":\"object\",\"name\":\"GlyphRenderer\",\"id\":\"p5342\",\"attributes\":{\"data_source\":{\"type\":\"object\",\"name\":\"ColumnDataSource\",\"id\":\"p5338\",\"attributes\":{\"selected\":{\"type\":\"object\",\"name\":\"Selection\",\"id\":\"p5339\",\"attributes\":{\"indices\":[],\"line_indices\":[]}},\"selection_policy\":{\"type\":\"object\",\"name\":\"UnionRenderers\",\"id\":\"p5340\"},\"data\":{\"type\":\"map\",\"entries\":[[\"index\",{\"type\":\"ndarray\",\"array\":{\"type\":\"bytes\",\"data\":\"AQAAAAIAAAADAAAABAAAAAUAAAAGAAAABwAAAAgAAAAJAAAACgAAAAsAAAAMAAAADQAAAA4AAAAPAAAAEAAAABEAAAASAAAAEwAAABQAAAAVAAAAFgAAABcAAAAYAAAAGQAAABoAAAAbAAAAHAAAAB0AAAAeAAAAHwAAACAAAAAhAAAAIgAAACMAAAAkAAAAJQAAACYAAAAnAAAAKAAAACkAAAAqAAAAKwAAACwAAAAtAAAALgAAAC8AAAAwAAAAMQAAADIAAAAzAAAANAAAADUAAAA2AAAANwAAADgAAAA5AAAAOgAAADsAAAA8AAAAPQAAAA==\"},\"shape\":[61],\"dtype\":\"int32\",\"order\":\"little\"}],[\"rv\",{\"type\":\"ndarray\",\"array\":{\"type\":\"bytes\",\"data\":\"MU9bdFBgaD9gUMwDUGB4P5R8teY7SII/+NCEy09giD9cJVSwY3iOP+C8kco7SJI/Emf5vEVUlT9EEWGvT2CYP3a7yKFZbJs/qGUwlGN4nj/tB0zDNsKgPwbdf7w7SKI/H7KztUDOoz84h+euRVSlP1FcG6hK2qY/ajFPoU9gqD+DBoOaVOapP5zbtpNZbKs/tbDqjF7yrD/OhR6GY3iuP+daUn9o/q8/ABhDvDbCsD+NAt04OYWxPxntdrU7SLI/pdcQMj4Lsz8ywqquQM6zP7+sRCtDkbQ/S5fep0VUtT/XgXgkSBe2P2RsEqFK2rY/8VasHU2dtz99QUaaT2C4Pwks4BZSI7k/lhZ6k1TmuT8jARQQV6m6P6/rrYxZbLs/O9ZHCVwvvD/IwOGFXvK8P1WrewJhtb0/4ZUVf2N4vj9tgK/7ZTu/P/pqSXho/r8/xKpxerVgwD8KoL64NsLAP1CVC/e3I8E/l4pYNTmFwT/df6VzuubBPyN18rE7SMI/aWo/8Lypwj+vX4wuPgvDP/ZU2Wy/bMM/PEomq0DOwz+CP3PpwS/EP8k0wCdDkcQ/DyoNZsTyxD9VH1qkRVTFP5sUp+LGtcU/4Qn0IEgXxj8o/0BfyXjGP270jZ1K2sY/tOna28s7xz8=\"},\"shape\":[61],\"dtype\":\"float64\",\"order\":\"little\"}],[\"density\",{\"type\":\"ndarray\",\"array\":{\"type\":\"bytes\",\"data\":\"n89A/ApBP0DO0pG1Utw3QA3JntHlfTNA8gnzmwLrLkDUuAmfnqIwQCENRFVKhidAEhqI8v5/JEAIeLWwzHsiQP7V4m6adyBAURCVDpIhIEADJ8yPs3khQI7chJm/OhxAAyfMj7N5EUC0PQMR1dESQBhrcRMYghVAURCVDpIhEECO3ISZvzoMQFuyZ1DEJRJAjtyEmb86DECqmzDPos0QQLQ9AxHV0QJAy8VNGJ7iCkAla3ETGIIFQHNUOpL2KQRAy8VNGJ7i+j8Ja3ETGIL1PyVrcRMYgvU/U/O7GuGS/T/4JsyPs3kBQMvFTRie4vo/XBCVDpIhAEBcEJUOkiEAQKg9AxHV0fI/RxCVDpIhAEAla3ETGILlPyVrcRMYgvU/RxCVDpIh8D9HEJUOkiHwP8E9AxHV0fI/78VNGJ7i6j8Ja3ETGILlPzIQlQ6SIfA/78VNGJ7i6j/vxU0YnuLqPzIQlQ6SIeA/JWtxExiCxT/BPQMR1dHyP+/FTRie4uo/XBCVDpIh4D/tanETGILlP1wQlQ6SIeA/78VNGJ7i6j8yEJUOkiHgPyVrcRMYguU/JWtxExiCxT8la3ETGILVPyVrcRMYgtU/MhCVDpIh4D8la3ETGILlPyVrcRMYgtU/MhCVDpIh4D8=\"},\"shape\":[61],\"dtype\":\"float64\",\"order\":\"little\"}]]}}},\"view\":{\"type\":\"object\",\"name\":\"CDSView\",\"id\":\"p5343\",\"attributes\":{\"filter\":{\"type\":\"object\",\"name\":\"AllIndices\",\"id\":\"p5344\"}}},\"glyph\":{\"type\":\"object\",\"name\":\"VBar\",\"id\":\"p5341\",\"attributes\":{\"x\":{\"type\":\"field\",\"field\":\"rv\"},\"width\":{\"type\":\"value\",\"value\":0.002975612087462838},\"top\":{\"type\":\"field\",\"field\":\"density\"},\"fill_color\":{\"type\":\"value\",\"value\":\"darkgreen\"}}}}},{\"type\":\"object\",\"name\":\"GlyphRenderer\",\"id\":\"p5351\",\"attributes\":{\"data_source\":{\"type\":\"object\",\"name\":\"ColumnDataSource\",\"id\":\"p5345\",\"attributes\":{\"selected\":{\"type\":\"object\",\"name\":\"Selection\",\"id\":\"p5346\",\"attributes\":{\"indices\":[],\"line_indices\":[]}},\"selection_policy\":{\"type\":\"object\",\"name\":\"UnionRenderers\",\"id\":\"p5347\"},\"data\":{\"type\":\"map\",\"entries\":[[\"x\",{\"type\":\"ndarray\",\"array\":{\"type\":\"bytes\",\"data\":\"nviSq9MOsb/jUCX7WwGwv1BSb5XI562/2gKUNNnMq79ks7jT6bGpv+5j3XL6lqe/eRQCEgt8pb8DxSaxG2Gjv411S1AsRqG/Lkzg3nlWnr9CrSkdmyCav1YOc1u86pW/bG+8md20kb8AoQuw/f2KvyhjnixAkoK/oEpiUgVNdL+Adz5cUqxLv4BZpXbhw2o/cCgtwms5fj8Q0oNkc4iHP+gP8ecw9I8/4CavNfcvlD/MxWX31WWYP7hkHLm0m5w/0IFpvclooD9G0UQeuYOiP7wgIH+onqQ/MnD735e5pj+ov9ZAh9SoPx4PsqF276o/lF6NAmYKrT8MrmhjVSWvP8D+IWIioLA/eqaPEpqtsT82Tv3CEbuyP/D1anOJyLM/rJ3YIwHWtD9mRUbUeOO1PyLts4Tw8LY/3JQhNWj+tz+YPI/l3wu5P1Lk/JVXGbo/DoxqRs8muz/IM9j2RjS8P4TbRae+Qb0/PoOzVzZPvj/6KiEIrly/P1ppR9wSNcA/Nz1+tM67wD8VEbWMikLBPw==\"},\"shape\":[50],\"dtype\":\"float64\",\"order\":\"little\"}],[\"y\",{\"type\":\"ndarray\",\"array\":{\"type\":\"bytes\",\"data\":\"S07NcF4x8j/ZT+oPmzb1PxLUImfSk/g/GXIqKxxL/D++FvpEhC4AQOXIq5QwZAJANxR7MPjEBEAoy5byKE4HQOiqcAzo+wlAcni2hyjJDEBtQvf1qq8PQKG9u68DVBFApv2AEuHUEkB/hiAMtlUUQAsmhsdm0RVA0ysj141CF0CdOtdPm6MYQIrGunH37hlANAxXvScfG0C86FYl9S4cQGc1CO2RGR1AqnDMtb3aHUAqKYlC5m4eQCSGypBD0x5ARSviEu4FH0BFK+IS7gUfQCSGypBD0x5AKCmJQuZuHkCqcMy1vdodQGY1CO2RGR1AuuhWJfUuHEAzDFe9Jx8bQIjGunH37hlAnTrXT5ujGEDQKyPXjUIXQAsmhsdm0RVAfYYgDLZVFECm/YAS4dQSQKG9u68DVBFAaUL39aqvD0BweLaHKMkMQOiqcAzo+wlAI8uW8ihOB0A3FHsw+MQEQOHIq5QwZAJAvhb6RIQuAEAQciorHEv8PxLUImfSk/g/2U/qD5s29T9LTs1wXjHyPw==\"},\"shape\":[50],\"dtype\":\"float64\",\"order\":\"little\"}]]}}},\"view\":{\"type\":\"object\",\"name\":\"CDSView\",\"id\":\"p5352\",\"attributes\":{\"filter\":{\"type\":\"object\",\"name\":\"AllIndices\",\"id\":\"p5353\"}}},\"glyph\":{\"type\":\"object\",\"name\":\"Line\",\"id\":\"p5348\",\"attributes\":{\"x\":{\"type\":\"field\",\"field\":\"x\"},\"y\":{\"type\":\"field\",\"field\":\"y\"},\"line_color\":\"#1f77b4\"}},\"nonselection_glyph\":{\"type\":\"object\",\"name\":\"Line\",\"id\":\"p5349\",\"attributes\":{\"x\":{\"type\":\"field\",\"field\":\"x\"},\"y\":{\"type\":\"field\",\"field\":\"y\"},\"line_color\":\"#1f77b4\",\"line_alpha\":0.1}},\"muted_glyph\":{\"type\":\"object\",\"name\":\"Line\",\"id\":\"p5350\",\"attributes\":{\"x\":{\"type\":\"field\",\"field\":\"x\"},\"y\":{\"type\":\"field\",\"field\":\"y\"},\"line_color\":\"#1f77b4\",\"line_alpha\":0.2}}}}],\"toolbar\":{\"type\":\"object\",\"name\":\"Toolbar\",\"id\":\"p5309\",\"attributes\":{\"tools\":[{\"type\":\"object\",\"name\":\"PanTool\",\"id\":\"p5323\"},{\"type\":\"object\",\"name\":\"WheelZoomTool\",\"id\":\"p5324\",\"attributes\":{\"renderers\":\"auto\"}},{\"type\":\"object\",\"name\":\"BoxZoomTool\",\"id\":\"p5325\",\"attributes\":{\"overlay\":{\"type\":\"object\",\"name\":\"BoxAnnotation\",\"id\":\"p5326\",\"attributes\":{\"syncable\":false,\"level\":\"overlay\",\"visible\":false,\"left_units\":\"canvas\",\"right_units\":\"canvas\",\"top_units\":\"canvas\",\"bottom_units\":\"canvas\",\"line_color\":\"black\",\"line_alpha\":1.0,\"line_width\":2,\"line_dash\":[4,4],\"fill_color\":\"lightgrey\",\"fill_alpha\":0.5}}}},{\"type\":\"object\",\"name\":\"SaveTool\",\"id\":\"p5327\"},{\"type\":\"object\",\"name\":\"ResetTool\",\"id\":\"p5328\"},{\"type\":\"object\",\"name\":\"HelpTool\",\"id\":\"p5329\"}]}},\"left\":[{\"type\":\"object\",\"name\":\"LinearAxis\",\"id\":\"p5318\",\"attributes\":{\"ticker\":{\"type\":\"object\",\"name\":\"BasicTicker\",\"id\":\"p5319\",\"attributes\":{\"mantissas\":[1,2,5]}},\"formatter\":{\"type\":\"object\",\"name\":\"BasicTickFormatter\",\"id\":\"p5320\"},\"major_label_policy\":{\"type\":\"object\",\"name\":\"AllLabels\",\"id\":\"p5321\"}}}],\"below\":[{\"type\":\"object\",\"name\":\"LinearAxis\",\"id\":\"p5313\",\"attributes\":{\"ticker\":{\"type\":\"object\",\"name\":\"BasicTicker\",\"id\":\"p5314\",\"attributes\":{\"mantissas\":[1,2,5]}},\"formatter\":{\"type\":\"object\",\"name\":\"BasicTickFormatter\",\"id\":\"p5315\"},\"major_label_policy\":{\"type\":\"object\",\"name\":\"AllLabels\",\"id\":\"p5316\"}}}],\"center\":[{\"type\":\"object\",\"name\":\"Grid\",\"id\":\"p5317\",\"attributes\":{\"axis\":{\"id\":\"p5313\"}}},{\"type\":\"object\",\"name\":\"Grid\",\"id\":\"p5322\",\"attributes\":{\"dimension\":1,\"axis\":{\"id\":\"p5318\"}}},{\"type\":\"object\",\"name\":\"BoxAnnotation\",\"id\":\"p5330\",\"attributes\":{\"left\":-0.06663248957463216,\"right\":0.1348431765601467,\"top\":76.79092344151319,\"bottom\":0,\"fill_color\":\"#D55E00\",\"fill_alpha\":0.2}}]}}]}};\n  const render_items = [{\"docid\":\"36edb6ab-e6c1-4ba4-b04d-fd836f34d313\",\"roots\":{\"p5300\":\"ca125b4d-55fc-4c38-8888-f1950599f99d\"},\"root_ids\":[\"p5300\"]}];\n  root.Bokeh.embed.embed_items_notebook(docs_json, render_items);\n  }\n  if (root.Bokeh !== undefined) {\n    embed_document(root);\n  } else {\n    let attempts = 0;\n    const timer = setInterval(function(root) {\n      if (root.Bokeh !== undefined) {\n        clearInterval(timer);\n        embed_document(root);\n      } else {\n        attempts++;\n        if (attempts > 100) {\n          clearInterval(timer);\n          console.log(\"Bokeh: ERROR: Unable to run BokehJS code because BokehJS library is missing\");\n        }\n      }\n    }, 10, root)\n  }\n})(window);",
      "application/vnd.bokehjs_exec.v0+json": ""
     },
     "metadata": {
      "application/vnd.bokehjs_exec.v0+json": {
       "id": "p5300"
      }
     },
     "output_type": "display_data"
    }
   ],
   "source": [
    "squared_rv = np.multiply(np.array(pos_distances), np.array(pos_distances))\n",
    "p = plot_intervals(squared_rv, bin_ct=180, subtitle='squared random variable distribution')\n",
    "show(p)"
   ]
  },
  {
   "cell_type": "markdown",
   "id": "55235de0",
   "metadata": {},
   "source": [
    "## An application of the Bootstrap. \n",
    "\n",
    "The \"bootstrap\" uses resampling given only a single sample, to find the standard error of statistics that summarize the sample. \n",
    "\n",
    "The _non-parametric_ bootstrap gives a general purpose alternative to using normal distribution approximations of mean and standard deviation to computing interval estimates.  "
   ]
  },
  {
   "cell_type": "markdown",
   "id": "966499bb",
   "metadata": {},
   "source": [
    "### Estimating the error interval for a statistic\n",
    "\n",
    "In this example we consider the mean of the squared value of our existing sample.  The \"underlying\" distribution of this transformed random variable -- perhaps could be determined by theory; instead we estimate it by re-sampling the sample of squared values. \n",
    "By squaring the random variable it is limited to positive values, and the normal approximation fails. \n",
    "Here we show that by bootstrapping an interval for the mean of the squared value of a random variable we can still determine an error estimate fo the mean statistic. \n"
   ]
  },
  {
   "cell_type": "code",
   "execution_count": 122,
   "id": "70dab79b",
   "metadata": {},
   "outputs": [
    {
     "name": "stdout",
     "output_type": "stream",
     "text": [
      "Interval estimates:  {'mean': 0.02224072874084596, 'sd': 0.003931812761745101, 'normal_interval': (0.014534375727825562, 0.029947081753866355), 'quantile_interval': (0.015062368209781282, 0.030587791233485827)}\n",
      "Limits  0.00650766797499543 0.03861449898631596\n"
     ]
    },
    {
     "data": {
      "text/html": [
       "\n",
       "  <div id=\"a15e596a-6439-4ad8-a9fb-1d59bc475e70\" data-root-id=\"p5424\" style=\"display: contents;\"></div>\n"
      ]
     },
     "metadata": {},
     "output_type": "display_data"
    },
    {
     "data": {
      "application/javascript": "(function(root) {\n  function embed_document(root) {\n  const docs_json = {\"1adc1433-b8f7-4c79-9f51-52a06b656352\":{\"version\":\"3.3.0\",\"title\":\"Bokeh Application\",\"roots\":[{\"type\":\"object\",\"name\":\"Figure\",\"id\":\"p5424\",\"attributes\":{\"width\":800,\"height\":300,\"x_range\":{\"type\":\"object\",\"name\":\"Range1d\",\"id\":\"p5434\",\"attributes\":{\"start\":0.00650766797499543,\"end\":0.03861449898631596}},\"y_range\":{\"type\":\"object\",\"name\":\"DataRange1d\",\"id\":\"p5426\"},\"x_scale\":{\"type\":\"object\",\"name\":\"LinearScale\",\"id\":\"p5435\"},\"y_scale\":{\"type\":\"object\",\"name\":\"LinearScale\",\"id\":\"p5436\"},\"title\":{\"type\":\"object\",\"name\":\"Title\",\"id\":\"p5427\",\"attributes\":{\"text\":\"Normal versus Empirical Interval Estimates.\\nBootstrap applied to the squared rv mean\"}},\"renderers\":[{\"type\":\"object\",\"name\":\"GlyphRenderer\",\"id\":\"p5459\",\"attributes\":{\"data_source\":{\"type\":\"object\",\"name\":\"ColumnDataSource\",\"id\":\"p5455\",\"attributes\":{\"selected\":{\"type\":\"object\",\"name\":\"Selection\",\"id\":\"p5456\",\"attributes\":{\"indices\":[],\"line_indices\":[]}},\"selection_policy\":{\"type\":\"object\",\"name\":\"UnionRenderers\",\"id\":\"p5457\"},\"data\":{\"type\":\"map\",\"entries\":[[\"index\",{\"type\":\"ndarray\",\"array\":{\"type\":\"bytes\",\"data\":\"AAAAAAEAAAACAAAAAwAAAAQAAAAFAAAABgAAAAcAAAAIAAAACQAAAAoAAAALAAAADAAAAA0AAAAOAAAADwAAABAAAAARAAAAEgAAABMAAAAUAAAAFQAAABYAAAAXAAAAGAAAABkAAAAaAAAAGwAAABwAAAAdAAAAHgAAAB8AAAAgAAAAIQAAACIAAAAjAAAAJAAAACUAAAAmAAAAJwAAAA==\"},\"shape\":[40],\"dtype\":\"int32\",\"order\":\"little\"}],[\"rv\",{\"type\":\"ndarray\",\"array\":{\"type\":\"bytes\",\"data\":\"BRyLUbh6hz/bhwFbb7iIP7Dzd2Qm9ok/hl/ubd0ziz9cy2R3lHGMPzE324BLr40/B6NRigLtjj9uB+TJXBWQP1k9n044tJA/RHNa0xNTkT8uqRVY7/GRPxrf0NzKkJI/BBWMYaYvkz/vSkfmgc6TP9qAAmtdbZQ/xLa97zgMlT+w7Hh0FKuVP5oiNPnvSZY/hVjvfcvolj9wjqoCp4eXP1rEZYeCJpg/RvogDF7FmD8wMNyQOWSZPxtmlxUVA5o/BpxSmvChmj/x0Q0fzECbP9wHyaOn35s/xj2EKIN+nD+ycz+tXh2dP5yp+jE6vJ0/ht+1thVbnj9yFXE78fmeP1xLLMDMmJ8/pMBzItQboD+ZW9HkQWugP472LqevuqA/hJGMaR0KoT95LOori1mhP2/HR+74qKE/ZGKlsGb4oT8=\"},\"shape\":[40],\"dtype\":\"float64\",\"order\":\"little\"}],[\"density\",{\"type\":\"ndarray\",\"array\":{\"type\":\"bytes\",\"data\":\"RcUBtiZn+j9axQG2Jmf6P/RTgQhdzQNASxvBMXiAIECw4WEhmQ0sQEIaIvh9Wi9AhH6RqQhHNkBFxQG2Jmc6QO79wYwLtD1A8u8RV9LgTEC9/cGMC7RNQBNUgQhdzVNAykXR0iP6UkAJW1mj+TZUQE2QrSwQT1dA3a955VAqWUC+CAZ1dlJeQDyXhcesuFdAusGVaFgyWkBEt1GA7ZNZQOMs3bR/iFFA/kypbcBjU0AALd20f4hRQITaiYb8o0tAcNOx6186S0Bw07HrXzpLQOhF0dIj+kJAlO8RV9LgPECXfpGpCEc2QES3UYDtkzlA1FOBCF3NI0BwxQG2JmcqQNRTgQhdzSNAHv7BjAu0HUBwxQG2JmcaQBvFAbYmZwpAcMUBtiZn+j93jEHfQRoXQHDFAbYmZ+o/E1SBCF3NA0A=\"},\"shape\":[40],\"dtype\":\"float64\",\"order\":\"little\"}]]}}},\"view\":{\"type\":\"object\",\"name\":\"CDSView\",\"id\":\"p5460\",\"attributes\":{\"filter\":{\"type\":\"object\",\"name\":\"AllIndices\",\"id\":\"p5461\"}}},\"glyph\":{\"type\":\"object\",\"name\":\"VBar\",\"id\":\"p5458\",\"attributes\":{\"x\":{\"type\":\"field\",\"field\":\"rv\"},\"width\":{\"type\":\"value\",\"value\":0.0006059932482482086},\"top\":{\"type\":\"field\",\"field\":\"density\"},\"fill_color\":{\"type\":\"value\",\"value\":\"limegreen\"}}}}},{\"type\":\"object\",\"name\":\"GlyphRenderer\",\"id\":\"p5466\",\"attributes\":{\"data_source\":{\"type\":\"object\",\"name\":\"ColumnDataSource\",\"id\":\"p5462\",\"attributes\":{\"selected\":{\"type\":\"object\",\"name\":\"Selection\",\"id\":\"p5463\",\"attributes\":{\"indices\":[],\"line_indices\":[]}},\"selection_policy\":{\"type\":\"object\",\"name\":\"UnionRenderers\",\"id\":\"p5464\"},\"data\":{\"type\":\"map\",\"entries\":[[\"index\",{\"type\":\"ndarray\",\"array\":{\"type\":\"bytes\",\"data\":\"BgAAAAcAAAAIAAAACQAAAAoAAAALAAAADAAAAA0AAAAOAAAADwAAABAAAAARAAAAEgAAABMAAAAUAAAAFQAAABYAAAAXAAAAGAAAABkAAAAaAAAAGwAAABwAAAAdAAAAHgAAAB8AAAA=\"},\"shape\":[26],\"dtype\":\"int32\",\"order\":\"little\"}],[\"rv\",{\"type\":\"ndarray\",\"array\":{\"type\":\"bytes\",\"data\":\"B6NRigLtjj9uB+TJXBWQP1k9n044tJA/RHNa0xNTkT8uqRVY7/GRPxrf0NzKkJI/BBWMYaYvkz/vSkfmgc6TP9qAAmtdbZQ/xLa97zgMlT+w7Hh0FKuVP5oiNPnvSZY/hVjvfcvolj9wjqoCp4eXP1rEZYeCJpg/RvogDF7FmD8wMNyQOWSZPxtmlxUVA5o/BpxSmvChmj/x0Q0fzECbP9wHyaOn35s/xj2EKIN+nD+ycz+tXh2dP5yp+jE6vJ0/ht+1thVbnj9yFXE78fmePw==\"},\"shape\":[26],\"dtype\":\"float64\",\"order\":\"little\"}],[\"density\",{\"type\":\"ndarray\",\"array\":{\"type\":\"bytes\",\"data\":\"hH6RqQhHNkBFxQG2Jmc6QO79wYwLtD1A8u8RV9LgTEC9/cGMC7RNQBNUgQhdzVNAykXR0iP6UkAJW1mj+TZUQE2QrSwQT1dA3a955VAqWUC+CAZ1dlJeQDyXhcesuFdAusGVaFgyWkBEt1GA7ZNZQOMs3bR/iFFA/kypbcBjU0AALd20f4hRQITaiYb8o0tAcNOx6186S0Bw07HrXzpLQOhF0dIj+kJAlO8RV9LgPECXfpGpCEc2QES3UYDtkzlA1FOBCF3NI0BwxQG2JmcqQA==\"},\"shape\":[26],\"dtype\":\"float64\",\"order\":\"little\"}]]}}},\"view\":{\"type\":\"object\",\"name\":\"CDSView\",\"id\":\"p5467\",\"attributes\":{\"filter\":{\"type\":\"object\",\"name\":\"AllIndices\",\"id\":\"p5468\"}}},\"glyph\":{\"type\":\"object\",\"name\":\"VBar\",\"id\":\"p5465\",\"attributes\":{\"x\":{\"type\":\"field\",\"field\":\"rv\"},\"width\":{\"type\":\"value\",\"value\":0.0006059932482482086},\"top\":{\"type\":\"field\",\"field\":\"density\"},\"fill_color\":{\"type\":\"value\",\"value\":\"darkgreen\"}}}}},{\"type\":\"object\",\"name\":\"GlyphRenderer\",\"id\":\"p5475\",\"attributes\":{\"data_source\":{\"type\":\"object\",\"name\":\"ColumnDataSource\",\"id\":\"p5469\",\"attributes\":{\"selected\":{\"type\":\"object\",\"name\":\"Selection\",\"id\":\"p5470\",\"attributes\":{\"indices\":[],\"line_indices\":[]}},\"selection_policy\":{\"type\":\"object\",\"name\":\"UnionRenderers\",\"id\":\"p5471\"},\"data\":{\"type\":\"map\",\"entries\":[[\"x\",{\"type\":\"ndarray\",\"array\":{\"type\":\"bytes\",\"data\":\"/qxZ4zLEjT9tiPlnHGmOP9tjmewFDo8/Sj85ce+yjz9cjex67CuQPxN7PD1hfpA/y2iM/9XQkD+CVtzBSiORPzlELIS/dZE/8DF8RjTIkT+oH8wIqRqSP18NHMsdbZI/FvtrjZK/kj/O6LtPBxKTP4XWCxJ8ZJM/PMRb1PC2kz/zsauWZQmUP6qf+1jaW5Q/Yo1LG0+ulD8Ze5vdwwCVP9Bo6584U5U/iFY7Yq2llT8/RIskIviVP/Yx2+aWSpY/rh8rqQudlj9kDXtrgO+WPxz7yi31QZc/0+ga8GmUlz+K1mqy3uaXP0LEunRTOZg/+bEKN8iLmD+wn1r5PN6YP2iNqruxMJk/H3v6fSaDmT/WaEpAm9WZP45WmgIQKJo/RETqxIR6mj/8MTqH+cyaP7MfikluH5s/ag3aC+Nxmz8i+ynOV8SbP9noeZDMFpw/kNbJUkFpnD9IxBkVtrucP/6xadcqDp0/tp+5mZ9gnT9tjQlcFLOdPyR7WR6JBZ4/3Gip4P1Xnj+TVvmicqqePw==\"},\"shape\":[50],\"dtype\":\"float64\",\"order\":\"little\"}],[\"y\",{\"type\":\"ndarray\",\"array\":{\"type\":\"bytes\",\"data\":\"imauhCu6LUD770Rn0lQxQJ/DBy5wFDRA0LoBw6QdN0BiKb7x5XA6QCjbNSs2DT5AX0izEfv3QECzktMSXwpDQNxRkN+gOkVAzgs/HaCER0Da6k8OQuNJQKVzza95UExAtALpyFjFTkDLfOERFZ1QQNIoYV9K01FAIiJsq+MAU0D5+HidVSFUQLxKFXcOMFVA9gjjX5QoVkCw5/+ZpAZXQGFRdnJSxldAsai4tSRkWEDTrjF0MN1YQM7VFPcvL1lAQu826ZRYWUBC7zbplFhZQM7VFPcvL1lA064xdDDdWECxqLi1JGRYQGFRdnJSxldAsOf/maQGV0D2CONflChWQLxKFXcOMFVA+fh4nVUhVEAiImyr4wBTQM4oYV9K01FAy3zhERWdUEC0AunIWMVOQKVzza95UExA2upPDkLjSUDOCz8doIRHQNxRkN+gOkVAs5LTEl8KQ0BYSLMR+/dAQDPbNSs2DT5AYim+8eVwOkDQugHDpB03QKTDBy5wFDRA9+9EZ9JUMUCKZq6EK7otQA==\"},\"shape\":[50],\"dtype\":\"float64\",\"order\":\"little\"}]]}}},\"view\":{\"type\":\"object\",\"name\":\"CDSView\",\"id\":\"p5476\",\"attributes\":{\"filter\":{\"type\":\"object\",\"name\":\"AllIndices\",\"id\":\"p5477\"}}},\"glyph\":{\"type\":\"object\",\"name\":\"Line\",\"id\":\"p5472\",\"attributes\":{\"x\":{\"type\":\"field\",\"field\":\"x\"},\"y\":{\"type\":\"field\",\"field\":\"y\"},\"line_color\":\"#1f77b4\"}},\"nonselection_glyph\":{\"type\":\"object\",\"name\":\"Line\",\"id\":\"p5473\",\"attributes\":{\"x\":{\"type\":\"field\",\"field\":\"x\"},\"y\":{\"type\":\"field\",\"field\":\"y\"},\"line_color\":\"#1f77b4\",\"line_alpha\":0.1}},\"muted_glyph\":{\"type\":\"object\",\"name\":\"Line\",\"id\":\"p5474\",\"attributes\":{\"x\":{\"type\":\"field\",\"field\":\"x\"},\"y\":{\"type\":\"field\",\"field\":\"y\"},\"line_color\":\"#1f77b4\",\"line_alpha\":0.2}}}}],\"toolbar\":{\"type\":\"object\",\"name\":\"Toolbar\",\"id\":\"p5433\",\"attributes\":{\"tools\":[{\"type\":\"object\",\"name\":\"PanTool\",\"id\":\"p5447\"},{\"type\":\"object\",\"name\":\"WheelZoomTool\",\"id\":\"p5448\",\"attributes\":{\"renderers\":\"auto\"}},{\"type\":\"object\",\"name\":\"BoxZoomTool\",\"id\":\"p5449\",\"attributes\":{\"overlay\":{\"type\":\"object\",\"name\":\"BoxAnnotation\",\"id\":\"p5450\",\"attributes\":{\"syncable\":false,\"level\":\"overlay\",\"visible\":false,\"left_units\":\"canvas\",\"right_units\":\"canvas\",\"top_units\":\"canvas\",\"bottom_units\":\"canvas\",\"line_color\":\"black\",\"line_alpha\":1.0,\"line_width\":2,\"line_dash\":[4,4],\"fill_color\":\"lightgrey\",\"fill_alpha\":0.5}}}},{\"type\":\"object\",\"name\":\"SaveTool\",\"id\":\"p5451\"},{\"type\":\"object\",\"name\":\"ResetTool\",\"id\":\"p5452\"},{\"type\":\"object\",\"name\":\"HelpTool\",\"id\":\"p5453\"}]}},\"left\":[{\"type\":\"object\",\"name\":\"LinearAxis\",\"id\":\"p5442\",\"attributes\":{\"ticker\":{\"type\":\"object\",\"name\":\"BasicTicker\",\"id\":\"p5443\",\"attributes\":{\"mantissas\":[1,2,5]}},\"formatter\":{\"type\":\"object\",\"name\":\"BasicTickFormatter\",\"id\":\"p5444\"},\"major_label_policy\":{\"type\":\"object\",\"name\":\"AllLabels\",\"id\":\"p5445\"}}}],\"below\":[{\"type\":\"object\",\"name\":\"LinearAxis\",\"id\":\"p5437\",\"attributes\":{\"ticker\":{\"type\":\"object\",\"name\":\"BasicTicker\",\"id\":\"p5438\",\"attributes\":{\"mantissas\":[1,2,5]}},\"formatter\":{\"type\":\"object\",\"name\":\"BasicTickFormatter\",\"id\":\"p5439\"},\"major_label_policy\":{\"type\":\"object\",\"name\":\"AllLabels\",\"id\":\"p5440\"}}}],\"center\":[{\"type\":\"object\",\"name\":\"Grid\",\"id\":\"p5441\",\"attributes\":{\"axis\":{\"id\":\"p5437\"}}},{\"type\":\"object\",\"name\":\"Grid\",\"id\":\"p5446\",\"attributes\":{\"dimension\":1,\"axis\":{\"id\":\"p5442\"}}},{\"type\":\"object\",\"name\":\"BoxAnnotation\",\"id\":\"p5454\",\"attributes\":{\"left\":0.014534375727825562,\"right\":0.029947081753866355,\"top\":121.288480049031,\"bottom\":0,\"fill_color\":\"#D55E00\",\"fill_alpha\":0.2}}]}}]}};\n  const render_items = [{\"docid\":\"1adc1433-b8f7-4c79-9f51-52a06b656352\",\"roots\":{\"p5424\":\"a15e596a-6439-4ad8-a9fb-1d59bc475e70\"},\"root_ids\":[\"p5424\"]}];\n  root.Bokeh.embed.embed_items_notebook(docs_json, render_items);\n  }\n  if (root.Bokeh !== undefined) {\n    embed_document(root);\n  } else {\n    let attempts = 0;\n    const timer = setInterval(function(root) {\n      if (root.Bokeh !== undefined) {\n        clearInterval(timer);\n        embed_document(root);\n      } else {\n        attempts++;\n        if (attempts > 100) {\n          clearInterval(timer);\n          console.log(\"Bokeh: ERROR: Unable to run BokehJS code because BokehJS library is missing\");\n        }\n      }\n    }, 10, root)\n  }\n})(window);",
      "application/vnd.bokehjs_exec.v0+json": ""
     },
     "metadata": {
      "application/vnd.bokehjs_exec.v0+json": {
       "id": "p5424"
      }
     },
     "output_type": "display_data"
    }
   ],
   "source": [
    "# Create a large number of bootstrap replications \n",
    "\n",
    "def bootstrap_replicate(the_sample, B=1000):\n",
    "    replicates = np.zeros((len(the_sample), B))\n",
    "    for k in range(B):\n",
    "        replicates[:,k] = np.random.choice(the_sample, len(the_sample), replace=True)\n",
    "    return replicates\n",
    "\n",
    "bootstraps = bootstrap_replicate(squared_rv[1:80], B=2000)\n",
    "print('Interval estimates: ', interval_estimate(bootstraps.mean(axis=0)))\n",
    "p = plot_intervals(bootstraps.mean(axis=0), bin_ct=40, subtitle= 'Bootstrap applied to the squared rv mean')\n",
    "show(p)"
   ]
  }
 ],
 "metadata": {
  "kernelspec": {
   "display_name": "Python 3 (ipykernel)",
   "language": "python",
   "name": "python3"
  },
  "language_info": {
   "codemirror_mode": {
    "name": "ipython",
    "version": 3
   },
   "file_extension": ".py",
   "mimetype": "text/x-python",
   "name": "python",
   "nbconvert_exporter": "python",
   "pygments_lexer": "ipython3",
   "version": "3.10.1"
  }
 },
 "nbformat": 4,
 "nbformat_minor": 5
}
